{
 "cells": [
  {
   "cell_type": "code",
   "execution_count": null,
   "metadata": {},
   "outputs": [],
   "source": [
    "\"\"\"\n",
    "Data Science : la librairie pandas\n",
    "Lien : https://www.youtube.com/watch?v=vmEHCJofslg\n",
    "\n",
    "Cette-fois la recherche ne porte plus sur un filtre d'une ou plusieurs \n",
    "colonnes mais sur des str dans un champ\n",
    "Recours au module re pour les expressions rationnelles\n",
    "\n",
    "Éditeur : Laurent REYNAUD\n",
    "Date : 30-06-2021\n",
    "\"\"\""
   ]
  },
  {
   "cell_type": "code",
   "execution_count": 1,
   "metadata": {},
   "outputs": [],
   "source": [
    "import pandas as pd\n",
    "import re # expressions rationnelles"
   ]
  },
  {
   "cell_type": "code",
   "execution_count": 2,
   "metadata": {},
   "outputs": [],
   "source": [
    "# Récupération du fichier .csv\n",
    "df_csv = pd.read_csv('data/pokemon_data.csv')"
   ]
  },
  {
   "cell_type": "code",
   "execution_count": 3,
   "metadata": {},
   "outputs": [
    {
     "output_type": "execute_result",
     "data": {
      "text/plain": [
       "       #                       Name    Type 1    Type 2   HP  Attack  Defense  \\\n",
       "3      3      VenusaurMega Venusaur     Grass    Poison   80     100      123   \n",
       "7      6  CharizardMega Charizard X      Fire    Dragon   78     130      111   \n",
       "8      6  CharizardMega Charizard Y      Fire    Flying   78     104       78   \n",
       "12     9    BlastoiseMega Blastoise     Water       NaN   79     103      120   \n",
       "19    15      BeedrillMega Beedrill       Bug    Poison   65     150       40   \n",
       "23    18        PidgeotMega Pidgeot    Normal    Flying   83      80       80   \n",
       "71    65      AlakazamMega Alakazam   Psychic       NaN   55      50       65   \n",
       "87    80        SlowbroMega Slowbro     Water   Psychic   95      75      180   \n",
       "102   94          GengarMega Gengar     Ghost    Poison   60      65       80   \n",
       "124  115  KangaskhanMega Kangaskhan    Normal       NaN  105     125      100   \n",
       "137  127          PinsirMega Pinsir       Bug    Flying   65     155      120   \n",
       "141  130      GyaradosMega Gyarados     Water      Dark   95     155      109   \n",
       "154  142  AerodactylMega Aerodactyl      Rock    Flying   80     135       85   \n",
       "163  150        MewtwoMega Mewtwo X   Psychic  Fighting  106     190      100   \n",
       "164  150        MewtwoMega Mewtwo Y   Psychic       NaN  106     150       70   \n",
       "168  154                   Meganium     Grass       NaN   80      82      100   \n",
       "196  181      AmpharosMega Ampharos  Electric    Dragon   90      95      105   \n",
       "224  208        SteelixMega Steelix     Steel    Ground   75     125      230   \n",
       "229  212          ScizorMega Scizor       Bug     Steel   70     150      140   \n",
       "232  214    HeracrossMega Heracross       Bug  Fighting   80     185      115   \n",
       "248  229      HoundoomMega Houndoom      Dark      Fire   75      90       90   \n",
       "268  248    TyranitarMega Tyranitar      Rock      Dark  100     164      150   \n",
       "275  254      SceptileMega Sceptile     Grass    Dragon   70     110       75   \n",
       "279  257      BlazikenMega Blaziken      Fire  Fighting   80     160       80   \n",
       "283  260      SwampertMega Swampert     Water    Ground  100     150      110   \n",
       "306  282    GardevoirMega Gardevoir   Psychic     Fairy   68      85       65   \n",
       "327  302        SableyeMega Sableye      Dark     Ghost   50      85      125   \n",
       "329  303          MawileMega Mawile     Steel     Fairy   50     105      125   \n",
       "333  306          AggronMega Aggron     Steel       NaN   70     140      230   \n",
       "336  308      MedichamMega Medicham  Fighting   Psychic   60     100       85   \n",
       "339  310    ManectricMega Manectric  Electric       NaN   70      75       80   \n",
       "349  319      SharpedoMega Sharpedo     Water      Dark   70     140       70   \n",
       "354  323      CameruptMega Camerupt      Fire    Ground   70     120      100   \n",
       "366  334        AltariaMega Altaria    Dragon     Fairy   75     110      110   \n",
       "387  354        BanetteMega Banette     Ghost       NaN   64     165       75   \n",
       "393  359            AbsolMega Absol      Dark       NaN   65     150       60   \n",
       "397  362          GlalieMega Glalie       Ice       NaN   80     120       80   \n",
       "409  373    SalamenceMega Salamence    Dragon    Flying   95     145      130   \n",
       "413  376    MetagrossMega Metagross     Steel   Psychic   80     145      150   \n",
       "418  380          LatiasMega Latias    Dragon   Psychic   80     100      120   \n",
       "420  381          LatiosMega Latios    Dragon   Psychic   80     130      100   \n",
       "426  384      RayquazaMega Rayquaza    Dragon    Flying  105     180      100   \n",
       "476  428        LopunnyMega Lopunny    Normal  Fighting   65     136       94   \n",
       "494  445      GarchompMega Garchomp    Dragon    Ground  108     170      115   \n",
       "498  448        LucarioMega Lucario  Fighting     Steel   70     145       88   \n",
       "511  460    AbomasnowMega Abomasnow     Grass       Ice   90     132      105   \n",
       "527  475        GalladeMega Gallade   Psychic  Fighting   68     165       95   \n",
       "591  531          AudinoMega Audino    Normal     Fairy  103      60      126   \n",
       "796  719        DiancieMega Diancie      Rock     Fairy   50     160      110   \n",
       "\n",
       "     Sp. Atk  Sp. Def  Speed  Generation  Legendary  \n",
       "3        122      120     80           1      False  \n",
       "7        130       85    100           1      False  \n",
       "8        159      115    100           1      False  \n",
       "12       135      115     78           1      False  \n",
       "19        15       80    145           1      False  \n",
       "23       135       80    121           1      False  \n",
       "71       175       95    150           1      False  \n",
       "87       130       80     30           1      False  \n",
       "102      170       95    130           1      False  \n",
       "124       60      100    100           1      False  \n",
       "137       65       90    105           1      False  \n",
       "141       70      130     81           1      False  \n",
       "154       70       95    150           1      False  \n",
       "163      154      100    130           1       True  \n",
       "164      194      120    140           1       True  \n",
       "168       83      100     80           2      False  \n",
       "196      165      110     45           2      False  \n",
       "224       55       95     30           2      False  \n",
       "229       65      100     75           2      False  \n",
       "232       40      105     75           2      False  \n",
       "248      140       90    115           2      False  \n",
       "268       95      120     71           2      False  \n",
       "275      145       85    145           3      False  \n",
       "279      130       80    100           3      False  \n",
       "283       95      110     70           3      False  \n",
       "306      165      135    100           3      False  \n",
       "327       85      115     20           3      False  \n",
       "329       55       95     50           3      False  \n",
       "333       60       80     50           3      False  \n",
       "336       80       85    100           3      False  \n",
       "339      135       80    135           3      False  \n",
       "349      110       65    105           3      False  \n",
       "354      145      105     20           3      False  \n",
       "366      110      105     80           3      False  \n",
       "387       93       83     75           3      False  \n",
       "393      115       60    115           3      False  \n",
       "397      120       80    100           3      False  \n",
       "409      120       90    120           3      False  \n",
       "413      105      110    110           3      False  \n",
       "418      140      150    110           3       True  \n",
       "420      160      120    110           3       True  \n",
       "426      180      100    115           3       True  \n",
       "476       54       96    135           4      False  \n",
       "494      120       95     92           4      False  \n",
       "498      140       70    112           4      False  \n",
       "511      132      105     30           4      False  \n",
       "527       65      115    110           4      False  \n",
       "591       80      126     50           5      False  \n",
       "796      160      110    110           6       True  "
      ],
      "text/html": "<div>\n<style scoped>\n    .dataframe tbody tr th:only-of-type {\n        vertical-align: middle;\n    }\n\n    .dataframe tbody tr th {\n        vertical-align: top;\n    }\n\n    .dataframe thead th {\n        text-align: right;\n    }\n</style>\n<table border=\"1\" class=\"dataframe\">\n  <thead>\n    <tr style=\"text-align: right;\">\n      <th></th>\n      <th>#</th>\n      <th>Name</th>\n      <th>Type 1</th>\n      <th>Type 2</th>\n      <th>HP</th>\n      <th>Attack</th>\n      <th>Defense</th>\n      <th>Sp. Atk</th>\n      <th>Sp. Def</th>\n      <th>Speed</th>\n      <th>Generation</th>\n      <th>Legendary</th>\n    </tr>\n  </thead>\n  <tbody>\n    <tr>\n      <th>3</th>\n      <td>3</td>\n      <td>VenusaurMega Venusaur</td>\n      <td>Grass</td>\n      <td>Poison</td>\n      <td>80</td>\n      <td>100</td>\n      <td>123</td>\n      <td>122</td>\n      <td>120</td>\n      <td>80</td>\n      <td>1</td>\n      <td>False</td>\n    </tr>\n    <tr>\n      <th>7</th>\n      <td>6</td>\n      <td>CharizardMega Charizard X</td>\n      <td>Fire</td>\n      <td>Dragon</td>\n      <td>78</td>\n      <td>130</td>\n      <td>111</td>\n      <td>130</td>\n      <td>85</td>\n      <td>100</td>\n      <td>1</td>\n      <td>False</td>\n    </tr>\n    <tr>\n      <th>8</th>\n      <td>6</td>\n      <td>CharizardMega Charizard Y</td>\n      <td>Fire</td>\n      <td>Flying</td>\n      <td>78</td>\n      <td>104</td>\n      <td>78</td>\n      <td>159</td>\n      <td>115</td>\n      <td>100</td>\n      <td>1</td>\n      <td>False</td>\n    </tr>\n    <tr>\n      <th>12</th>\n      <td>9</td>\n      <td>BlastoiseMega Blastoise</td>\n      <td>Water</td>\n      <td>NaN</td>\n      <td>79</td>\n      <td>103</td>\n      <td>120</td>\n      <td>135</td>\n      <td>115</td>\n      <td>78</td>\n      <td>1</td>\n      <td>False</td>\n    </tr>\n    <tr>\n      <th>19</th>\n      <td>15</td>\n      <td>BeedrillMega Beedrill</td>\n      <td>Bug</td>\n      <td>Poison</td>\n      <td>65</td>\n      <td>150</td>\n      <td>40</td>\n      <td>15</td>\n      <td>80</td>\n      <td>145</td>\n      <td>1</td>\n      <td>False</td>\n    </tr>\n    <tr>\n      <th>23</th>\n      <td>18</td>\n      <td>PidgeotMega Pidgeot</td>\n      <td>Normal</td>\n      <td>Flying</td>\n      <td>83</td>\n      <td>80</td>\n      <td>80</td>\n      <td>135</td>\n      <td>80</td>\n      <td>121</td>\n      <td>1</td>\n      <td>False</td>\n    </tr>\n    <tr>\n      <th>71</th>\n      <td>65</td>\n      <td>AlakazamMega Alakazam</td>\n      <td>Psychic</td>\n      <td>NaN</td>\n      <td>55</td>\n      <td>50</td>\n      <td>65</td>\n      <td>175</td>\n      <td>95</td>\n      <td>150</td>\n      <td>1</td>\n      <td>False</td>\n    </tr>\n    <tr>\n      <th>87</th>\n      <td>80</td>\n      <td>SlowbroMega Slowbro</td>\n      <td>Water</td>\n      <td>Psychic</td>\n      <td>95</td>\n      <td>75</td>\n      <td>180</td>\n      <td>130</td>\n      <td>80</td>\n      <td>30</td>\n      <td>1</td>\n      <td>False</td>\n    </tr>\n    <tr>\n      <th>102</th>\n      <td>94</td>\n      <td>GengarMega Gengar</td>\n      <td>Ghost</td>\n      <td>Poison</td>\n      <td>60</td>\n      <td>65</td>\n      <td>80</td>\n      <td>170</td>\n      <td>95</td>\n      <td>130</td>\n      <td>1</td>\n      <td>False</td>\n    </tr>\n    <tr>\n      <th>124</th>\n      <td>115</td>\n      <td>KangaskhanMega Kangaskhan</td>\n      <td>Normal</td>\n      <td>NaN</td>\n      <td>105</td>\n      <td>125</td>\n      <td>100</td>\n      <td>60</td>\n      <td>100</td>\n      <td>100</td>\n      <td>1</td>\n      <td>False</td>\n    </tr>\n    <tr>\n      <th>137</th>\n      <td>127</td>\n      <td>PinsirMega Pinsir</td>\n      <td>Bug</td>\n      <td>Flying</td>\n      <td>65</td>\n      <td>155</td>\n      <td>120</td>\n      <td>65</td>\n      <td>90</td>\n      <td>105</td>\n      <td>1</td>\n      <td>False</td>\n    </tr>\n    <tr>\n      <th>141</th>\n      <td>130</td>\n      <td>GyaradosMega Gyarados</td>\n      <td>Water</td>\n      <td>Dark</td>\n      <td>95</td>\n      <td>155</td>\n      <td>109</td>\n      <td>70</td>\n      <td>130</td>\n      <td>81</td>\n      <td>1</td>\n      <td>False</td>\n    </tr>\n    <tr>\n      <th>154</th>\n      <td>142</td>\n      <td>AerodactylMega Aerodactyl</td>\n      <td>Rock</td>\n      <td>Flying</td>\n      <td>80</td>\n      <td>135</td>\n      <td>85</td>\n      <td>70</td>\n      <td>95</td>\n      <td>150</td>\n      <td>1</td>\n      <td>False</td>\n    </tr>\n    <tr>\n      <th>163</th>\n      <td>150</td>\n      <td>MewtwoMega Mewtwo X</td>\n      <td>Psychic</td>\n      <td>Fighting</td>\n      <td>106</td>\n      <td>190</td>\n      <td>100</td>\n      <td>154</td>\n      <td>100</td>\n      <td>130</td>\n      <td>1</td>\n      <td>True</td>\n    </tr>\n    <tr>\n      <th>164</th>\n      <td>150</td>\n      <td>MewtwoMega Mewtwo Y</td>\n      <td>Psychic</td>\n      <td>NaN</td>\n      <td>106</td>\n      <td>150</td>\n      <td>70</td>\n      <td>194</td>\n      <td>120</td>\n      <td>140</td>\n      <td>1</td>\n      <td>True</td>\n    </tr>\n    <tr>\n      <th>168</th>\n      <td>154</td>\n      <td>Meganium</td>\n      <td>Grass</td>\n      <td>NaN</td>\n      <td>80</td>\n      <td>82</td>\n      <td>100</td>\n      <td>83</td>\n      <td>100</td>\n      <td>80</td>\n      <td>2</td>\n      <td>False</td>\n    </tr>\n    <tr>\n      <th>196</th>\n      <td>181</td>\n      <td>AmpharosMega Ampharos</td>\n      <td>Electric</td>\n      <td>Dragon</td>\n      <td>90</td>\n      <td>95</td>\n      <td>105</td>\n      <td>165</td>\n      <td>110</td>\n      <td>45</td>\n      <td>2</td>\n      <td>False</td>\n    </tr>\n    <tr>\n      <th>224</th>\n      <td>208</td>\n      <td>SteelixMega Steelix</td>\n      <td>Steel</td>\n      <td>Ground</td>\n      <td>75</td>\n      <td>125</td>\n      <td>230</td>\n      <td>55</td>\n      <td>95</td>\n      <td>30</td>\n      <td>2</td>\n      <td>False</td>\n    </tr>\n    <tr>\n      <th>229</th>\n      <td>212</td>\n      <td>ScizorMega Scizor</td>\n      <td>Bug</td>\n      <td>Steel</td>\n      <td>70</td>\n      <td>150</td>\n      <td>140</td>\n      <td>65</td>\n      <td>100</td>\n      <td>75</td>\n      <td>2</td>\n      <td>False</td>\n    </tr>\n    <tr>\n      <th>232</th>\n      <td>214</td>\n      <td>HeracrossMega Heracross</td>\n      <td>Bug</td>\n      <td>Fighting</td>\n      <td>80</td>\n      <td>185</td>\n      <td>115</td>\n      <td>40</td>\n      <td>105</td>\n      <td>75</td>\n      <td>2</td>\n      <td>False</td>\n    </tr>\n    <tr>\n      <th>248</th>\n      <td>229</td>\n      <td>HoundoomMega Houndoom</td>\n      <td>Dark</td>\n      <td>Fire</td>\n      <td>75</td>\n      <td>90</td>\n      <td>90</td>\n      <td>140</td>\n      <td>90</td>\n      <td>115</td>\n      <td>2</td>\n      <td>False</td>\n    </tr>\n    <tr>\n      <th>268</th>\n      <td>248</td>\n      <td>TyranitarMega Tyranitar</td>\n      <td>Rock</td>\n      <td>Dark</td>\n      <td>100</td>\n      <td>164</td>\n      <td>150</td>\n      <td>95</td>\n      <td>120</td>\n      <td>71</td>\n      <td>2</td>\n      <td>False</td>\n    </tr>\n    <tr>\n      <th>275</th>\n      <td>254</td>\n      <td>SceptileMega Sceptile</td>\n      <td>Grass</td>\n      <td>Dragon</td>\n      <td>70</td>\n      <td>110</td>\n      <td>75</td>\n      <td>145</td>\n      <td>85</td>\n      <td>145</td>\n      <td>3</td>\n      <td>False</td>\n    </tr>\n    <tr>\n      <th>279</th>\n      <td>257</td>\n      <td>BlazikenMega Blaziken</td>\n      <td>Fire</td>\n      <td>Fighting</td>\n      <td>80</td>\n      <td>160</td>\n      <td>80</td>\n      <td>130</td>\n      <td>80</td>\n      <td>100</td>\n      <td>3</td>\n      <td>False</td>\n    </tr>\n    <tr>\n      <th>283</th>\n      <td>260</td>\n      <td>SwampertMega Swampert</td>\n      <td>Water</td>\n      <td>Ground</td>\n      <td>100</td>\n      <td>150</td>\n      <td>110</td>\n      <td>95</td>\n      <td>110</td>\n      <td>70</td>\n      <td>3</td>\n      <td>False</td>\n    </tr>\n    <tr>\n      <th>306</th>\n      <td>282</td>\n      <td>GardevoirMega Gardevoir</td>\n      <td>Psychic</td>\n      <td>Fairy</td>\n      <td>68</td>\n      <td>85</td>\n      <td>65</td>\n      <td>165</td>\n      <td>135</td>\n      <td>100</td>\n      <td>3</td>\n      <td>False</td>\n    </tr>\n    <tr>\n      <th>327</th>\n      <td>302</td>\n      <td>SableyeMega Sableye</td>\n      <td>Dark</td>\n      <td>Ghost</td>\n      <td>50</td>\n      <td>85</td>\n      <td>125</td>\n      <td>85</td>\n      <td>115</td>\n      <td>20</td>\n      <td>3</td>\n      <td>False</td>\n    </tr>\n    <tr>\n      <th>329</th>\n      <td>303</td>\n      <td>MawileMega Mawile</td>\n      <td>Steel</td>\n      <td>Fairy</td>\n      <td>50</td>\n      <td>105</td>\n      <td>125</td>\n      <td>55</td>\n      <td>95</td>\n      <td>50</td>\n      <td>3</td>\n      <td>False</td>\n    </tr>\n    <tr>\n      <th>333</th>\n      <td>306</td>\n      <td>AggronMega Aggron</td>\n      <td>Steel</td>\n      <td>NaN</td>\n      <td>70</td>\n      <td>140</td>\n      <td>230</td>\n      <td>60</td>\n      <td>80</td>\n      <td>50</td>\n      <td>3</td>\n      <td>False</td>\n    </tr>\n    <tr>\n      <th>336</th>\n      <td>308</td>\n      <td>MedichamMega Medicham</td>\n      <td>Fighting</td>\n      <td>Psychic</td>\n      <td>60</td>\n      <td>100</td>\n      <td>85</td>\n      <td>80</td>\n      <td>85</td>\n      <td>100</td>\n      <td>3</td>\n      <td>False</td>\n    </tr>\n    <tr>\n      <th>339</th>\n      <td>310</td>\n      <td>ManectricMega Manectric</td>\n      <td>Electric</td>\n      <td>NaN</td>\n      <td>70</td>\n      <td>75</td>\n      <td>80</td>\n      <td>135</td>\n      <td>80</td>\n      <td>135</td>\n      <td>3</td>\n      <td>False</td>\n    </tr>\n    <tr>\n      <th>349</th>\n      <td>319</td>\n      <td>SharpedoMega Sharpedo</td>\n      <td>Water</td>\n      <td>Dark</td>\n      <td>70</td>\n      <td>140</td>\n      <td>70</td>\n      <td>110</td>\n      <td>65</td>\n      <td>105</td>\n      <td>3</td>\n      <td>False</td>\n    </tr>\n    <tr>\n      <th>354</th>\n      <td>323</td>\n      <td>CameruptMega Camerupt</td>\n      <td>Fire</td>\n      <td>Ground</td>\n      <td>70</td>\n      <td>120</td>\n      <td>100</td>\n      <td>145</td>\n      <td>105</td>\n      <td>20</td>\n      <td>3</td>\n      <td>False</td>\n    </tr>\n    <tr>\n      <th>366</th>\n      <td>334</td>\n      <td>AltariaMega Altaria</td>\n      <td>Dragon</td>\n      <td>Fairy</td>\n      <td>75</td>\n      <td>110</td>\n      <td>110</td>\n      <td>110</td>\n      <td>105</td>\n      <td>80</td>\n      <td>3</td>\n      <td>False</td>\n    </tr>\n    <tr>\n      <th>387</th>\n      <td>354</td>\n      <td>BanetteMega Banette</td>\n      <td>Ghost</td>\n      <td>NaN</td>\n      <td>64</td>\n      <td>165</td>\n      <td>75</td>\n      <td>93</td>\n      <td>83</td>\n      <td>75</td>\n      <td>3</td>\n      <td>False</td>\n    </tr>\n    <tr>\n      <th>393</th>\n      <td>359</td>\n      <td>AbsolMega Absol</td>\n      <td>Dark</td>\n      <td>NaN</td>\n      <td>65</td>\n      <td>150</td>\n      <td>60</td>\n      <td>115</td>\n      <td>60</td>\n      <td>115</td>\n      <td>3</td>\n      <td>False</td>\n    </tr>\n    <tr>\n      <th>397</th>\n      <td>362</td>\n      <td>GlalieMega Glalie</td>\n      <td>Ice</td>\n      <td>NaN</td>\n      <td>80</td>\n      <td>120</td>\n      <td>80</td>\n      <td>120</td>\n      <td>80</td>\n      <td>100</td>\n      <td>3</td>\n      <td>False</td>\n    </tr>\n    <tr>\n      <th>409</th>\n      <td>373</td>\n      <td>SalamenceMega Salamence</td>\n      <td>Dragon</td>\n      <td>Flying</td>\n      <td>95</td>\n      <td>145</td>\n      <td>130</td>\n      <td>120</td>\n      <td>90</td>\n      <td>120</td>\n      <td>3</td>\n      <td>False</td>\n    </tr>\n    <tr>\n      <th>413</th>\n      <td>376</td>\n      <td>MetagrossMega Metagross</td>\n      <td>Steel</td>\n      <td>Psychic</td>\n      <td>80</td>\n      <td>145</td>\n      <td>150</td>\n      <td>105</td>\n      <td>110</td>\n      <td>110</td>\n      <td>3</td>\n      <td>False</td>\n    </tr>\n    <tr>\n      <th>418</th>\n      <td>380</td>\n      <td>LatiasMega Latias</td>\n      <td>Dragon</td>\n      <td>Psychic</td>\n      <td>80</td>\n      <td>100</td>\n      <td>120</td>\n      <td>140</td>\n      <td>150</td>\n      <td>110</td>\n      <td>3</td>\n      <td>True</td>\n    </tr>\n    <tr>\n      <th>420</th>\n      <td>381</td>\n      <td>LatiosMega Latios</td>\n      <td>Dragon</td>\n      <td>Psychic</td>\n      <td>80</td>\n      <td>130</td>\n      <td>100</td>\n      <td>160</td>\n      <td>120</td>\n      <td>110</td>\n      <td>3</td>\n      <td>True</td>\n    </tr>\n    <tr>\n      <th>426</th>\n      <td>384</td>\n      <td>RayquazaMega Rayquaza</td>\n      <td>Dragon</td>\n      <td>Flying</td>\n      <td>105</td>\n      <td>180</td>\n      <td>100</td>\n      <td>180</td>\n      <td>100</td>\n      <td>115</td>\n      <td>3</td>\n      <td>True</td>\n    </tr>\n    <tr>\n      <th>476</th>\n      <td>428</td>\n      <td>LopunnyMega Lopunny</td>\n      <td>Normal</td>\n      <td>Fighting</td>\n      <td>65</td>\n      <td>136</td>\n      <td>94</td>\n      <td>54</td>\n      <td>96</td>\n      <td>135</td>\n      <td>4</td>\n      <td>False</td>\n    </tr>\n    <tr>\n      <th>494</th>\n      <td>445</td>\n      <td>GarchompMega Garchomp</td>\n      <td>Dragon</td>\n      <td>Ground</td>\n      <td>108</td>\n      <td>170</td>\n      <td>115</td>\n      <td>120</td>\n      <td>95</td>\n      <td>92</td>\n      <td>4</td>\n      <td>False</td>\n    </tr>\n    <tr>\n      <th>498</th>\n      <td>448</td>\n      <td>LucarioMega Lucario</td>\n      <td>Fighting</td>\n      <td>Steel</td>\n      <td>70</td>\n      <td>145</td>\n      <td>88</td>\n      <td>140</td>\n      <td>70</td>\n      <td>112</td>\n      <td>4</td>\n      <td>False</td>\n    </tr>\n    <tr>\n      <th>511</th>\n      <td>460</td>\n      <td>AbomasnowMega Abomasnow</td>\n      <td>Grass</td>\n      <td>Ice</td>\n      <td>90</td>\n      <td>132</td>\n      <td>105</td>\n      <td>132</td>\n      <td>105</td>\n      <td>30</td>\n      <td>4</td>\n      <td>False</td>\n    </tr>\n    <tr>\n      <th>527</th>\n      <td>475</td>\n      <td>GalladeMega Gallade</td>\n      <td>Psychic</td>\n      <td>Fighting</td>\n      <td>68</td>\n      <td>165</td>\n      <td>95</td>\n      <td>65</td>\n      <td>115</td>\n      <td>110</td>\n      <td>4</td>\n      <td>False</td>\n    </tr>\n    <tr>\n      <th>591</th>\n      <td>531</td>\n      <td>AudinoMega Audino</td>\n      <td>Normal</td>\n      <td>Fairy</td>\n      <td>103</td>\n      <td>60</td>\n      <td>126</td>\n      <td>80</td>\n      <td>126</td>\n      <td>50</td>\n      <td>5</td>\n      <td>False</td>\n    </tr>\n    <tr>\n      <th>796</th>\n      <td>719</td>\n      <td>DiancieMega Diancie</td>\n      <td>Rock</td>\n      <td>Fairy</td>\n      <td>50</td>\n      <td>160</td>\n      <td>110</td>\n      <td>160</td>\n      <td>110</td>\n      <td>110</td>\n      <td>6</td>\n      <td>True</td>\n    </tr>\n  </tbody>\n</table>\n</div>"
     },
     "metadata": {},
     "execution_count": 3
    }
   ],
   "source": [
    "# Recherche de caractères dans un champ\n",
    "# Affichage de tous les Pokemon contenant le mot 'Mega'\n",
    "df_csv.loc[df_csv['Name'].str.contains('Mega')]"
   ]
  },
  {
   "cell_type": "code",
   "execution_count": 4,
   "metadata": {},
   "outputs": [
    {
     "output_type": "execute_result",
     "data": {
      "text/plain": [
       "       #                 Name   Type 1  Type 2   HP  Attack  Defense  Sp. Atk  \\\n",
       "0      1            Bulbasaur    Grass  Poison   45      49       49       65   \n",
       "1      2              Ivysaur    Grass  Poison   60      62       63       80   \n",
       "2      3             Venusaur    Grass  Poison   80      82       83      100   \n",
       "4      4           Charmander     Fire     NaN   39      52       43       60   \n",
       "5      5           Charmeleon     Fire     NaN   58      64       58       80   \n",
       "..   ...                  ...      ...     ...  ...     ...      ...      ...   \n",
       "794  718     Zygarde50% Forme   Dragon  Ground  108     100      121       81   \n",
       "795  719              Diancie     Rock   Fairy   50     100      150      100   \n",
       "797  720  HoopaHoopa Confined  Psychic   Ghost   80     110       60      150   \n",
       "798  720   HoopaHoopa Unbound  Psychic    Dark   80     160       60      170   \n",
       "799  721            Volcanion     Fire   Water   80     110      120      130   \n",
       "\n",
       "     Sp. Def  Speed  Generation  Legendary  \n",
       "0         65     45           1      False  \n",
       "1         80     60           1      False  \n",
       "2        100     80           1      False  \n",
       "4         50     65           1      False  \n",
       "5         65     80           1      False  \n",
       "..       ...    ...         ...        ...  \n",
       "794       95     95           6       True  \n",
       "795      150     50           6       True  \n",
       "797      130     70           6       True  \n",
       "798      130     80           6       True  \n",
       "799       90     70           6       True  \n",
       "\n",
       "[751 rows x 12 columns]"
      ],
      "text/html": "<div>\n<style scoped>\n    .dataframe tbody tr th:only-of-type {\n        vertical-align: middle;\n    }\n\n    .dataframe tbody tr th {\n        vertical-align: top;\n    }\n\n    .dataframe thead th {\n        text-align: right;\n    }\n</style>\n<table border=\"1\" class=\"dataframe\">\n  <thead>\n    <tr style=\"text-align: right;\">\n      <th></th>\n      <th>#</th>\n      <th>Name</th>\n      <th>Type 1</th>\n      <th>Type 2</th>\n      <th>HP</th>\n      <th>Attack</th>\n      <th>Defense</th>\n      <th>Sp. Atk</th>\n      <th>Sp. Def</th>\n      <th>Speed</th>\n      <th>Generation</th>\n      <th>Legendary</th>\n    </tr>\n  </thead>\n  <tbody>\n    <tr>\n      <th>0</th>\n      <td>1</td>\n      <td>Bulbasaur</td>\n      <td>Grass</td>\n      <td>Poison</td>\n      <td>45</td>\n      <td>49</td>\n      <td>49</td>\n      <td>65</td>\n      <td>65</td>\n      <td>45</td>\n      <td>1</td>\n      <td>False</td>\n    </tr>\n    <tr>\n      <th>1</th>\n      <td>2</td>\n      <td>Ivysaur</td>\n      <td>Grass</td>\n      <td>Poison</td>\n      <td>60</td>\n      <td>62</td>\n      <td>63</td>\n      <td>80</td>\n      <td>80</td>\n      <td>60</td>\n      <td>1</td>\n      <td>False</td>\n    </tr>\n    <tr>\n      <th>2</th>\n      <td>3</td>\n      <td>Venusaur</td>\n      <td>Grass</td>\n      <td>Poison</td>\n      <td>80</td>\n      <td>82</td>\n      <td>83</td>\n      <td>100</td>\n      <td>100</td>\n      <td>80</td>\n      <td>1</td>\n      <td>False</td>\n    </tr>\n    <tr>\n      <th>4</th>\n      <td>4</td>\n      <td>Charmander</td>\n      <td>Fire</td>\n      <td>NaN</td>\n      <td>39</td>\n      <td>52</td>\n      <td>43</td>\n      <td>60</td>\n      <td>50</td>\n      <td>65</td>\n      <td>1</td>\n      <td>False</td>\n    </tr>\n    <tr>\n      <th>5</th>\n      <td>5</td>\n      <td>Charmeleon</td>\n      <td>Fire</td>\n      <td>NaN</td>\n      <td>58</td>\n      <td>64</td>\n      <td>58</td>\n      <td>80</td>\n      <td>65</td>\n      <td>80</td>\n      <td>1</td>\n      <td>False</td>\n    </tr>\n    <tr>\n      <th>...</th>\n      <td>...</td>\n      <td>...</td>\n      <td>...</td>\n      <td>...</td>\n      <td>...</td>\n      <td>...</td>\n      <td>...</td>\n      <td>...</td>\n      <td>...</td>\n      <td>...</td>\n      <td>...</td>\n      <td>...</td>\n    </tr>\n    <tr>\n      <th>794</th>\n      <td>718</td>\n      <td>Zygarde50% Forme</td>\n      <td>Dragon</td>\n      <td>Ground</td>\n      <td>108</td>\n      <td>100</td>\n      <td>121</td>\n      <td>81</td>\n      <td>95</td>\n      <td>95</td>\n      <td>6</td>\n      <td>True</td>\n    </tr>\n    <tr>\n      <th>795</th>\n      <td>719</td>\n      <td>Diancie</td>\n      <td>Rock</td>\n      <td>Fairy</td>\n      <td>50</td>\n      <td>100</td>\n      <td>150</td>\n      <td>100</td>\n      <td>150</td>\n      <td>50</td>\n      <td>6</td>\n      <td>True</td>\n    </tr>\n    <tr>\n      <th>797</th>\n      <td>720</td>\n      <td>HoopaHoopa Confined</td>\n      <td>Psychic</td>\n      <td>Ghost</td>\n      <td>80</td>\n      <td>110</td>\n      <td>60</td>\n      <td>150</td>\n      <td>130</td>\n      <td>70</td>\n      <td>6</td>\n      <td>True</td>\n    </tr>\n    <tr>\n      <th>798</th>\n      <td>720</td>\n      <td>HoopaHoopa Unbound</td>\n      <td>Psychic</td>\n      <td>Dark</td>\n      <td>80</td>\n      <td>160</td>\n      <td>60</td>\n      <td>170</td>\n      <td>130</td>\n      <td>80</td>\n      <td>6</td>\n      <td>True</td>\n    </tr>\n    <tr>\n      <th>799</th>\n      <td>721</td>\n      <td>Volcanion</td>\n      <td>Fire</td>\n      <td>Water</td>\n      <td>80</td>\n      <td>110</td>\n      <td>120</td>\n      <td>130</td>\n      <td>90</td>\n      <td>70</td>\n      <td>6</td>\n      <td>True</td>\n    </tr>\n  </tbody>\n</table>\n<p>751 rows × 12 columns</p>\n</div>"
     },
     "metadata": {},
     "execution_count": 4
    }
   ],
   "source": [
    "# Recherche de données ne contenant pas telles str avec '~'\n",
    "#Affichage de tous les Pokemon NE contenant PAS le mot 'Mega'\n",
    "df_csv.loc[~df_csv['Name'].str.contains('Mega')]"
   ]
  },
  {
   "cell_type": "code",
   "execution_count": 6,
   "metadata": {},
   "outputs": [
    {
     "output_type": "execute_result",
     "data": {
      "text/plain": [
       "       #                   Name Type 1  Type 2   HP  Attack  Defense  Sp. Atk  \\\n",
       "0      1              Bulbasaur  Grass  Poison   45      49       49       65   \n",
       "1      2                Ivysaur  Grass  Poison   60      62       63       80   \n",
       "2      3               Venusaur  Grass  Poison   80      82       83      100   \n",
       "3      3  VenusaurMega Venusaur  Grass  Poison   80     100      123      122   \n",
       "4      4             Charmander   Fire     NaN   39      52       43       60   \n",
       "..   ...                    ...    ...     ...  ...     ...      ...      ...   \n",
       "735  667                 Litleo   Fire  Normal   62      50       58       73   \n",
       "736  668                 Pyroar   Fire  Normal   86      68       72      109   \n",
       "740  672                 Skiddo  Grass     NaN   66      65       48       62   \n",
       "741  673                 Gogoat  Grass     NaN  123     100       62       97   \n",
       "799  721              Volcanion   Fire   Water   80     110      120      130   \n",
       "\n",
       "     Sp. Def  Speed  Generation  Legendary  \n",
       "0         65     45           1      False  \n",
       "1         80     60           1      False  \n",
       "2        100     80           1      False  \n",
       "3        120     80           1      False  \n",
       "4         50     65           1      False  \n",
       "..       ...    ...         ...        ...  \n",
       "735       54     72           6      False  \n",
       "736       66    106           6      False  \n",
       "740       57     52           6      False  \n",
       "741       81     68           6      False  \n",
       "799       90     70           6       True  \n",
       "\n",
       "[122 rows x 12 columns]"
      ],
      "text/html": "<div>\n<style scoped>\n    .dataframe tbody tr th:only-of-type {\n        vertical-align: middle;\n    }\n\n    .dataframe tbody tr th {\n        vertical-align: top;\n    }\n\n    .dataframe thead th {\n        text-align: right;\n    }\n</style>\n<table border=\"1\" class=\"dataframe\">\n  <thead>\n    <tr style=\"text-align: right;\">\n      <th></th>\n      <th>#</th>\n      <th>Name</th>\n      <th>Type 1</th>\n      <th>Type 2</th>\n      <th>HP</th>\n      <th>Attack</th>\n      <th>Defense</th>\n      <th>Sp. Atk</th>\n      <th>Sp. Def</th>\n      <th>Speed</th>\n      <th>Generation</th>\n      <th>Legendary</th>\n    </tr>\n  </thead>\n  <tbody>\n    <tr>\n      <th>0</th>\n      <td>1</td>\n      <td>Bulbasaur</td>\n      <td>Grass</td>\n      <td>Poison</td>\n      <td>45</td>\n      <td>49</td>\n      <td>49</td>\n      <td>65</td>\n      <td>65</td>\n      <td>45</td>\n      <td>1</td>\n      <td>False</td>\n    </tr>\n    <tr>\n      <th>1</th>\n      <td>2</td>\n      <td>Ivysaur</td>\n      <td>Grass</td>\n      <td>Poison</td>\n      <td>60</td>\n      <td>62</td>\n      <td>63</td>\n      <td>80</td>\n      <td>80</td>\n      <td>60</td>\n      <td>1</td>\n      <td>False</td>\n    </tr>\n    <tr>\n      <th>2</th>\n      <td>3</td>\n      <td>Venusaur</td>\n      <td>Grass</td>\n      <td>Poison</td>\n      <td>80</td>\n      <td>82</td>\n      <td>83</td>\n      <td>100</td>\n      <td>100</td>\n      <td>80</td>\n      <td>1</td>\n      <td>False</td>\n    </tr>\n    <tr>\n      <th>3</th>\n      <td>3</td>\n      <td>VenusaurMega Venusaur</td>\n      <td>Grass</td>\n      <td>Poison</td>\n      <td>80</td>\n      <td>100</td>\n      <td>123</td>\n      <td>122</td>\n      <td>120</td>\n      <td>80</td>\n      <td>1</td>\n      <td>False</td>\n    </tr>\n    <tr>\n      <th>4</th>\n      <td>4</td>\n      <td>Charmander</td>\n      <td>Fire</td>\n      <td>NaN</td>\n      <td>39</td>\n      <td>52</td>\n      <td>43</td>\n      <td>60</td>\n      <td>50</td>\n      <td>65</td>\n      <td>1</td>\n      <td>False</td>\n    </tr>\n    <tr>\n      <th>...</th>\n      <td>...</td>\n      <td>...</td>\n      <td>...</td>\n      <td>...</td>\n      <td>...</td>\n      <td>...</td>\n      <td>...</td>\n      <td>...</td>\n      <td>...</td>\n      <td>...</td>\n      <td>...</td>\n      <td>...</td>\n    </tr>\n    <tr>\n      <th>735</th>\n      <td>667</td>\n      <td>Litleo</td>\n      <td>Fire</td>\n      <td>Normal</td>\n      <td>62</td>\n      <td>50</td>\n      <td>58</td>\n      <td>73</td>\n      <td>54</td>\n      <td>72</td>\n      <td>6</td>\n      <td>False</td>\n    </tr>\n    <tr>\n      <th>736</th>\n      <td>668</td>\n      <td>Pyroar</td>\n      <td>Fire</td>\n      <td>Normal</td>\n      <td>86</td>\n      <td>68</td>\n      <td>72</td>\n      <td>109</td>\n      <td>66</td>\n      <td>106</td>\n      <td>6</td>\n      <td>False</td>\n    </tr>\n    <tr>\n      <th>740</th>\n      <td>672</td>\n      <td>Skiddo</td>\n      <td>Grass</td>\n      <td>NaN</td>\n      <td>66</td>\n      <td>65</td>\n      <td>48</td>\n      <td>62</td>\n      <td>57</td>\n      <td>52</td>\n      <td>6</td>\n      <td>False</td>\n    </tr>\n    <tr>\n      <th>741</th>\n      <td>673</td>\n      <td>Gogoat</td>\n      <td>Grass</td>\n      <td>NaN</td>\n      <td>123</td>\n      <td>100</td>\n      <td>62</td>\n      <td>97</td>\n      <td>81</td>\n      <td>68</td>\n      <td>6</td>\n      <td>False</td>\n    </tr>\n    <tr>\n      <th>799</th>\n      <td>721</td>\n      <td>Volcanion</td>\n      <td>Fire</td>\n      <td>Water</td>\n      <td>80</td>\n      <td>110</td>\n      <td>120</td>\n      <td>130</td>\n      <td>90</td>\n      <td>70</td>\n      <td>6</td>\n      <td>True</td>\n    </tr>\n  </tbody>\n</table>\n<p>122 rows × 12 columns</p>\n</div>"
     },
     "metadata": {},
     "execution_count": 6
    }
   ],
   "source": [
    "# Recours au module re\n",
    "# Affichage des Pokemon de type 'Fire' ou 'Grass'\n",
    "df_csv.loc[df_csv['Type 1'].str.contains(\n",
    "    'Fire|Grass', \n",
    "    regex=True)]"
   ]
  },
  {
   "cell_type": "code",
   "execution_count": 7,
   "metadata": {},
   "outputs": [
    {
     "output_type": "execute_result",
     "data": {
      "text/plain": [
       "       #                   Name Type 1  Type 2   HP  Attack  Defense  Sp. Atk  \\\n",
       "0      1              Bulbasaur  Grass  Poison   45      49       49       65   \n",
       "1      2                Ivysaur  Grass  Poison   60      62       63       80   \n",
       "2      3               Venusaur  Grass  Poison   80      82       83      100   \n",
       "3      3  VenusaurMega Venusaur  Grass  Poison   80     100      123      122   \n",
       "4      4             Charmander   Fire     NaN   39      52       43       60   \n",
       "..   ...                    ...    ...     ...  ...     ...      ...      ...   \n",
       "735  667                 Litleo   Fire  Normal   62      50       58       73   \n",
       "736  668                 Pyroar   Fire  Normal   86      68       72      109   \n",
       "740  672                 Skiddo  Grass     NaN   66      65       48       62   \n",
       "741  673                 Gogoat  Grass     NaN  123     100       62       97   \n",
       "799  721              Volcanion   Fire   Water   80     110      120      130   \n",
       "\n",
       "     Sp. Def  Speed  Generation  Legendary  \n",
       "0         65     45           1      False  \n",
       "1         80     60           1      False  \n",
       "2        100     80           1      False  \n",
       "3        120     80           1      False  \n",
       "4         50     65           1      False  \n",
       "..       ...    ...         ...        ...  \n",
       "735       54     72           6      False  \n",
       "736       66    106           6      False  \n",
       "740       57     52           6      False  \n",
       "741       81     68           6      False  \n",
       "799       90     70           6       True  \n",
       "\n",
       "[122 rows x 12 columns]"
      ],
      "text/html": "<div>\n<style scoped>\n    .dataframe tbody tr th:only-of-type {\n        vertical-align: middle;\n    }\n\n    .dataframe tbody tr th {\n        vertical-align: top;\n    }\n\n    .dataframe thead th {\n        text-align: right;\n    }\n</style>\n<table border=\"1\" class=\"dataframe\">\n  <thead>\n    <tr style=\"text-align: right;\">\n      <th></th>\n      <th>#</th>\n      <th>Name</th>\n      <th>Type 1</th>\n      <th>Type 2</th>\n      <th>HP</th>\n      <th>Attack</th>\n      <th>Defense</th>\n      <th>Sp. Atk</th>\n      <th>Sp. Def</th>\n      <th>Speed</th>\n      <th>Generation</th>\n      <th>Legendary</th>\n    </tr>\n  </thead>\n  <tbody>\n    <tr>\n      <th>0</th>\n      <td>1</td>\n      <td>Bulbasaur</td>\n      <td>Grass</td>\n      <td>Poison</td>\n      <td>45</td>\n      <td>49</td>\n      <td>49</td>\n      <td>65</td>\n      <td>65</td>\n      <td>45</td>\n      <td>1</td>\n      <td>False</td>\n    </tr>\n    <tr>\n      <th>1</th>\n      <td>2</td>\n      <td>Ivysaur</td>\n      <td>Grass</td>\n      <td>Poison</td>\n      <td>60</td>\n      <td>62</td>\n      <td>63</td>\n      <td>80</td>\n      <td>80</td>\n      <td>60</td>\n      <td>1</td>\n      <td>False</td>\n    </tr>\n    <tr>\n      <th>2</th>\n      <td>3</td>\n      <td>Venusaur</td>\n      <td>Grass</td>\n      <td>Poison</td>\n      <td>80</td>\n      <td>82</td>\n      <td>83</td>\n      <td>100</td>\n      <td>100</td>\n      <td>80</td>\n      <td>1</td>\n      <td>False</td>\n    </tr>\n    <tr>\n      <th>3</th>\n      <td>3</td>\n      <td>VenusaurMega Venusaur</td>\n      <td>Grass</td>\n      <td>Poison</td>\n      <td>80</td>\n      <td>100</td>\n      <td>123</td>\n      <td>122</td>\n      <td>120</td>\n      <td>80</td>\n      <td>1</td>\n      <td>False</td>\n    </tr>\n    <tr>\n      <th>4</th>\n      <td>4</td>\n      <td>Charmander</td>\n      <td>Fire</td>\n      <td>NaN</td>\n      <td>39</td>\n      <td>52</td>\n      <td>43</td>\n      <td>60</td>\n      <td>50</td>\n      <td>65</td>\n      <td>1</td>\n      <td>False</td>\n    </tr>\n    <tr>\n      <th>...</th>\n      <td>...</td>\n      <td>...</td>\n      <td>...</td>\n      <td>...</td>\n      <td>...</td>\n      <td>...</td>\n      <td>...</td>\n      <td>...</td>\n      <td>...</td>\n      <td>...</td>\n      <td>...</td>\n      <td>...</td>\n    </tr>\n    <tr>\n      <th>735</th>\n      <td>667</td>\n      <td>Litleo</td>\n      <td>Fire</td>\n      <td>Normal</td>\n      <td>62</td>\n      <td>50</td>\n      <td>58</td>\n      <td>73</td>\n      <td>54</td>\n      <td>72</td>\n      <td>6</td>\n      <td>False</td>\n    </tr>\n    <tr>\n      <th>736</th>\n      <td>668</td>\n      <td>Pyroar</td>\n      <td>Fire</td>\n      <td>Normal</td>\n      <td>86</td>\n      <td>68</td>\n      <td>72</td>\n      <td>109</td>\n      <td>66</td>\n      <td>106</td>\n      <td>6</td>\n      <td>False</td>\n    </tr>\n    <tr>\n      <th>740</th>\n      <td>672</td>\n      <td>Skiddo</td>\n      <td>Grass</td>\n      <td>NaN</td>\n      <td>66</td>\n      <td>65</td>\n      <td>48</td>\n      <td>62</td>\n      <td>57</td>\n      <td>52</td>\n      <td>6</td>\n      <td>False</td>\n    </tr>\n    <tr>\n      <th>741</th>\n      <td>673</td>\n      <td>Gogoat</td>\n      <td>Grass</td>\n      <td>NaN</td>\n      <td>123</td>\n      <td>100</td>\n      <td>62</td>\n      <td>97</td>\n      <td>81</td>\n      <td>68</td>\n      <td>6</td>\n      <td>False</td>\n    </tr>\n    <tr>\n      <th>799</th>\n      <td>721</td>\n      <td>Volcanion</td>\n      <td>Fire</td>\n      <td>Water</td>\n      <td>80</td>\n      <td>110</td>\n      <td>120</td>\n      <td>130</td>\n      <td>90</td>\n      <td>70</td>\n      <td>6</td>\n      <td>True</td>\n    </tr>\n  </tbody>\n</table>\n<p>122 rows × 12 columns</p>\n</div>"
     },
     "metadata": {},
     "execution_count": 7
    }
   ],
   "source": [
    "# Recours au module re : \n",
    "# Les majuscules / minuscules ne sont pas prises en compte\n",
    "# Affichage (bis) des Pokemon de type 'fire' ou 'grass'\n",
    "df_csv.loc[df_csv['Type 1'].str.contains(\n",
    "    'fire|grass', \n",
    "    flags=re.I, # Majuscules / Minuscules non prises en compte\n",
    "    regex=True)]"
   ]
  },
  {
   "cell_type": "code",
   "execution_count": 8,
   "metadata": {},
   "outputs": [
    {
     "output_type": "execute_result",
     "data": {
      "text/plain": [
       "       #                     Name    Type 1    Type 2   HP  Attack  Defense  \\\n",
       "13    10                 Caterpie       Bug       NaN   45      30       35   \n",
       "20    16                   Pidgey    Normal    Flying   40      45       40   \n",
       "21    17                Pidgeotto    Normal    Flying   63      60       55   \n",
       "22    18                  Pidgeot    Normal    Flying   83      80       75   \n",
       "23    18      PidgeotMega Pidgeot    Normal    Flying   83      80       80   \n",
       "30    25                  Pikachu  Electric       NaN   35      55       40   \n",
       "42    37                   Vulpix      Fire       NaN   38      41       40   \n",
       "76    70               Weepinbell     Grass    Poison   65      90       50   \n",
       "84    78                 Rapidash      Fire       NaN   65     100       70   \n",
       "136  127                   Pinsir       Bug       NaN   65     125      100   \n",
       "137  127        PinsirMega Pinsir       Bug    Flying   65     155      120   \n",
       "181  167                 Spinarak       Bug    Poison   40      60       40   \n",
       "186  172                    Pichu  Electric       NaN   20      40       15   \n",
       "189  175                   Togepi     Fairy       NaN   35      20       65   \n",
       "202  187                   Hoppip     Grass    Flying   35      35       40   \n",
       "219  204                   Pineco       Bug       NaN   50      65       90   \n",
       "239  221                Piloswine       Ice    Ground  100     100       80   \n",
       "266  247                  Pupitar      Rock    Ground   70      84       70   \n",
       "345  316                   Gulpin    Poison       NaN   70      43       53   \n",
       "357  326                  Grumpig   Psychic       NaN   80      45       65   \n",
       "358  327                   Spinda    Normal       NaN   60      60       60   \n",
       "359  328                 Trapinch    Ground       NaN   45     100       45   \n",
       "390  357                  Tropius     Grass    Flying   99      68       83   \n",
       "438  393                   Piplup     Water       NaN   53      51       53   \n",
       "463  416                Vespiquen       Bug    Flying   70      80      102   \n",
       "488  440                  Happiny    Normal       NaN  100       5        5   \n",
       "490  442                Spiritomb     Ghost      Dark   50      92      108   \n",
       "501  451                  Skorupi    Poison       Bug   40      50       90   \n",
       "502  452                  Drapion    Poison      Dark   70      90      110   \n",
       "557  498                    Tepig      Fire       NaN   65      63       45   \n",
       "558  499                  Pignite      Fire  Fighting   90      93       55   \n",
       "578  519                   Pidove    Normal    Flying   50      55       50   \n",
       "596  536                Palpitoad     Water    Ground   75      65       55   \n",
       "716  648  MeloettaPirouette Forme    Normal  Fighting  100     128       90   \n",
       "718  650                  Chespin     Grass       NaN   56      61       65   \n",
       "\n",
       "     Sp. Atk  Sp. Def  Speed  Generation  Legendary  \n",
       "13        20       20     45           1      False  \n",
       "20        35       35     56           1      False  \n",
       "21        50       50     71           1      False  \n",
       "22        70       70    101           1      False  \n",
       "23       135       80    121           1      False  \n",
       "30        50       50     90           1      False  \n",
       "42        50       65     65           1      False  \n",
       "76        85       45     55           1      False  \n",
       "84        80       80    105           1      False  \n",
       "136       55       70     85           1      False  \n",
       "137       65       90    105           1      False  \n",
       "181       40       40     30           2      False  \n",
       "186       35       35     60           2      False  \n",
       "189       40       65     20           2      False  \n",
       "202       35       55     50           2      False  \n",
       "219       35       35     15           2      False  \n",
       "239       60       60     50           2      False  \n",
       "266       65       70     51           2      False  \n",
       "345       43       53     40           3      False  \n",
       "357       90      110     80           3      False  \n",
       "358       60       60     60           3      False  \n",
       "359       45       45     10           3      False  \n",
       "390       72       87     51           3      False  \n",
       "438       61       56     40           4      False  \n",
       "463       80      102     40           4      False  \n",
       "488       15       65     30           4      False  \n",
       "490       92      108     35           4      False  \n",
       "501       30       55     65           4      False  \n",
       "502       60       75     95           4      False  \n",
       "557       45       45     45           5      False  \n",
       "558       70       55     55           5      False  \n",
       "578       36       30     43           5      False  \n",
       "596       65       55     69           5      False  \n",
       "716       77       77    128           5      False  \n",
       "718       48       45     38           6      False  "
      ],
      "text/html": "<div>\n<style scoped>\n    .dataframe tbody tr th:only-of-type {\n        vertical-align: middle;\n    }\n\n    .dataframe tbody tr th {\n        vertical-align: top;\n    }\n\n    .dataframe thead th {\n        text-align: right;\n    }\n</style>\n<table border=\"1\" class=\"dataframe\">\n  <thead>\n    <tr style=\"text-align: right;\">\n      <th></th>\n      <th>#</th>\n      <th>Name</th>\n      <th>Type 1</th>\n      <th>Type 2</th>\n      <th>HP</th>\n      <th>Attack</th>\n      <th>Defense</th>\n      <th>Sp. Atk</th>\n      <th>Sp. Def</th>\n      <th>Speed</th>\n      <th>Generation</th>\n      <th>Legendary</th>\n    </tr>\n  </thead>\n  <tbody>\n    <tr>\n      <th>13</th>\n      <td>10</td>\n      <td>Caterpie</td>\n      <td>Bug</td>\n      <td>NaN</td>\n      <td>45</td>\n      <td>30</td>\n      <td>35</td>\n      <td>20</td>\n      <td>20</td>\n      <td>45</td>\n      <td>1</td>\n      <td>False</td>\n    </tr>\n    <tr>\n      <th>20</th>\n      <td>16</td>\n      <td>Pidgey</td>\n      <td>Normal</td>\n      <td>Flying</td>\n      <td>40</td>\n      <td>45</td>\n      <td>40</td>\n      <td>35</td>\n      <td>35</td>\n      <td>56</td>\n      <td>1</td>\n      <td>False</td>\n    </tr>\n    <tr>\n      <th>21</th>\n      <td>17</td>\n      <td>Pidgeotto</td>\n      <td>Normal</td>\n      <td>Flying</td>\n      <td>63</td>\n      <td>60</td>\n      <td>55</td>\n      <td>50</td>\n      <td>50</td>\n      <td>71</td>\n      <td>1</td>\n      <td>False</td>\n    </tr>\n    <tr>\n      <th>22</th>\n      <td>18</td>\n      <td>Pidgeot</td>\n      <td>Normal</td>\n      <td>Flying</td>\n      <td>83</td>\n      <td>80</td>\n      <td>75</td>\n      <td>70</td>\n      <td>70</td>\n      <td>101</td>\n      <td>1</td>\n      <td>False</td>\n    </tr>\n    <tr>\n      <th>23</th>\n      <td>18</td>\n      <td>PidgeotMega Pidgeot</td>\n      <td>Normal</td>\n      <td>Flying</td>\n      <td>83</td>\n      <td>80</td>\n      <td>80</td>\n      <td>135</td>\n      <td>80</td>\n      <td>121</td>\n      <td>1</td>\n      <td>False</td>\n    </tr>\n    <tr>\n      <th>30</th>\n      <td>25</td>\n      <td>Pikachu</td>\n      <td>Electric</td>\n      <td>NaN</td>\n      <td>35</td>\n      <td>55</td>\n      <td>40</td>\n      <td>50</td>\n      <td>50</td>\n      <td>90</td>\n      <td>1</td>\n      <td>False</td>\n    </tr>\n    <tr>\n      <th>42</th>\n      <td>37</td>\n      <td>Vulpix</td>\n      <td>Fire</td>\n      <td>NaN</td>\n      <td>38</td>\n      <td>41</td>\n      <td>40</td>\n      <td>50</td>\n      <td>65</td>\n      <td>65</td>\n      <td>1</td>\n      <td>False</td>\n    </tr>\n    <tr>\n      <th>76</th>\n      <td>70</td>\n      <td>Weepinbell</td>\n      <td>Grass</td>\n      <td>Poison</td>\n      <td>65</td>\n      <td>90</td>\n      <td>50</td>\n      <td>85</td>\n      <td>45</td>\n      <td>55</td>\n      <td>1</td>\n      <td>False</td>\n    </tr>\n    <tr>\n      <th>84</th>\n      <td>78</td>\n      <td>Rapidash</td>\n      <td>Fire</td>\n      <td>NaN</td>\n      <td>65</td>\n      <td>100</td>\n      <td>70</td>\n      <td>80</td>\n      <td>80</td>\n      <td>105</td>\n      <td>1</td>\n      <td>False</td>\n    </tr>\n    <tr>\n      <th>136</th>\n      <td>127</td>\n      <td>Pinsir</td>\n      <td>Bug</td>\n      <td>NaN</td>\n      <td>65</td>\n      <td>125</td>\n      <td>100</td>\n      <td>55</td>\n      <td>70</td>\n      <td>85</td>\n      <td>1</td>\n      <td>False</td>\n    </tr>\n    <tr>\n      <th>137</th>\n      <td>127</td>\n      <td>PinsirMega Pinsir</td>\n      <td>Bug</td>\n      <td>Flying</td>\n      <td>65</td>\n      <td>155</td>\n      <td>120</td>\n      <td>65</td>\n      <td>90</td>\n      <td>105</td>\n      <td>1</td>\n      <td>False</td>\n    </tr>\n    <tr>\n      <th>181</th>\n      <td>167</td>\n      <td>Spinarak</td>\n      <td>Bug</td>\n      <td>Poison</td>\n      <td>40</td>\n      <td>60</td>\n      <td>40</td>\n      <td>40</td>\n      <td>40</td>\n      <td>30</td>\n      <td>2</td>\n      <td>False</td>\n    </tr>\n    <tr>\n      <th>186</th>\n      <td>172</td>\n      <td>Pichu</td>\n      <td>Electric</td>\n      <td>NaN</td>\n      <td>20</td>\n      <td>40</td>\n      <td>15</td>\n      <td>35</td>\n      <td>35</td>\n      <td>60</td>\n      <td>2</td>\n      <td>False</td>\n    </tr>\n    <tr>\n      <th>189</th>\n      <td>175</td>\n      <td>Togepi</td>\n      <td>Fairy</td>\n      <td>NaN</td>\n      <td>35</td>\n      <td>20</td>\n      <td>65</td>\n      <td>40</td>\n      <td>65</td>\n      <td>20</td>\n      <td>2</td>\n      <td>False</td>\n    </tr>\n    <tr>\n      <th>202</th>\n      <td>187</td>\n      <td>Hoppip</td>\n      <td>Grass</td>\n      <td>Flying</td>\n      <td>35</td>\n      <td>35</td>\n      <td>40</td>\n      <td>35</td>\n      <td>55</td>\n      <td>50</td>\n      <td>2</td>\n      <td>False</td>\n    </tr>\n    <tr>\n      <th>219</th>\n      <td>204</td>\n      <td>Pineco</td>\n      <td>Bug</td>\n      <td>NaN</td>\n      <td>50</td>\n      <td>65</td>\n      <td>90</td>\n      <td>35</td>\n      <td>35</td>\n      <td>15</td>\n      <td>2</td>\n      <td>False</td>\n    </tr>\n    <tr>\n      <th>239</th>\n      <td>221</td>\n      <td>Piloswine</td>\n      <td>Ice</td>\n      <td>Ground</td>\n      <td>100</td>\n      <td>100</td>\n      <td>80</td>\n      <td>60</td>\n      <td>60</td>\n      <td>50</td>\n      <td>2</td>\n      <td>False</td>\n    </tr>\n    <tr>\n      <th>266</th>\n      <td>247</td>\n      <td>Pupitar</td>\n      <td>Rock</td>\n      <td>Ground</td>\n      <td>70</td>\n      <td>84</td>\n      <td>70</td>\n      <td>65</td>\n      <td>70</td>\n      <td>51</td>\n      <td>2</td>\n      <td>False</td>\n    </tr>\n    <tr>\n      <th>345</th>\n      <td>316</td>\n      <td>Gulpin</td>\n      <td>Poison</td>\n      <td>NaN</td>\n      <td>70</td>\n      <td>43</td>\n      <td>53</td>\n      <td>43</td>\n      <td>53</td>\n      <td>40</td>\n      <td>3</td>\n      <td>False</td>\n    </tr>\n    <tr>\n      <th>357</th>\n      <td>326</td>\n      <td>Grumpig</td>\n      <td>Psychic</td>\n      <td>NaN</td>\n      <td>80</td>\n      <td>45</td>\n      <td>65</td>\n      <td>90</td>\n      <td>110</td>\n      <td>80</td>\n      <td>3</td>\n      <td>False</td>\n    </tr>\n    <tr>\n      <th>358</th>\n      <td>327</td>\n      <td>Spinda</td>\n      <td>Normal</td>\n      <td>NaN</td>\n      <td>60</td>\n      <td>60</td>\n      <td>60</td>\n      <td>60</td>\n      <td>60</td>\n      <td>60</td>\n      <td>3</td>\n      <td>False</td>\n    </tr>\n    <tr>\n      <th>359</th>\n      <td>328</td>\n      <td>Trapinch</td>\n      <td>Ground</td>\n      <td>NaN</td>\n      <td>45</td>\n      <td>100</td>\n      <td>45</td>\n      <td>45</td>\n      <td>45</td>\n      <td>10</td>\n      <td>3</td>\n      <td>False</td>\n    </tr>\n    <tr>\n      <th>390</th>\n      <td>357</td>\n      <td>Tropius</td>\n      <td>Grass</td>\n      <td>Flying</td>\n      <td>99</td>\n      <td>68</td>\n      <td>83</td>\n      <td>72</td>\n      <td>87</td>\n      <td>51</td>\n      <td>3</td>\n      <td>False</td>\n    </tr>\n    <tr>\n      <th>438</th>\n      <td>393</td>\n      <td>Piplup</td>\n      <td>Water</td>\n      <td>NaN</td>\n      <td>53</td>\n      <td>51</td>\n      <td>53</td>\n      <td>61</td>\n      <td>56</td>\n      <td>40</td>\n      <td>4</td>\n      <td>False</td>\n    </tr>\n    <tr>\n      <th>463</th>\n      <td>416</td>\n      <td>Vespiquen</td>\n      <td>Bug</td>\n      <td>Flying</td>\n      <td>70</td>\n      <td>80</td>\n      <td>102</td>\n      <td>80</td>\n      <td>102</td>\n      <td>40</td>\n      <td>4</td>\n      <td>False</td>\n    </tr>\n    <tr>\n      <th>488</th>\n      <td>440</td>\n      <td>Happiny</td>\n      <td>Normal</td>\n      <td>NaN</td>\n      <td>100</td>\n      <td>5</td>\n      <td>5</td>\n      <td>15</td>\n      <td>65</td>\n      <td>30</td>\n      <td>4</td>\n      <td>False</td>\n    </tr>\n    <tr>\n      <th>490</th>\n      <td>442</td>\n      <td>Spiritomb</td>\n      <td>Ghost</td>\n      <td>Dark</td>\n      <td>50</td>\n      <td>92</td>\n      <td>108</td>\n      <td>92</td>\n      <td>108</td>\n      <td>35</td>\n      <td>4</td>\n      <td>False</td>\n    </tr>\n    <tr>\n      <th>501</th>\n      <td>451</td>\n      <td>Skorupi</td>\n      <td>Poison</td>\n      <td>Bug</td>\n      <td>40</td>\n      <td>50</td>\n      <td>90</td>\n      <td>30</td>\n      <td>55</td>\n      <td>65</td>\n      <td>4</td>\n      <td>False</td>\n    </tr>\n    <tr>\n      <th>502</th>\n      <td>452</td>\n      <td>Drapion</td>\n      <td>Poison</td>\n      <td>Dark</td>\n      <td>70</td>\n      <td>90</td>\n      <td>110</td>\n      <td>60</td>\n      <td>75</td>\n      <td>95</td>\n      <td>4</td>\n      <td>False</td>\n    </tr>\n    <tr>\n      <th>557</th>\n      <td>498</td>\n      <td>Tepig</td>\n      <td>Fire</td>\n      <td>NaN</td>\n      <td>65</td>\n      <td>63</td>\n      <td>45</td>\n      <td>45</td>\n      <td>45</td>\n      <td>45</td>\n      <td>5</td>\n      <td>False</td>\n    </tr>\n    <tr>\n      <th>558</th>\n      <td>499</td>\n      <td>Pignite</td>\n      <td>Fire</td>\n      <td>Fighting</td>\n      <td>90</td>\n      <td>93</td>\n      <td>55</td>\n      <td>70</td>\n      <td>55</td>\n      <td>55</td>\n      <td>5</td>\n      <td>False</td>\n    </tr>\n    <tr>\n      <th>578</th>\n      <td>519</td>\n      <td>Pidove</td>\n      <td>Normal</td>\n      <td>Flying</td>\n      <td>50</td>\n      <td>55</td>\n      <td>50</td>\n      <td>36</td>\n      <td>30</td>\n      <td>43</td>\n      <td>5</td>\n      <td>False</td>\n    </tr>\n    <tr>\n      <th>596</th>\n      <td>536</td>\n      <td>Palpitoad</td>\n      <td>Water</td>\n      <td>Ground</td>\n      <td>75</td>\n      <td>65</td>\n      <td>55</td>\n      <td>65</td>\n      <td>55</td>\n      <td>69</td>\n      <td>5</td>\n      <td>False</td>\n    </tr>\n    <tr>\n      <th>716</th>\n      <td>648</td>\n      <td>MeloettaPirouette Forme</td>\n      <td>Normal</td>\n      <td>Fighting</td>\n      <td>100</td>\n      <td>128</td>\n      <td>90</td>\n      <td>77</td>\n      <td>77</td>\n      <td>128</td>\n      <td>5</td>\n      <td>False</td>\n    </tr>\n    <tr>\n      <th>718</th>\n      <td>650</td>\n      <td>Chespin</td>\n      <td>Grass</td>\n      <td>NaN</td>\n      <td>56</td>\n      <td>61</td>\n      <td>65</td>\n      <td>48</td>\n      <td>45</td>\n      <td>38</td>\n      <td>6</td>\n      <td>False</td>\n    </tr>\n  </tbody>\n</table>\n</div>"
     },
     "metadata": {},
     "execution_count": 8
    }
   ],
   "source": [
    "# Recours au module re :\n",
    "# Affichage de données comprennant certaines str dans un champ\n",
    "# Affichage de tous les Pokemon comprenant les caractères 'pi'\n",
    "df_csv.loc[df_csv['Name'].str.contains(\n",
    "    'pi[a-z]*', # Contient au moins un 'pi' dans le nom \n",
    "    flags=re.I, # Majuscules / Minuscules non prises en compte\n",
    "    regex=True)]"
   ]
  },
  {
   "cell_type": "code",
   "execution_count": 9,
   "metadata": {},
   "outputs": [
    {
     "output_type": "execute_result",
     "data": {
      "text/plain": [
       "       #                 Name    Type 1    Type 2   HP  Attack  Defense  \\\n",
       "20    16               Pidgey    Normal    Flying   40      45       40   \n",
       "21    17            Pidgeotto    Normal    Flying   63      60       55   \n",
       "22    18              Pidgeot    Normal    Flying   83      80       75   \n",
       "23    18  PidgeotMega Pidgeot    Normal    Flying   83      80       80   \n",
       "30    25              Pikachu  Electric       NaN   35      55       40   \n",
       "136  127               Pinsir       Bug       NaN   65     125      100   \n",
       "137  127    PinsirMega Pinsir       Bug    Flying   65     155      120   \n",
       "186  172                Pichu  Electric       NaN   20      40       15   \n",
       "219  204               Pineco       Bug       NaN   50      65       90   \n",
       "239  221            Piloswine       Ice    Ground  100     100       80   \n",
       "438  393               Piplup     Water       NaN   53      51       53   \n",
       "558  499              Pignite      Fire  Fighting   90      93       55   \n",
       "578  519               Pidove    Normal    Flying   50      55       50   \n",
       "\n",
       "     Sp. Atk  Sp. Def  Speed  Generation  Legendary  \n",
       "20        35       35     56           1      False  \n",
       "21        50       50     71           1      False  \n",
       "22        70       70    101           1      False  \n",
       "23       135       80    121           1      False  \n",
       "30        50       50     90           1      False  \n",
       "136       55       70     85           1      False  \n",
       "137       65       90    105           1      False  \n",
       "186       35       35     60           2      False  \n",
       "219       35       35     15           2      False  \n",
       "239       60       60     50           2      False  \n",
       "438       61       56     40           4      False  \n",
       "558       70       55     55           5      False  \n",
       "578       36       30     43           5      False  "
      ],
      "text/html": "<div>\n<style scoped>\n    .dataframe tbody tr th:only-of-type {\n        vertical-align: middle;\n    }\n\n    .dataframe tbody tr th {\n        vertical-align: top;\n    }\n\n    .dataframe thead th {\n        text-align: right;\n    }\n</style>\n<table border=\"1\" class=\"dataframe\">\n  <thead>\n    <tr style=\"text-align: right;\">\n      <th></th>\n      <th>#</th>\n      <th>Name</th>\n      <th>Type 1</th>\n      <th>Type 2</th>\n      <th>HP</th>\n      <th>Attack</th>\n      <th>Defense</th>\n      <th>Sp. Atk</th>\n      <th>Sp. Def</th>\n      <th>Speed</th>\n      <th>Generation</th>\n      <th>Legendary</th>\n    </tr>\n  </thead>\n  <tbody>\n    <tr>\n      <th>20</th>\n      <td>16</td>\n      <td>Pidgey</td>\n      <td>Normal</td>\n      <td>Flying</td>\n      <td>40</td>\n      <td>45</td>\n      <td>40</td>\n      <td>35</td>\n      <td>35</td>\n      <td>56</td>\n      <td>1</td>\n      <td>False</td>\n    </tr>\n    <tr>\n      <th>21</th>\n      <td>17</td>\n      <td>Pidgeotto</td>\n      <td>Normal</td>\n      <td>Flying</td>\n      <td>63</td>\n      <td>60</td>\n      <td>55</td>\n      <td>50</td>\n      <td>50</td>\n      <td>71</td>\n      <td>1</td>\n      <td>False</td>\n    </tr>\n    <tr>\n      <th>22</th>\n      <td>18</td>\n      <td>Pidgeot</td>\n      <td>Normal</td>\n      <td>Flying</td>\n      <td>83</td>\n      <td>80</td>\n      <td>75</td>\n      <td>70</td>\n      <td>70</td>\n      <td>101</td>\n      <td>1</td>\n      <td>False</td>\n    </tr>\n    <tr>\n      <th>23</th>\n      <td>18</td>\n      <td>PidgeotMega Pidgeot</td>\n      <td>Normal</td>\n      <td>Flying</td>\n      <td>83</td>\n      <td>80</td>\n      <td>80</td>\n      <td>135</td>\n      <td>80</td>\n      <td>121</td>\n      <td>1</td>\n      <td>False</td>\n    </tr>\n    <tr>\n      <th>30</th>\n      <td>25</td>\n      <td>Pikachu</td>\n      <td>Electric</td>\n      <td>NaN</td>\n      <td>35</td>\n      <td>55</td>\n      <td>40</td>\n      <td>50</td>\n      <td>50</td>\n      <td>90</td>\n      <td>1</td>\n      <td>False</td>\n    </tr>\n    <tr>\n      <th>136</th>\n      <td>127</td>\n      <td>Pinsir</td>\n      <td>Bug</td>\n      <td>NaN</td>\n      <td>65</td>\n      <td>125</td>\n      <td>100</td>\n      <td>55</td>\n      <td>70</td>\n      <td>85</td>\n      <td>1</td>\n      <td>False</td>\n    </tr>\n    <tr>\n      <th>137</th>\n      <td>127</td>\n      <td>PinsirMega Pinsir</td>\n      <td>Bug</td>\n      <td>Flying</td>\n      <td>65</td>\n      <td>155</td>\n      <td>120</td>\n      <td>65</td>\n      <td>90</td>\n      <td>105</td>\n      <td>1</td>\n      <td>False</td>\n    </tr>\n    <tr>\n      <th>186</th>\n      <td>172</td>\n      <td>Pichu</td>\n      <td>Electric</td>\n      <td>NaN</td>\n      <td>20</td>\n      <td>40</td>\n      <td>15</td>\n      <td>35</td>\n      <td>35</td>\n      <td>60</td>\n      <td>2</td>\n      <td>False</td>\n    </tr>\n    <tr>\n      <th>219</th>\n      <td>204</td>\n      <td>Pineco</td>\n      <td>Bug</td>\n      <td>NaN</td>\n      <td>50</td>\n      <td>65</td>\n      <td>90</td>\n      <td>35</td>\n      <td>35</td>\n      <td>15</td>\n      <td>2</td>\n      <td>False</td>\n    </tr>\n    <tr>\n      <th>239</th>\n      <td>221</td>\n      <td>Piloswine</td>\n      <td>Ice</td>\n      <td>Ground</td>\n      <td>100</td>\n      <td>100</td>\n      <td>80</td>\n      <td>60</td>\n      <td>60</td>\n      <td>50</td>\n      <td>2</td>\n      <td>False</td>\n    </tr>\n    <tr>\n      <th>438</th>\n      <td>393</td>\n      <td>Piplup</td>\n      <td>Water</td>\n      <td>NaN</td>\n      <td>53</td>\n      <td>51</td>\n      <td>53</td>\n      <td>61</td>\n      <td>56</td>\n      <td>40</td>\n      <td>4</td>\n      <td>False</td>\n    </tr>\n    <tr>\n      <th>558</th>\n      <td>499</td>\n      <td>Pignite</td>\n      <td>Fire</td>\n      <td>Fighting</td>\n      <td>90</td>\n      <td>93</td>\n      <td>55</td>\n      <td>70</td>\n      <td>55</td>\n      <td>55</td>\n      <td>5</td>\n      <td>False</td>\n    </tr>\n    <tr>\n      <th>578</th>\n      <td>519</td>\n      <td>Pidove</td>\n      <td>Normal</td>\n      <td>Flying</td>\n      <td>50</td>\n      <td>55</td>\n      <td>50</td>\n      <td>36</td>\n      <td>30</td>\n      <td>43</td>\n      <td>5</td>\n      <td>False</td>\n    </tr>\n  </tbody>\n</table>\n</div>"
     },
     "metadata": {},
     "execution_count": 9
    }
   ],
   "source": [
    "# Recours au module re :\n",
    "# Affichage de données comprennant certaines str dans un champ\n",
    "# Affichage de tous les Pokemon commençant par 'pi'\n",
    "df_csv.loc[df_csv['Name'].str.contains(\n",
    "    '^pi[a-z]*', # Le nom commence par 'pi'\n",
    "    flags=re.I, # Majuscules / Minuscules non prises en compte\n",
    "    regex=True)]"
   ]
  },
  {
   "cell_type": "code",
   "execution_count": null,
   "metadata": {},
   "outputs": [],
   "source": []
  }
 ],
 "metadata": {
  "kernelspec": {
   "name": "python3",
   "display_name": "Python 3.9.0 32-bit ('virt': venv)"
  },
  "language_info": {
   "codemirror_mode": {
    "name": "ipython",
    "version": 3
   },
   "file_extension": ".py",
   "mimetype": "text/x-python",
   "name": "python",
   "nbconvert_exporter": "python",
   "pygments_lexer": "ipython3",
   "version": "3.9.0"
  },
  "interpreter": {
   "hash": "310030bf3454bf43ed316e973b3bb30e554e0e2234ee37d7ac56d716749a606f"
  }
 },
 "nbformat": 4,
 "nbformat_minor": 5
}