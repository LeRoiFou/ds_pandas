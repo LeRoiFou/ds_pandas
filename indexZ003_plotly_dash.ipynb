{
 "cells": [
  {
   "attachments": {},
   "cell_type": "markdown",
   "metadata": {},
   "source": [
    "##### PACKAGES DASH ET PLOTLY\n",
    "\n",
    "Recours aux packages plotly (pour la data visualisation) et dash pour la présentation des données sous Web\n",
    "\n",
    "Le package ploly est encore plus performant que Matplotlib et Seaborn : à titre d'exemple la table des flux a été réalisée avec ce package\n",
    "Le package dash permet de restituer la data visualisation sous format web (similaire à Power Bi)\n",
    "\n",
    "https://plotly.com/\n",
    "\n",
    "https://dash.plotly.com/\n",
    "\n",
    "https://plotly.com/python/\n",
    "\n",
    "Cours : Plotly Dash - Développement d'applications Web interactives en Python\n",
    "Lien : https://www.youtube.com/watch?v=7m0Bq1EGPPg\n",
    "\n",
    "Date : 19-02-23\n"
   ]
  },
  {
   "cell_type": "code",
   "execution_count": 5,
   "metadata": {},
   "outputs": [],
   "source": [
    "# %pip install dash\n",
    "# %pip install jupyter-dash\n",
    "# %pip install plotly"
   ]
  },
  {
   "cell_type": "code",
   "execution_count": null,
   "metadata": {},
   "outputs": [],
   "source": [
    "# If you prefer to run the code online instead of on your computer click:\n",
    "# https://github.com/Coding-with-Adam/Dash-by-Plotly#execute-code-in-browser\n",
    "\n",
    "from dash import Dash, dcc               # pip install dash\n",
    "import dash_bootstrap_components as dbc  # pip install dash-bootstrap-components\n",
    "\n",
    "# Build your components\n",
    "app = Dash(__name__, external_stylesheets=[dbc.themes.BOOTSTRAP])\n",
    "mytext = dcc.Markdown(children=\"# Hello World - let's build web apps in Python!\")\n",
    "\n",
    "# Customize your own Layout\n",
    "app.layout = dbc.Container([mytext])\n",
    "\n",
    "# Run app\n",
    "if __name__=='__main__':\n",
    "    app.run_server(port=8051)"
   ]
  }
 ],
 "metadata": {
  "kernelspec": {
   "display_name": ".venv",
   "language": "python",
   "name": "python3"
  },
  "language_info": {
   "codemirror_mode": {
    "name": "ipython",
    "version": 3
   },
   "file_extension": ".py",
   "mimetype": "text/x-python",
   "name": "python",
   "nbconvert_exporter": "python",
   "pygments_lexer": "ipython3",
   "version": "3.9.2"
  },
  "orig_nbformat": 4,
  "vscode": {
   "interpreter": {
    "hash": "c2dfe9b7c1976225a80f652a238d92ca8d58ae6056794c0c2011ad2ef6627894"
   }
  }
 },
 "nbformat": 4,
 "nbformat_minor": 2
}
