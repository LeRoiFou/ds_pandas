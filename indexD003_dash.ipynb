{
 "cells": [
  {
   "attachments": {},
   "cell_type": "markdown",
   "metadata": {},
   "source": [
    "Cours : Plotly Dash - Développement d'applications Web interactives en Python\n",
    "\n",
    "Lien : https://www.youtube.com/watch?v=7m0Bq1EGPPg - 14 minutes\n",
    "\n",
    "Dans ce 3ème programme, un type de graphique est affiché selon le choix\n",
    "de l'utilisateur :\n",
    "\n",
    "- présentation des données sous la forme d'un diagramme en barre\n",
    "\n",
    "- présentation des données sous la forme d'un nauge de points\n",
    "\n",
    "Date : 27-02-23\n"
   ]
  },
  {
   "cell_type": "code",
   "execution_count": 6,
   "metadata": {},
   "outputs": [
    {
     "name": "stdout",
     "output_type": "stream",
     "text": [
      "Dash is running on http://127.0.0.1:8053/\n",
      "\n",
      "Dash is running on http://127.0.0.1:8053/\n",
      "\n",
      "Dash is running on http://127.0.0.1:8053/\n",
      "\n",
      "Dash is running on http://127.0.0.1:8053/\n",
      "\n",
      "Dash is running on http://127.0.0.1:8053/\n",
      "\n",
      "Dash is running on http://127.0.0.1:8053/\n",
      "\n",
      " * Serving Flask app '__main__'\n",
      " * Debug mode: off\n"
     ]
    },
    {
     "name": "stderr",
     "output_type": "stream",
     "text": [
      "WARNING: This is a development server. Do not use it in a production deployment. Use a production WSGI server instead.\n",
      " * Running on http://127.0.0.1:8053\n",
      "Press CTRL+C to quit\n",
      "127.0.0.1 - - [27/Feb/2023 08:51:03] \"GET / HTTP/1.1\" 200 -\n",
      "127.0.0.1 - - [27/Feb/2023 08:51:03] \"GET /_dash-layout HTTP/1.1\" 200 -\n",
      "127.0.0.1 - - [27/Feb/2023 08:51:03] \"GET /_dash-dependencies HTTP/1.1\" 200 -\n",
      "127.0.0.1 - - [27/Feb/2023 08:51:03] \"GET /_favicon.ico?v=2.8.1 HTTP/1.1\" 200 -\n",
      "127.0.0.1 - - [27/Feb/2023 08:51:03] \"GET /_dash-component-suites/dash/dcc/async-graph.js HTTP/1.1\" 304 -\n",
      "127.0.0.1 - - [27/Feb/2023 08:51:03] \"GET /_dash-component-suites/dash/dcc/async-markdown.js HTTP/1.1\" 304 -\n",
      "127.0.0.1 - - [27/Feb/2023 08:51:03] \"POST /_dash-update-component HTTP/1.1\" 200 -\n",
      "127.0.0.1 - - [27/Feb/2023 08:51:03] \"GET /_dash-component-suites/dash/dcc/async-plotlyjs.js HTTP/1.1\" 304 -\n",
      "127.0.0.1 - - [27/Feb/2023 08:51:03] \"GET /_dash-component-suites/dash/dcc/async-dropdown.js HTTP/1.1\" 304 -\n",
      "127.0.0.1 - - [27/Feb/2023 08:51:03] \"GET /_dash-component-suites/dash/dcc/async-highlight.js HTTP/1.1\" 304 -\n"
     ]
    }
   ],
   "source": [
    "# If you prefer to run the code online instead of on your computer click:\n",
    "# https://github.com/Coding-with-Adam/Dash-by-Plotly#execute-code-in-browser\n",
    "\n",
    "from dash import Dash, dcc, Output, Input  # Output : sortie / input : entrées\n",
    "import dash_bootstrap_components as dbc   \n",
    "import plotly.express as px # package spéfique pour les graphiques\n",
    "\n",
    "# Récupération des données de la DF sur les médailles olympiques\n",
    "df = px.data.medals_long()\n",
    "\n",
    "# Build your components (composants)\n",
    "# Appel des widgets avec un thème spécifique (VAPOR)\n",
    "app = Dash(__name__, external_stylesheets=[dbc.themes.VAPOR])\n",
    "\n",
    "# 1ère ligne - widget Markdown() : zone de texte (titre)\n",
    "mytitle = dcc.Markdown(children='# Médailles olympiques obtenues par pays')\n",
    "\n",
    "# 2ème ligne - widget Graph() : graphique\n",
    "mygraph = dcc.Graph(figure={}) # figure vide\n",
    "\n",
    "# 3ème ligne - widget Dropdown() : menu déroulant\n",
    "dropdown = dcc.Dropdown(\n",
    "    options=[ # Textes présents dans le menu déroulant\n",
    "        'Diagramme en barre', \n",
    "        'Nuage de points'],\n",
    "    value='Diagramme en barre',  # Affichage par défaut\n",
    "    clearable=False # True : suppression du choix présenté\n",
    "    )\n",
    "\n",
    "# Mise en page\n",
    "app.layout = dbc.Container([mytitle, mygraph, dropdown])\n",
    "\n",
    "# Intéractions entre les composants déclarés ci-avant à partir d'un décorateur\n",
    "@app.callback(\n",
    "    # Sortie\n",
    "    Output(\n",
    "        mygraph, # graphique\n",
    "        component_property='figure' # paramètre appelé du widget Graph()\n",
    "        ),\n",
    "    # Entrée\n",
    "    Input(\n",
    "        dropdown, # menu déroulant\n",
    "        component_property='value' # paramètre appelé du widget Dropdown()\n",
    "        )\n",
    ")\n",
    "\n",
    "# Mise à jour du graphique selon l'option choisie par l'utilisateur\n",
    "# dans le menu déroulant (diagramme en barre ou nuage de points)\n",
    "def update_graph(user_input):  # function arguments come from the component property of the Input\n",
    "    \n",
    "    # Si l'utilisateur choisi \"Diagramme en barre\"\n",
    "    if user_input == 'Diagramme en barre':\n",
    "        # Récupération des données de la DF affichées sous la forme\n",
    "        # d'un diagramme en barre\n",
    "        fig = px.bar(data_frame=df, x=\"nation\", y=\"count\", color=\"medal\")\n",
    "\n",
    "    # Si l'utilisateur choisi \"Nuage de points\"\n",
    "    elif user_input == 'Nuage de points':\n",
    "        # Récupération des données de la DF affichées sous la forme\n",
    "        # d'un nuage de points\n",
    "        fig = px.scatter(data_frame=df, x=\"count\", y=\"nation\", color=\"medal\",\n",
    "                         symbol=\"medal\")\n",
    "\n",
    "    return fig  # returned objects are assigned to the component property of the Output\n",
    "\n",
    "\n",
    "# Run app\n",
    "if __name__=='__main__':\n",
    "    app.run_server(port=8053)"
   ]
  }
 ],
 "metadata": {
  "kernelspec": {
   "display_name": ".venv",
   "language": "python",
   "name": "python3"
  },
  "language_info": {
   "codemirror_mode": {
    "name": "ipython",
    "version": 3
   },
   "file_extension": ".py",
   "mimetype": "text/x-python",
   "name": "python",
   "nbconvert_exporter": "python",
   "pygments_lexer": "ipython3",
   "version": "3.9.2"
  },
  "orig_nbformat": 4,
  "vscode": {
   "interpreter": {
    "hash": "c2dfe9b7c1976225a80f652a238d92ca8d58ae6056794c0c2011ad2ef6627894"
   }
  }
 },
 "nbformat": 4,
 "nbformat_minor": 2
}
