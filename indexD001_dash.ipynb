{
 "cells": [
  {
   "attachments": {},
   "cell_type": "markdown",
   "metadata": {},
   "source": [
    "##### PACKAGES DASH ET PLOTLY\n",
    "\n",
    "Recours aux packages plotly (pour la data visualisation) et dash pour la présentation des données sous Web\n",
    "\n",
    "Le package ploly est encore plus performant que Matplotlib et Seaborn : à titre d'exemple la table des flux a été réalisée avec ce package\n",
    "Le package dash permet de restituer la data visualisation sous format web (similaire à Power Bi)\n",
    "\n",
    "https://plotly.com/\n",
    "\n",
    "https://dash.plotly.com/\n",
    "\n",
    "https://plotly.com/python/\n",
    "\n",
    "Cours : Plotly Dash - Développement d'applications Web interactives en Python\n",
    "\n",
    "Lien : https://www.youtube.com/watch?v=7m0Bq1EGPPg\n",
    "\n",
    "Dans ce premier programme, on affiche un titre sur la page web\n",
    "\n",
    "Date : 19-02-23\n"
   ]
  },
  {
   "cell_type": "code",
   "execution_count": 2,
   "metadata": {},
   "outputs": [],
   "source": [
    "# %pip install dash\n",
    "# %pip install dash-bootstrap-components\n",
    "# %pip install jupyter-dash\n",
    "# %pip install plotly"
   ]
  },
  {
   "cell_type": "code",
   "execution_count": 2,
   "metadata": {},
   "outputs": [
    {
     "name": "stdout",
     "output_type": "stream",
     "text": [
      "Dash is running on http://127.0.0.1:8051/\n",
      "\n",
      "Dash is running on http://127.0.0.1:8051/\n",
      "\n",
      " * Serving Flask app '__main__'\n",
      " * Debug mode: off\n"
     ]
    },
    {
     "name": "stderr",
     "output_type": "stream",
     "text": [
      "WARNING: This is a development server. Do not use it in a production deployment. Use a production WSGI server instead.\n",
      " * Running on http://127.0.0.1:8051\n",
      "Press CTRL+C to quit\n"
     ]
    },
    {
     "name": "stdout",
     "output_type": "stream",
     "text": [
      "Exception on / [GET]\n",
      "Traceback (most recent call last):\n",
      "  File \"c:\\Users\\LRCOM\\pythonProjects\\ds_pandas\\.venv\\lib\\site-packages\\flask\\app.py\", line 2528, in wsgi_app\n",
      "    response = self.full_dispatch_request()\n",
      "  File \"c:\\Users\\LRCOM\\pythonProjects\\ds_pandas\\.venv\\lib\\site-packages\\flask\\app.py\", line 1825, in full_dispatch_request\n",
      "    rv = self.handle_user_exception(e)\n",
      "  File \"c:\\Users\\LRCOM\\pythonProjects\\ds_pandas\\.venv\\lib\\site-packages\\flask\\app.py\", line 1821, in full_dispatch_request\n",
      "    rv = self.preprocess_request()\n",
      "  File \"c:\\Users\\LRCOM\\pythonProjects\\ds_pandas\\.venv\\lib\\site-packages\\flask\\app.py\", line 2312, in preprocess_request\n",
      "    rv = self.ensure_sync(before_func)()\n",
      "  File \"c:\\Users\\LRCOM\\pythonProjects\\ds_pandas\\.venv\\lib\\site-packages\\dash\\dash.py\", line 1306, in _setup_server\n",
      "    _validate.validate_layout(self.layout, self._layout_value())\n",
      "  File \"c:\\Users\\LRCOM\\pythonProjects\\ds_pandas\\.venv\\lib\\site-packages\\dash\\_validate.py\", line 394, in validate_layout\n",
      "    raise exceptions.NoLayoutException(\n",
      "dash.exceptions.NoLayoutException: The layout was `None` at the time that `run_server` was called.\n",
      "Make sure to set the `layout` attribute of your application\n",
      "before running the server.\n",
      "Exception on / [GET]\n",
      "Traceback (most recent call last):\n",
      "  File \"c:\\Users\\LRCOM\\pythonProjects\\ds_pandas\\.venv\\lib\\site-packages\\flask\\app.py\", line 2528, in wsgi_app\n",
      "    response = self.full_dispatch_request()\n",
      "  File \"c:\\Users\\LRCOM\\pythonProjects\\ds_pandas\\.venv\\lib\\site-packages\\flask\\app.py\", line 1825, in full_dispatch_request\n",
      "    rv = self.handle_user_exception(e)\n",
      "  File \"c:\\Users\\LRCOM\\pythonProjects\\ds_pandas\\.venv\\lib\\site-packages\\flask\\app.py\", line 1821, in full_dispatch_request\n",
      "    rv = self.preprocess_request()\n",
      "  File \"c:\\Users\\LRCOM\\pythonProjects\\ds_pandas\\.venv\\lib\\site-packages\\flask\\app.py\", line 2312, in preprocess_request\n",
      "    rv = self.ensure_sync(before_func)()\n",
      "  File \"c:\\Users\\LRCOM\\pythonProjects\\ds_pandas\\.venv\\lib\\site-packages\\dash\\dash.py\", line 1306, in _setup_server\n",
      "    _validate.validate_layout(self.layout, self._layout_value())\n",
      "  File \"c:\\Users\\LRCOM\\pythonProjects\\ds_pandas\\.venv\\lib\\site-packages\\dash\\_validate.py\", line 394, in validate_layout\n",
      "    raise exceptions.NoLayoutException(\n",
      "dash.exceptions.NoLayoutException: The layout was `None` at the time that `run_server` was called.\n",
      "Make sure to set the `layout` attribute of your application\n",
      "before running the server.\n"
     ]
    },
    {
     "name": "stderr",
     "output_type": "stream",
     "text": [
      "127.0.0.1 - - [20/Feb/2023 08:25:31] \"GET / HTTP/1.1\" 500 -\n",
      "127.0.0.1 - - [20/Feb/2023 08:25:32] \"GET /favicon.ico HTTP/1.1\" 200 -\n"
     ]
    }
   ],
   "source": [
    "# If you prefer to run the code online instead of on your computer click:\n",
    "# https://github.com/Coding-with-Adam/Dash-by-Plotly#execute-code-in-browser\n",
    "\n",
    "from dash import Dash, dcc               # pip install dash\n",
    "import dash_bootstrap_components as dbc  # pip install dash-bootstrap-components\n",
    "\n",
    "# Construction des widgets (components)\n",
    "# Thème applicable\n",
    "app = Dash(__name__, external_stylesheets=[dbc.themes.QUARTZ]) \n",
    " # Widget Markdown (marque-page) : zone de texte (au format H1 car un seul #)\n",
    "mytext = dcc.Markdown(children=\"# Hello World! My first Python web!\")\n",
    "\n",
    "# Mise en page\n",
    "app.layout = dbc.Container([mytext])\n",
    "\n",
    "# Run app\n",
    "if __name__=='__main__':\n",
    "    app.run_server(port=8051)"
   ]
  }
 ],
 "metadata": {
  "kernelspec": {
   "display_name": ".venv",
   "language": "python",
   "name": "python3"
  },
  "language_info": {
   "codemirror_mode": {
    "name": "ipython",
    "version": 3
   },
   "file_extension": ".py",
   "mimetype": "text/x-python",
   "name": "python",
   "nbconvert_exporter": "python",
   "pygments_lexer": "ipython3",
   "version": "3.9.2"
  },
  "orig_nbformat": 4,
  "vscode": {
   "interpreter": {
    "hash": "c2dfe9b7c1976225a80f652a238d92ca8d58ae6056794c0c2011ad2ef6627894"
   }
  }
 },
 "nbformat": 4,
 "nbformat_minor": 2
}
