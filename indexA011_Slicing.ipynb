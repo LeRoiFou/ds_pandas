{
 "metadata": {
  "language_info": {
   "codemirror_mode": {
    "name": "ipython",
    "version": 3
   },
   "file_extension": ".py",
   "mimetype": "text/x-python",
   "name": "python",
   "nbconvert_exporter": "python",
   "pygments_lexer": "ipython3",
   "version": "3.9.0"
  },
  "orig_nbformat": 4,
  "kernelspec": {
   "name": "python3",
   "display_name": "Python 3.9.0 32-bit ('virt': venv)"
  },
  "interpreter": {
   "hash": "310030bf3454bf43ed316e973b3bb30e554e0e2234ee37d7ac56d716749a606f"
  }
 },
 "nbformat": 4,
 "nbformat_minor": 2,
 "cells": [
  {
   "source": [
    "\"\"\"\n",
    "Accès aux données d'un tableau\n",
    "\n",
    "Éditeur : Laurent REYNAUD\n",
    "Date : 22-07-2021\n",
    "\"\"\""
   ],
   "cell_type": "markdown",
   "metadata": {}
  },
  {
   "cell_type": "code",
   "execution_count": 2,
   "metadata": {},
   "outputs": [],
   "source": [
    "import pandas as pd"
   ]
  },
  {
   "cell_type": "code",
   "execution_count": 3,
   "metadata": {},
   "outputs": [
    {
     "output_type": "execute_result",
     "data": {
      "text/plain": [
       "       date      city  temperature  humidity\n",
       "0  5/1/2017  new york           65        56\n",
       "1  5/2/2017  new york           66        58\n",
       "2  5/3/2017  new york           68        60\n",
       "3  5/1/2017    mumbai           75        80\n",
       "4  5/2/2017    mumbai           78        83\n",
       "5  5/3/2017    mumbai           82        85\n",
       "6  5/1/2017   beijing           80        26\n",
       "7  5/2/2017   beijing           77        30\n",
       "8  5/3/2017   beijing           79        35"
      ],
      "text/html": "<div>\n<style scoped>\n    .dataframe tbody tr th:only-of-type {\n        vertical-align: middle;\n    }\n\n    .dataframe tbody tr th {\n        vertical-align: top;\n    }\n\n    .dataframe thead th {\n        text-align: right;\n    }\n</style>\n<table border=\"1\" class=\"dataframe\">\n  <thead>\n    <tr style=\"text-align: right;\">\n      <th></th>\n      <th>date</th>\n      <th>city</th>\n      <th>temperature</th>\n      <th>humidity</th>\n    </tr>\n  </thead>\n  <tbody>\n    <tr>\n      <th>0</th>\n      <td>5/1/2017</td>\n      <td>new york</td>\n      <td>65</td>\n      <td>56</td>\n    </tr>\n    <tr>\n      <th>1</th>\n      <td>5/2/2017</td>\n      <td>new york</td>\n      <td>66</td>\n      <td>58</td>\n    </tr>\n    <tr>\n      <th>2</th>\n      <td>5/3/2017</td>\n      <td>new york</td>\n      <td>68</td>\n      <td>60</td>\n    </tr>\n    <tr>\n      <th>3</th>\n      <td>5/1/2017</td>\n      <td>mumbai</td>\n      <td>75</td>\n      <td>80</td>\n    </tr>\n    <tr>\n      <th>4</th>\n      <td>5/2/2017</td>\n      <td>mumbai</td>\n      <td>78</td>\n      <td>83</td>\n    </tr>\n    <tr>\n      <th>5</th>\n      <td>5/3/2017</td>\n      <td>mumbai</td>\n      <td>82</td>\n      <td>85</td>\n    </tr>\n    <tr>\n      <th>6</th>\n      <td>5/1/2017</td>\n      <td>beijing</td>\n      <td>80</td>\n      <td>26</td>\n    </tr>\n    <tr>\n      <th>7</th>\n      <td>5/2/2017</td>\n      <td>beijing</td>\n      <td>77</td>\n      <td>30</td>\n    </tr>\n    <tr>\n      <th>8</th>\n      <td>5/3/2017</td>\n      <td>beijing</td>\n      <td>79</td>\n      <td>35</td>\n    </tr>\n  </tbody>\n</table>\n</div>"
     },
     "metadata": {},
     "execution_count": 3
    }
   ],
   "source": [
    "\"Chargement du fichier\"\n",
    "\n",
    "test = pd.read_csv('C:/Users\\LRCOM/pythonProjects/ds_pandas/data/weather.csv')\n",
    "test"
   ]
  },
  {
   "cell_type": "code",
   "execution_count": 4,
   "metadata": {},
   "outputs": [
    {
     "output_type": "execute_result",
     "data": {
      "text/plain": [
       "                    0         1         2         3         4         5  \\\n",
       "date         5/1/2017  5/2/2017  5/3/2017  5/1/2017  5/2/2017  5/3/2017   \n",
       "city         new york  new york  new york    mumbai    mumbai    mumbai   \n",
       "temperature        65        66        68        75        78        82   \n",
       "humidity           56        58        60        80        83        85   \n",
       "\n",
       "                    6         7         8  \n",
       "date         5/1/2017  5/2/2017  5/3/2017  \n",
       "city          beijing   beijing   beijing  \n",
       "temperature        80        77        79  \n",
       "humidity           26        30        35  "
      ],
      "text/html": "<div>\n<style scoped>\n    .dataframe tbody tr th:only-of-type {\n        vertical-align: middle;\n    }\n\n    .dataframe tbody tr th {\n        vertical-align: top;\n    }\n\n    .dataframe thead th {\n        text-align: right;\n    }\n</style>\n<table border=\"1\" class=\"dataframe\">\n  <thead>\n    <tr style=\"text-align: right;\">\n      <th></th>\n      <th>0</th>\n      <th>1</th>\n      <th>2</th>\n      <th>3</th>\n      <th>4</th>\n      <th>5</th>\n      <th>6</th>\n      <th>7</th>\n      <th>8</th>\n    </tr>\n  </thead>\n  <tbody>\n    <tr>\n      <th>date</th>\n      <td>5/1/2017</td>\n      <td>5/2/2017</td>\n      <td>5/3/2017</td>\n      <td>5/1/2017</td>\n      <td>5/2/2017</td>\n      <td>5/3/2017</td>\n      <td>5/1/2017</td>\n      <td>5/2/2017</td>\n      <td>5/3/2017</td>\n    </tr>\n    <tr>\n      <th>city</th>\n      <td>new york</td>\n      <td>new york</td>\n      <td>new york</td>\n      <td>mumbai</td>\n      <td>mumbai</td>\n      <td>mumbai</td>\n      <td>beijing</td>\n      <td>beijing</td>\n      <td>beijing</td>\n    </tr>\n    <tr>\n      <th>temperature</th>\n      <td>65</td>\n      <td>66</td>\n      <td>68</td>\n      <td>75</td>\n      <td>78</td>\n      <td>82</td>\n      <td>80</td>\n      <td>77</td>\n      <td>79</td>\n    </tr>\n    <tr>\n      <th>humidity</th>\n      <td>56</td>\n      <td>58</td>\n      <td>60</td>\n      <td>80</td>\n      <td>83</td>\n      <td>85</td>\n      <td>26</td>\n      <td>30</td>\n      <td>35</td>\n    </tr>\n  </tbody>\n</table>\n</div>"
     },
     "metadata": {},
     "execution_count": 4
    }
   ],
   "source": [
    "\"Transposition des données\"\n",
    "\n",
    "test.T"
   ]
  },
  {
   "cell_type": "code",
   "execution_count": 5,
   "metadata": {},
   "outputs": [
    {
     "output_type": "execute_result",
     "data": {
      "text/plain": [
       "0    new york\n",
       "1    new york\n",
       "2    new york\n",
       "3      mumbai\n",
       "4      mumbai\n",
       "5      mumbai\n",
       "6     beijing\n",
       "7     beijing\n",
       "8     beijing\n",
       "Name: city, dtype: object"
      ]
     },
     "metadata": {},
     "execution_count": 5
    }
   ],
   "source": [
    "\"Accès aux données de la colonne 'city\"\n",
    "\n",
    "test['city']"
   ]
  },
  {
   "cell_type": "code",
   "execution_count": 56,
   "metadata": {},
   "outputs": [
    {
     "output_type": "execute_result",
     "data": {
      "text/plain": [
       "       date  humidity\n",
       "0  5/1/2017        56\n",
       "1  5/2/2017        58\n",
       "2  5/3/2017        60\n",
       "3  5/1/2017        80\n",
       "4  5/2/2017        83\n",
       "5  5/3/2017        85\n",
       "6  5/1/2017        26\n",
       "7  5/2/2017        30\n",
       "8  5/3/2017        35"
      ],
      "text/html": "<div>\n<style scoped>\n    .dataframe tbody tr th:only-of-type {\n        vertical-align: middle;\n    }\n\n    .dataframe tbody tr th {\n        vertical-align: top;\n    }\n\n    .dataframe thead th {\n        text-align: right;\n    }\n</style>\n<table border=\"1\" class=\"dataframe\">\n  <thead>\n    <tr style=\"text-align: right;\">\n      <th></th>\n      <th>date</th>\n      <th>humidity</th>\n    </tr>\n  </thead>\n  <tbody>\n    <tr>\n      <th>0</th>\n      <td>5/1/2017</td>\n      <td>56</td>\n    </tr>\n    <tr>\n      <th>1</th>\n      <td>5/2/2017</td>\n      <td>58</td>\n    </tr>\n    <tr>\n      <th>2</th>\n      <td>5/3/2017</td>\n      <td>60</td>\n    </tr>\n    <tr>\n      <th>3</th>\n      <td>5/1/2017</td>\n      <td>80</td>\n    </tr>\n    <tr>\n      <th>4</th>\n      <td>5/2/2017</td>\n      <td>83</td>\n    </tr>\n    <tr>\n      <th>5</th>\n      <td>5/3/2017</td>\n      <td>85</td>\n    </tr>\n    <tr>\n      <th>6</th>\n      <td>5/1/2017</td>\n      <td>26</td>\n    </tr>\n    <tr>\n      <th>7</th>\n      <td>5/2/2017</td>\n      <td>30</td>\n    </tr>\n    <tr>\n      <th>8</th>\n      <td>5/3/2017</td>\n      <td>35</td>\n    </tr>\n  </tbody>\n</table>\n</div>"
     },
     "metadata": {},
     "execution_count": 56
    }
   ],
   "source": [
    "\"Accès aux données des colonnes 'date' et 'humidity'\"\n",
    "\n",
    "test[['date','humidity']]"
   ]
  },
  {
   "cell_type": "code",
   "execution_count": 59,
   "metadata": {},
   "outputs": [
    {
     "output_type": "execute_result",
     "data": {
      "text/plain": [
       "       city  temperature  humidity\n",
       "0  new york           65        56\n",
       "1  new york           66        58\n",
       "2  new york           68        60\n",
       "3    mumbai           75        80\n",
       "4    mumbai           78        83\n",
       "5    mumbai           82        85\n",
       "6   beijing           80        26\n",
       "7   beijing           77        30\n",
       "8   beijing           79        35"
      ],
      "text/html": "<div>\n<style scoped>\n    .dataframe tbody tr th:only-of-type {\n        vertical-align: middle;\n    }\n\n    .dataframe tbody tr th {\n        vertical-align: top;\n    }\n\n    .dataframe thead th {\n        text-align: right;\n    }\n</style>\n<table border=\"1\" class=\"dataframe\">\n  <thead>\n    <tr style=\"text-align: right;\">\n      <th></th>\n      <th>city</th>\n      <th>temperature</th>\n      <th>humidity</th>\n    </tr>\n  </thead>\n  <tbody>\n    <tr>\n      <th>0</th>\n      <td>new york</td>\n      <td>65</td>\n      <td>56</td>\n    </tr>\n    <tr>\n      <th>1</th>\n      <td>new york</td>\n      <td>66</td>\n      <td>58</td>\n    </tr>\n    <tr>\n      <th>2</th>\n      <td>new york</td>\n      <td>68</td>\n      <td>60</td>\n    </tr>\n    <tr>\n      <th>3</th>\n      <td>mumbai</td>\n      <td>75</td>\n      <td>80</td>\n    </tr>\n    <tr>\n      <th>4</th>\n      <td>mumbai</td>\n      <td>78</td>\n      <td>83</td>\n    </tr>\n    <tr>\n      <th>5</th>\n      <td>mumbai</td>\n      <td>82</td>\n      <td>85</td>\n    </tr>\n    <tr>\n      <th>6</th>\n      <td>beijing</td>\n      <td>80</td>\n      <td>26</td>\n    </tr>\n    <tr>\n      <th>7</th>\n      <td>beijing</td>\n      <td>77</td>\n      <td>30</td>\n    </tr>\n    <tr>\n      <th>8</th>\n      <td>beijing</td>\n      <td>79</td>\n      <td>35</td>\n    </tr>\n  </tbody>\n</table>\n</div>"
     },
     "metadata": {},
     "execution_count": 59
    }
   ],
   "source": [
    "\"Accès aux colonnes 'city' à 'humidity'\"\n",
    "\n",
    "test.iloc[:, 1:4]"
   ]
  },
  {
   "cell_type": "code",
   "execution_count": 55,
   "metadata": {},
   "outputs": [
    {
     "output_type": "execute_result",
     "data": {
      "text/plain": [
       "       date     city  temperature  humidity\n",
       "4  5/2/2017   mumbai           78        83\n",
       "5  5/3/2017   mumbai           82        85\n",
       "6  5/1/2017  beijing           80        26"
      ],
      "text/html": "<div>\n<style scoped>\n    .dataframe tbody tr th:only-of-type {\n        vertical-align: middle;\n    }\n\n    .dataframe tbody tr th {\n        vertical-align: top;\n    }\n\n    .dataframe thead th {\n        text-align: right;\n    }\n</style>\n<table border=\"1\" class=\"dataframe\">\n  <thead>\n    <tr style=\"text-align: right;\">\n      <th></th>\n      <th>date</th>\n      <th>city</th>\n      <th>temperature</th>\n      <th>humidity</th>\n    </tr>\n  </thead>\n  <tbody>\n    <tr>\n      <th>4</th>\n      <td>5/2/2017</td>\n      <td>mumbai</td>\n      <td>78</td>\n      <td>83</td>\n    </tr>\n    <tr>\n      <th>5</th>\n      <td>5/3/2017</td>\n      <td>mumbai</td>\n      <td>82</td>\n      <td>85</td>\n    </tr>\n    <tr>\n      <th>6</th>\n      <td>5/1/2017</td>\n      <td>beijing</td>\n      <td>80</td>\n      <td>26</td>\n    </tr>\n  </tbody>\n</table>\n</div>"
     },
     "metadata": {},
     "execution_count": 55
    }
   ],
   "source": [
    "\"Accès aux lignes indexées 4 à 6\"\n",
    "\n",
    "test.loc[4:6]"
   ]
  },
  {
   "cell_type": "code",
   "execution_count": 63,
   "metadata": {},
   "outputs": [
    {
     "output_type": "execute_result",
     "data": {
      "text/plain": [
       "       date      city  temperature  humidity\n",
       "0  5/1/2017  new york           65        56\n",
       "1  5/2/2017  new york           66        58"
      ],
      "text/html": "<div>\n<style scoped>\n    .dataframe tbody tr th:only-of-type {\n        vertical-align: middle;\n    }\n\n    .dataframe tbody tr th {\n        vertical-align: top;\n    }\n\n    .dataframe thead th {\n        text-align: right;\n    }\n</style>\n<table border=\"1\" class=\"dataframe\">\n  <thead>\n    <tr style=\"text-align: right;\">\n      <th></th>\n      <th>date</th>\n      <th>city</th>\n      <th>temperature</th>\n      <th>humidity</th>\n    </tr>\n  </thead>\n  <tbody>\n    <tr>\n      <th>0</th>\n      <td>5/1/2017</td>\n      <td>new york</td>\n      <td>65</td>\n      <td>56</td>\n    </tr>\n    <tr>\n      <th>1</th>\n      <td>5/2/2017</td>\n      <td>new york</td>\n      <td>66</td>\n      <td>58</td>\n    </tr>\n  </tbody>\n</table>\n</div>"
     },
     "metadata": {},
     "execution_count": 63
    }
   ],
   "source": [
    "\"Accès au 2 premières lignes\"\n",
    "\n",
    "test.head(2)"
   ]
  },
  {
   "cell_type": "code",
   "execution_count": 65,
   "metadata": {},
   "outputs": [
    {
     "output_type": "execute_result",
     "data": {
      "text/plain": [
       "       date     city  temperature  humidity\n",
       "7  5/2/2017  beijing           77        30\n",
       "8  5/3/2017  beijing           79        35"
      ],
      "text/html": "<div>\n<style scoped>\n    .dataframe tbody tr th:only-of-type {\n        vertical-align: middle;\n    }\n\n    .dataframe tbody tr th {\n        vertical-align: top;\n    }\n\n    .dataframe thead th {\n        text-align: right;\n    }\n</style>\n<table border=\"1\" class=\"dataframe\">\n  <thead>\n    <tr style=\"text-align: right;\">\n      <th></th>\n      <th>date</th>\n      <th>city</th>\n      <th>temperature</th>\n      <th>humidity</th>\n    </tr>\n  </thead>\n  <tbody>\n    <tr>\n      <th>7</th>\n      <td>5/2/2017</td>\n      <td>beijing</td>\n      <td>77</td>\n      <td>30</td>\n    </tr>\n    <tr>\n      <th>8</th>\n      <td>5/3/2017</td>\n      <td>beijing</td>\n      <td>79</td>\n      <td>35</td>\n    </tr>\n  </tbody>\n</table>\n</div>"
     },
     "metadata": {},
     "execution_count": 65
    }
   ],
   "source": [
    "\"Accès au 2 dernières lignes\"\n",
    "\n",
    "test.tail(2)"
   ]
  },
  {
   "cell_type": "code",
   "execution_count": 71,
   "metadata": {},
   "outputs": [
    {
     "output_type": "execute_result",
     "data": {
      "text/plain": [
       "0    65\n",
       "1    66\n",
       "2    68\n",
       "Name: temperature, dtype: int64"
      ]
     },
     "metadata": {},
     "execution_count": 71
    }
   ],
   "source": [
    "\"Températures de la ville de New-york : 1ère méthode\"\n",
    "\n",
    "test[test['city'] == 'new york']['temperature']"
   ]
  },
  {
   "cell_type": "code",
   "execution_count": 5,
   "metadata": {},
   "outputs": [
    {
     "output_type": "execute_result",
     "data": {
      "text/plain": [
       "       city  temperature\n",
       "0  new york           65\n",
       "1  new york           66\n",
       "2  new york           68"
      ],
      "text/html": "<div>\n<style scoped>\n    .dataframe tbody tr th:only-of-type {\n        vertical-align: middle;\n    }\n\n    .dataframe tbody tr th {\n        vertical-align: top;\n    }\n\n    .dataframe thead th {\n        text-align: right;\n    }\n</style>\n<table border=\"1\" class=\"dataframe\">\n  <thead>\n    <tr style=\"text-align: right;\">\n      <th></th>\n      <th>city</th>\n      <th>temperature</th>\n    </tr>\n  </thead>\n  <tbody>\n    <tr>\n      <th>0</th>\n      <td>new york</td>\n      <td>65</td>\n    </tr>\n    <tr>\n      <th>1</th>\n      <td>new york</td>\n      <td>66</td>\n    </tr>\n    <tr>\n      <th>2</th>\n      <td>new york</td>\n      <td>68</td>\n    </tr>\n  </tbody>\n</table>\n</div>"
     },
     "metadata": {},
     "execution_count": 5
    }
   ],
   "source": [
    "\"Températures de la ville de New-york : 2ème méthode\"\n",
    "\n",
    "test.loc[0:2, ('city', 'temperature')]"
   ]
  },
  {
   "cell_type": "code",
   "execution_count": 66,
   "metadata": {},
   "outputs": [
    {
     "output_type": "execute_result",
     "data": {
      "text/plain": [
       "       date      city  temperature  humidity\n",
       "0  5/1/2017  new york           65        56\n",
       "1  5/2/2017  new york           66        58\n",
       "2  5/3/2017  new york           68        60"
      ],
      "text/html": "<div>\n<style scoped>\n    .dataframe tbody tr th:only-of-type {\n        vertical-align: middle;\n    }\n\n    .dataframe tbody tr th {\n        vertical-align: top;\n    }\n\n    .dataframe thead th {\n        text-align: right;\n    }\n</style>\n<table border=\"1\" class=\"dataframe\">\n  <thead>\n    <tr style=\"text-align: right;\">\n      <th></th>\n      <th>date</th>\n      <th>city</th>\n      <th>temperature</th>\n      <th>humidity</th>\n    </tr>\n  </thead>\n  <tbody>\n    <tr>\n      <th>0</th>\n      <td>5/1/2017</td>\n      <td>new york</td>\n      <td>65</td>\n      <td>56</td>\n    </tr>\n    <tr>\n      <th>1</th>\n      <td>5/2/2017</td>\n      <td>new york</td>\n      <td>66</td>\n      <td>58</td>\n    </tr>\n    <tr>\n      <th>2</th>\n      <td>5/3/2017</td>\n      <td>new york</td>\n      <td>68</td>\n      <td>60</td>\n    </tr>\n  </tbody>\n</table>\n</div>"
     },
     "metadata": {},
     "execution_count": 66
    }
   ],
   "source": [
    "\"Accès aux données ayant une température < de 70\"\n",
    "\n",
    "test[test['temperature'] < 70]"
   ]
  },
  {
   "cell_type": "code",
   "execution_count": 68,
   "metadata": {},
   "outputs": [
    {
     "output_type": "execute_result",
     "data": {
      "text/plain": [
       "0    new york\n",
       "1    new york\n",
       "2    new york\n",
       "Name: city, dtype: object"
      ]
     },
     "metadata": {},
     "execution_count": 68
    }
   ],
   "source": [
    "\"Accès aux villes ayant une température < de 70\"\n",
    "\n",
    "test[test['temperature'] < 70]['city']"
   ]
  },
  {
   "cell_type": "code",
   "execution_count": 69,
   "metadata": {},
   "outputs": [
    {
     "output_type": "execute_result",
     "data": {
      "text/plain": [
       "       date      city  temperature  humidity\n",
       "1  5/2/2017  new york           66        58\n",
       "2  5/3/2017  new york           68        60"
      ],
      "text/html": "<div>\n<style scoped>\n    .dataframe tbody tr th:only-of-type {\n        vertical-align: middle;\n    }\n\n    .dataframe tbody tr th {\n        vertical-align: top;\n    }\n\n    .dataframe thead th {\n        text-align: right;\n    }\n</style>\n<table border=\"1\" class=\"dataframe\">\n  <thead>\n    <tr style=\"text-align: right;\">\n      <th></th>\n      <th>date</th>\n      <th>city</th>\n      <th>temperature</th>\n      <th>humidity</th>\n    </tr>\n  </thead>\n  <tbody>\n    <tr>\n      <th>1</th>\n      <td>5/2/2017</td>\n      <td>new york</td>\n      <td>66</td>\n      <td>58</td>\n    </tr>\n    <tr>\n      <th>2</th>\n      <td>5/3/2017</td>\n      <td>new york</td>\n      <td>68</td>\n      <td>60</td>\n    </tr>\n  </tbody>\n</table>\n</div>"
     },
     "metadata": {},
     "execution_count": 69
    }
   ],
   "source": [
    "\"Accès aux données ayant une température < de 70 et une humidité > 56\"\n",
    "\n",
    "test[(test['temperature'] < 70) & (test['humidity'] > 56)]\n"
   ]
  },
  {
   "cell_type": "code",
   "execution_count": null,
   "metadata": {},
   "outputs": [],
   "source": []
  }
 ]
}