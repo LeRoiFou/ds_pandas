{
 "metadata": {
  "language_info": {
   "codemirror_mode": {
    "name": "ipython",
    "version": 3
   },
   "file_extension": ".py",
   "mimetype": "text/x-python",
   "name": "python",
   "nbconvert_exporter": "python",
   "pygments_lexer": "ipython3",
   "version": "3.9.0"
  },
  "orig_nbformat": 4,
  "kernelspec": {
   "name": "python3",
   "display_name": "Python 3.9.0 32-bit ('virt': venv)"
  },
  "interpreter": {
   "hash": "310030bf3454bf43ed316e973b3bb30e554e0e2234ee37d7ac56d716749a606f"
  }
 },
 "nbformat": 4,
 "nbformat_minor": 2,
 "cells": [
  {
   "source": [
    "\"\"\"\n",
    "Regroupement de multiples tableaux\n",
    "\n",
    "-> concaténer des tableaux : fonction concat()\n",
    "-> regrouper des tableaux avec des données identiques : fonction merge()\n",
    "\n",
    "Éditeur : Laurent REYNAUD\n",
    "Date : 09-07-21\n",
    "\"\"\""
   ],
   "cell_type": "markdown",
   "metadata": {}
  },
  {
   "cell_type": "code",
   "execution_count": 51,
   "metadata": {},
   "outputs": [],
   "source": [
    "import pandas as pd"
   ]
  },
  {
   "cell_type": "code",
   "execution_count": 52,
   "metadata": {},
   "outputs": [
    {
     "output_type": "execute_result",
     "data": {
      "text/plain": [
       "                    date.utc location parameter  value\n",
       "0  2019-06-21 00:00:00+00:00  FR04014       no2   20.0\n",
       "1  2019-06-20 23:00:00+00:00  FR04014       no2   21.8\n",
       "2  2019-06-20 22:00:00+00:00  FR04014       no2   26.5\n",
       "3  2019-06-20 21:00:00+00:00  FR04014       no2   24.9\n",
       "4  2019-06-20 20:00:00+00:00  FR04014       no2   21.4\n",
       "5  2019-06-20 19:00:00+00:00  FR04014       no2   25.3\n",
       "6  2019-06-20 18:00:00+00:00  FR04014       no2   23.9\n",
       "7  2019-06-20 17:00:00+00:00  FR04014       no2   23.2"
      ],
      "text/html": "<div>\n<style scoped>\n    .dataframe tbody tr th:only-of-type {\n        vertical-align: middle;\n    }\n\n    .dataframe tbody tr th {\n        vertical-align: top;\n    }\n\n    .dataframe thead th {\n        text-align: right;\n    }\n</style>\n<table border=\"1\" class=\"dataframe\">\n  <thead>\n    <tr style=\"text-align: right;\">\n      <th></th>\n      <th>date.utc</th>\n      <th>location</th>\n      <th>parameter</th>\n      <th>value</th>\n    </tr>\n  </thead>\n  <tbody>\n    <tr>\n      <th>0</th>\n      <td>2019-06-21 00:00:00+00:00</td>\n      <td>FR04014</td>\n      <td>no2</td>\n      <td>20.0</td>\n    </tr>\n    <tr>\n      <th>1</th>\n      <td>2019-06-20 23:00:00+00:00</td>\n      <td>FR04014</td>\n      <td>no2</td>\n      <td>21.8</td>\n    </tr>\n    <tr>\n      <th>2</th>\n      <td>2019-06-20 22:00:00+00:00</td>\n      <td>FR04014</td>\n      <td>no2</td>\n      <td>26.5</td>\n    </tr>\n    <tr>\n      <th>3</th>\n      <td>2019-06-20 21:00:00+00:00</td>\n      <td>FR04014</td>\n      <td>no2</td>\n      <td>24.9</td>\n    </tr>\n    <tr>\n      <th>4</th>\n      <td>2019-06-20 20:00:00+00:00</td>\n      <td>FR04014</td>\n      <td>no2</td>\n      <td>21.4</td>\n    </tr>\n    <tr>\n      <th>5</th>\n      <td>2019-06-20 19:00:00+00:00</td>\n      <td>FR04014</td>\n      <td>no2</td>\n      <td>25.3</td>\n    </tr>\n    <tr>\n      <th>6</th>\n      <td>2019-06-20 18:00:00+00:00</td>\n      <td>FR04014</td>\n      <td>no2</td>\n      <td>23.9</td>\n    </tr>\n    <tr>\n      <th>7</th>\n      <td>2019-06-20 17:00:00+00:00</td>\n      <td>FR04014</td>\n      <td>no2</td>\n      <td>23.2</td>\n    </tr>\n  </tbody>\n</table>\n</div>"
     },
     "metadata": {},
     "execution_count": 52
    }
   ],
   "source": [
    " \"Importation du fichier n° 1 avec récupération de certaines colonnes\"\n",
    "\n",
    "air_quality_no2 = pd.read_csv('data/air_quality_no2_long.csv', parse_dates=True)\n",
    "air_quality_no2 = air_quality_no2[[\n",
    "    'date.utc', \n",
    "    'location',\n",
    "    'parameter',\n",
    "    'value']]\n",
    "air_quality_no2.head(8)"
   ]
  },
  {
   "cell_type": "code",
   "execution_count": 53,
   "metadata": {},
   "outputs": [
    {
     "output_type": "execute_result",
     "data": {
      "text/plain": [
       "(2068, 4)"
      ]
     },
     "metadata": {},
     "execution_count": 53
    }
   ],
   "source": [
    "\" Nombre de lignes et de colonnes du tableau n° 1\"\n",
    "air_quality_no2.shape"
   ]
  },
  {
   "cell_type": "code",
   "execution_count": 54,
   "metadata": {},
   "outputs": [
    {
     "output_type": "execute_result",
     "data": {
      "text/plain": [
       "                    date.utc location parameter  value\n",
       "0  2019-06-18 06:00:00+00:00  BETR801      pm25   18.0\n",
       "1  2019-06-17 08:00:00+00:00  BETR801      pm25    6.5\n",
       "2  2019-06-17 07:00:00+00:00  BETR801      pm25   18.5\n",
       "3  2019-06-17 06:00:00+00:00  BETR801      pm25   16.0\n",
       "4  2019-06-17 05:00:00+00:00  BETR801      pm25    7.5\n",
       "5  2019-06-17 04:00:00+00:00  BETR801      pm25    7.5\n",
       "6  2019-06-17 03:00:00+00:00  BETR801      pm25    7.0\n",
       "7  2019-06-17 02:00:00+00:00  BETR801      pm25    7.0"
      ],
      "text/html": "<div>\n<style scoped>\n    .dataframe tbody tr th:only-of-type {\n        vertical-align: middle;\n    }\n\n    .dataframe tbody tr th {\n        vertical-align: top;\n    }\n\n    .dataframe thead th {\n        text-align: right;\n    }\n</style>\n<table border=\"1\" class=\"dataframe\">\n  <thead>\n    <tr style=\"text-align: right;\">\n      <th></th>\n      <th>date.utc</th>\n      <th>location</th>\n      <th>parameter</th>\n      <th>value</th>\n    </tr>\n  </thead>\n  <tbody>\n    <tr>\n      <th>0</th>\n      <td>2019-06-18 06:00:00+00:00</td>\n      <td>BETR801</td>\n      <td>pm25</td>\n      <td>18.0</td>\n    </tr>\n    <tr>\n      <th>1</th>\n      <td>2019-06-17 08:00:00+00:00</td>\n      <td>BETR801</td>\n      <td>pm25</td>\n      <td>6.5</td>\n    </tr>\n    <tr>\n      <th>2</th>\n      <td>2019-06-17 07:00:00+00:00</td>\n      <td>BETR801</td>\n      <td>pm25</td>\n      <td>18.5</td>\n    </tr>\n    <tr>\n      <th>3</th>\n      <td>2019-06-17 06:00:00+00:00</td>\n      <td>BETR801</td>\n      <td>pm25</td>\n      <td>16.0</td>\n    </tr>\n    <tr>\n      <th>4</th>\n      <td>2019-06-17 05:00:00+00:00</td>\n      <td>BETR801</td>\n      <td>pm25</td>\n      <td>7.5</td>\n    </tr>\n    <tr>\n      <th>5</th>\n      <td>2019-06-17 04:00:00+00:00</td>\n      <td>BETR801</td>\n      <td>pm25</td>\n      <td>7.5</td>\n    </tr>\n    <tr>\n      <th>6</th>\n      <td>2019-06-17 03:00:00+00:00</td>\n      <td>BETR801</td>\n      <td>pm25</td>\n      <td>7.0</td>\n    </tr>\n    <tr>\n      <th>7</th>\n      <td>2019-06-17 02:00:00+00:00</td>\n      <td>BETR801</td>\n      <td>pm25</td>\n      <td>7.0</td>\n    </tr>\n  </tbody>\n</table>\n</div>"
     },
     "metadata": {},
     "execution_count": 54
    }
   ],
   "source": [
    "\"Importation du fichier n° 2 avec récupération de certaines colonnes\"\n",
    "\n",
    "air_quality_pm25 = pd.read_csv('data/air_quality_pm25_long.csv')\n",
    "air_quality_pm25 = air_quality_pm25[[\n",
    "    'date.utc',\n",
    "    'location',\n",
    "    'parameter',\n",
    "    'value'\n",
    "]]\n",
    "air_quality_pm25.head(8)"
   ]
  },
  {
   "cell_type": "code",
   "execution_count": 55,
   "metadata": {},
   "outputs": [
    {
     "output_type": "execute_result",
     "data": {
      "text/plain": [
       "(1110, 4)"
      ]
     },
     "metadata": {},
     "execution_count": 55
    }
   ],
   "source": [
    "\" Nombre de lignes et de colonnes du tableau n° 2\"\n",
    "air_quality_pm25.shape"
   ]
  },
  {
   "cell_type": "code",
   "execution_count": 56,
   "metadata": {},
   "outputs": [
    {
     "output_type": "execute_result",
     "data": {
      "text/plain": [
       "                       date.utc location parameter  value  \\\n",
       "0     2019-06-18 06:00:00+00:00  BETR801      pm25   18.0   \n",
       "1     2019-06-17 08:00:00+00:00  BETR801      pm25    6.5   \n",
       "2     2019-06-17 07:00:00+00:00  BETR801      pm25   18.5   \n",
       "3     2019-06-17 06:00:00+00:00  BETR801      pm25   16.0   \n",
       "4     2019-06-17 05:00:00+00:00  BETR801      pm25    7.5   \n",
       "...                         ...      ...       ...    ...   \n",
       "2063                        NaN      NaN       NaN    NaN   \n",
       "2064                        NaN      NaN       NaN    NaN   \n",
       "2065                        NaN      NaN       NaN    NaN   \n",
       "2066                        NaN      NaN       NaN    NaN   \n",
       "2067                        NaN      NaN       NaN    NaN   \n",
       "\n",
       "                       date.utc            location parameter  value  \n",
       "0     2019-06-21 00:00:00+00:00             FR04014       no2   20.0  \n",
       "1     2019-06-20 23:00:00+00:00             FR04014       no2   21.8  \n",
       "2     2019-06-20 22:00:00+00:00             FR04014       no2   26.5  \n",
       "3     2019-06-20 21:00:00+00:00             FR04014       no2   24.9  \n",
       "4     2019-06-20 20:00:00+00:00             FR04014       no2   21.4  \n",
       "...                         ...                 ...       ...    ...  \n",
       "2063  2019-05-07 06:00:00+00:00  London Westminster       no2   26.0  \n",
       "2064  2019-05-07 04:00:00+00:00  London Westminster       no2   16.0  \n",
       "2065  2019-05-07 03:00:00+00:00  London Westminster       no2   19.0  \n",
       "2066  2019-05-07 02:00:00+00:00  London Westminster       no2   19.0  \n",
       "2067  2019-05-07 01:00:00+00:00  London Westminster       no2   23.0  \n",
       "\n",
       "[2068 rows x 8 columns]"
      ],
      "text/html": "<div>\n<style scoped>\n    .dataframe tbody tr th:only-of-type {\n        vertical-align: middle;\n    }\n\n    .dataframe tbody tr th {\n        vertical-align: top;\n    }\n\n    .dataframe thead th {\n        text-align: right;\n    }\n</style>\n<table border=\"1\" class=\"dataframe\">\n  <thead>\n    <tr style=\"text-align: right;\">\n      <th></th>\n      <th>date.utc</th>\n      <th>location</th>\n      <th>parameter</th>\n      <th>value</th>\n      <th>date.utc</th>\n      <th>location</th>\n      <th>parameter</th>\n      <th>value</th>\n    </tr>\n  </thead>\n  <tbody>\n    <tr>\n      <th>0</th>\n      <td>2019-06-18 06:00:00+00:00</td>\n      <td>BETR801</td>\n      <td>pm25</td>\n      <td>18.0</td>\n      <td>2019-06-21 00:00:00+00:00</td>\n      <td>FR04014</td>\n      <td>no2</td>\n      <td>20.0</td>\n    </tr>\n    <tr>\n      <th>1</th>\n      <td>2019-06-17 08:00:00+00:00</td>\n      <td>BETR801</td>\n      <td>pm25</td>\n      <td>6.5</td>\n      <td>2019-06-20 23:00:00+00:00</td>\n      <td>FR04014</td>\n      <td>no2</td>\n      <td>21.8</td>\n    </tr>\n    <tr>\n      <th>2</th>\n      <td>2019-06-17 07:00:00+00:00</td>\n      <td>BETR801</td>\n      <td>pm25</td>\n      <td>18.5</td>\n      <td>2019-06-20 22:00:00+00:00</td>\n      <td>FR04014</td>\n      <td>no2</td>\n      <td>26.5</td>\n    </tr>\n    <tr>\n      <th>3</th>\n      <td>2019-06-17 06:00:00+00:00</td>\n      <td>BETR801</td>\n      <td>pm25</td>\n      <td>16.0</td>\n      <td>2019-06-20 21:00:00+00:00</td>\n      <td>FR04014</td>\n      <td>no2</td>\n      <td>24.9</td>\n    </tr>\n    <tr>\n      <th>4</th>\n      <td>2019-06-17 05:00:00+00:00</td>\n      <td>BETR801</td>\n      <td>pm25</td>\n      <td>7.5</td>\n      <td>2019-06-20 20:00:00+00:00</td>\n      <td>FR04014</td>\n      <td>no2</td>\n      <td>21.4</td>\n    </tr>\n    <tr>\n      <th>...</th>\n      <td>...</td>\n      <td>...</td>\n      <td>...</td>\n      <td>...</td>\n      <td>...</td>\n      <td>...</td>\n      <td>...</td>\n      <td>...</td>\n    </tr>\n    <tr>\n      <th>2063</th>\n      <td>NaN</td>\n      <td>NaN</td>\n      <td>NaN</td>\n      <td>NaN</td>\n      <td>2019-05-07 06:00:00+00:00</td>\n      <td>London Westminster</td>\n      <td>no2</td>\n      <td>26.0</td>\n    </tr>\n    <tr>\n      <th>2064</th>\n      <td>NaN</td>\n      <td>NaN</td>\n      <td>NaN</td>\n      <td>NaN</td>\n      <td>2019-05-07 04:00:00+00:00</td>\n      <td>London Westminster</td>\n      <td>no2</td>\n      <td>16.0</td>\n    </tr>\n    <tr>\n      <th>2065</th>\n      <td>NaN</td>\n      <td>NaN</td>\n      <td>NaN</td>\n      <td>NaN</td>\n      <td>2019-05-07 03:00:00+00:00</td>\n      <td>London Westminster</td>\n      <td>no2</td>\n      <td>19.0</td>\n    </tr>\n    <tr>\n      <th>2066</th>\n      <td>NaN</td>\n      <td>NaN</td>\n      <td>NaN</td>\n      <td>NaN</td>\n      <td>2019-05-07 02:00:00+00:00</td>\n      <td>London Westminster</td>\n      <td>no2</td>\n      <td>19.0</td>\n    </tr>\n    <tr>\n      <th>2067</th>\n      <td>NaN</td>\n      <td>NaN</td>\n      <td>NaN</td>\n      <td>NaN</td>\n      <td>2019-05-07 01:00:00+00:00</td>\n      <td>London Westminster</td>\n      <td>no2</td>\n      <td>23.0</td>\n    </tr>\n  </tbody>\n</table>\n<p>2068 rows × 8 columns</p>\n</div>"
     },
     "metadata": {},
     "execution_count": 56
    }
   ],
   "source": [
    "\"Concaténation des deux fichiers précédents\"\n",
    "\n",
    "# Avec axis=1, les deux fichiers sont assemblés horizontalement\n",
    "air_quality = pd.concat([air_quality_pm25, air_quality_no2], axis=1)\n",
    "air_quality"
   ]
  },
  {
   "cell_type": "code",
   "execution_count": 57,
   "metadata": {},
   "outputs": [
    {
     "output_type": "execute_result",
     "data": {
      "text/plain": [
       "                       date.utc            location parameter  value\n",
       "0     2019-06-18 06:00:00+00:00             BETR801      pm25   18.0\n",
       "1     2019-06-17 08:00:00+00:00             BETR801      pm25    6.5\n",
       "2     2019-06-17 07:00:00+00:00             BETR801      pm25   18.5\n",
       "3     2019-06-17 06:00:00+00:00             BETR801      pm25   16.0\n",
       "4     2019-06-17 05:00:00+00:00             BETR801      pm25    7.5\n",
       "...                         ...                 ...       ...    ...\n",
       "2063  2019-05-07 06:00:00+00:00  London Westminster       no2   26.0\n",
       "2064  2019-05-07 04:00:00+00:00  London Westminster       no2   16.0\n",
       "2065  2019-05-07 03:00:00+00:00  London Westminster       no2   19.0\n",
       "2066  2019-05-07 02:00:00+00:00  London Westminster       no2   19.0\n",
       "2067  2019-05-07 01:00:00+00:00  London Westminster       no2   23.0\n",
       "\n",
       "[3178 rows x 4 columns]"
      ],
      "text/html": "<div>\n<style scoped>\n    .dataframe tbody tr th:only-of-type {\n        vertical-align: middle;\n    }\n\n    .dataframe tbody tr th {\n        vertical-align: top;\n    }\n\n    .dataframe thead th {\n        text-align: right;\n    }\n</style>\n<table border=\"1\" class=\"dataframe\">\n  <thead>\n    <tr style=\"text-align: right;\">\n      <th></th>\n      <th>date.utc</th>\n      <th>location</th>\n      <th>parameter</th>\n      <th>value</th>\n    </tr>\n  </thead>\n  <tbody>\n    <tr>\n      <th>0</th>\n      <td>2019-06-18 06:00:00+00:00</td>\n      <td>BETR801</td>\n      <td>pm25</td>\n      <td>18.0</td>\n    </tr>\n    <tr>\n      <th>1</th>\n      <td>2019-06-17 08:00:00+00:00</td>\n      <td>BETR801</td>\n      <td>pm25</td>\n      <td>6.5</td>\n    </tr>\n    <tr>\n      <th>2</th>\n      <td>2019-06-17 07:00:00+00:00</td>\n      <td>BETR801</td>\n      <td>pm25</td>\n      <td>18.5</td>\n    </tr>\n    <tr>\n      <th>3</th>\n      <td>2019-06-17 06:00:00+00:00</td>\n      <td>BETR801</td>\n      <td>pm25</td>\n      <td>16.0</td>\n    </tr>\n    <tr>\n      <th>4</th>\n      <td>2019-06-17 05:00:00+00:00</td>\n      <td>BETR801</td>\n      <td>pm25</td>\n      <td>7.5</td>\n    </tr>\n    <tr>\n      <th>...</th>\n      <td>...</td>\n      <td>...</td>\n      <td>...</td>\n      <td>...</td>\n    </tr>\n    <tr>\n      <th>2063</th>\n      <td>2019-05-07 06:00:00+00:00</td>\n      <td>London Westminster</td>\n      <td>no2</td>\n      <td>26.0</td>\n    </tr>\n    <tr>\n      <th>2064</th>\n      <td>2019-05-07 04:00:00+00:00</td>\n      <td>London Westminster</td>\n      <td>no2</td>\n      <td>16.0</td>\n    </tr>\n    <tr>\n      <th>2065</th>\n      <td>2019-05-07 03:00:00+00:00</td>\n      <td>London Westminster</td>\n      <td>no2</td>\n      <td>19.0</td>\n    </tr>\n    <tr>\n      <th>2066</th>\n      <td>2019-05-07 02:00:00+00:00</td>\n      <td>London Westminster</td>\n      <td>no2</td>\n      <td>19.0</td>\n    </tr>\n    <tr>\n      <th>2067</th>\n      <td>2019-05-07 01:00:00+00:00</td>\n      <td>London Westminster</td>\n      <td>no2</td>\n      <td>23.0</td>\n    </tr>\n  </tbody>\n</table>\n<p>3178 rows × 4 columns</p>\n</div>"
     },
     "metadata": {},
     "execution_count": 57
    }
   ],
   "source": [
    "\"Concaténation des deux fichiers précédents\"\n",
    "\n",
    "# Avec axis=0, les deux fichiers sont assemblés verticalement\n",
    "air_quality = pd.concat([air_quality_pm25, air_quality_no2], axis=0)\n",
    "air_quality"
   ]
  },
  {
   "cell_type": "code",
   "execution_count": 58,
   "metadata": {},
   "outputs": [
    {
     "output_type": "execute_result",
     "data": {
      "text/plain": [
       "                      location  coordinates.latitude  coordinates.longitude\n",
       "0                      BELAL01              51.23619                4.38522\n",
       "1                      BELHB23              51.17030                4.34100\n",
       "2                      BELLD01              51.10998                5.00486\n",
       "3                      BELLD02              51.12038                5.02155\n",
       "4                      BELR833              51.32766                4.36226\n",
       "..                         ...                   ...                    ...\n",
       "61             Southend-on-Sea              51.54420                0.67841\n",
       "62  Southwark A2 Old Kent Road              51.48050               -0.05955\n",
       "63                    Thurrock              51.47707                0.31797\n",
       "64      Tower Hamlets Roadside              51.52253               -0.04216\n",
       "65        Groton Fort Griswold              41.35360              -72.07890\n",
       "\n",
       "[66 rows x 3 columns]"
      ],
      "text/html": "<div>\n<style scoped>\n    .dataframe tbody tr th:only-of-type {\n        vertical-align: middle;\n    }\n\n    .dataframe tbody tr th {\n        vertical-align: top;\n    }\n\n    .dataframe thead th {\n        text-align: right;\n    }\n</style>\n<table border=\"1\" class=\"dataframe\">\n  <thead>\n    <tr style=\"text-align: right;\">\n      <th></th>\n      <th>location</th>\n      <th>coordinates.latitude</th>\n      <th>coordinates.longitude</th>\n    </tr>\n  </thead>\n  <tbody>\n    <tr>\n      <th>0</th>\n      <td>BELAL01</td>\n      <td>51.23619</td>\n      <td>4.38522</td>\n    </tr>\n    <tr>\n      <th>1</th>\n      <td>BELHB23</td>\n      <td>51.17030</td>\n      <td>4.34100</td>\n    </tr>\n    <tr>\n      <th>2</th>\n      <td>BELLD01</td>\n      <td>51.10998</td>\n      <td>5.00486</td>\n    </tr>\n    <tr>\n      <th>3</th>\n      <td>BELLD02</td>\n      <td>51.12038</td>\n      <td>5.02155</td>\n    </tr>\n    <tr>\n      <th>4</th>\n      <td>BELR833</td>\n      <td>51.32766</td>\n      <td>4.36226</td>\n    </tr>\n    <tr>\n      <th>...</th>\n      <td>...</td>\n      <td>...</td>\n      <td>...</td>\n    </tr>\n    <tr>\n      <th>61</th>\n      <td>Southend-on-Sea</td>\n      <td>51.54420</td>\n      <td>0.67841</td>\n    </tr>\n    <tr>\n      <th>62</th>\n      <td>Southwark A2 Old Kent Road</td>\n      <td>51.48050</td>\n      <td>-0.05955</td>\n    </tr>\n    <tr>\n      <th>63</th>\n      <td>Thurrock</td>\n      <td>51.47707</td>\n      <td>0.31797</td>\n    </tr>\n    <tr>\n      <th>64</th>\n      <td>Tower Hamlets Roadside</td>\n      <td>51.52253</td>\n      <td>-0.04216</td>\n    </tr>\n    <tr>\n      <th>65</th>\n      <td>Groton Fort Griswold</td>\n      <td>41.35360</td>\n      <td>-72.07890</td>\n    </tr>\n  </tbody>\n</table>\n<p>66 rows × 3 columns</p>\n</div>"
     },
     "metadata": {},
     "execution_count": 58
    }
   ],
   "source": [
    "\"Regroupement de deux tableaux avec une clé commune\"\n",
    "\n",
    "# Chargement du 1er fichier'\n",
    "stations_coord = pd.read_csv('data/air_quality_stations.csv')\n",
    "stations_coord\n"
   ]
  },
  {
   "source": [
    "\"Regroupement de deux tableaux avec une clé commune\"\n",
    "\n",
    "# Affichage de certaines lignes de ce 1er fichier\n",
    "stations_coord[stations_coord['location'].isin(['BETR801', 'London Westminster'])]"
   ],
   "cell_type": "code",
   "metadata": {},
   "execution_count": 59,
   "outputs": [
    {
     "output_type": "execute_result",
     "data": {
      "text/plain": [
       "              location  coordinates.latitude  coordinates.longitude\n",
       "9              BETR801              51.20966                4.43182\n",
       "60  London Westminster              51.49467               -0.13193"
      ],
      "text/html": "<div>\n<style scoped>\n    .dataframe tbody tr th:only-of-type {\n        vertical-align: middle;\n    }\n\n    .dataframe tbody tr th {\n        vertical-align: top;\n    }\n\n    .dataframe thead th {\n        text-align: right;\n    }\n</style>\n<table border=\"1\" class=\"dataframe\">\n  <thead>\n    <tr style=\"text-align: right;\">\n      <th></th>\n      <th>location</th>\n      <th>coordinates.latitude</th>\n      <th>coordinates.longitude</th>\n    </tr>\n  </thead>\n  <tbody>\n    <tr>\n      <th>9</th>\n      <td>BETR801</td>\n      <td>51.20966</td>\n      <td>4.43182</td>\n    </tr>\n    <tr>\n      <th>60</th>\n      <td>London Westminster</td>\n      <td>51.49467</td>\n      <td>-0.13193</td>\n    </tr>\n  </tbody>\n</table>\n</div>"
     },
     "metadata": {},
     "execution_count": 59
    }
   ]
  },
  {
   "cell_type": "code",
   "execution_count": 60,
   "metadata": {},
   "outputs": [
    {
     "output_type": "execute_result",
     "data": {
      "text/plain": [
       "                       date.utc            location parameter  value\n",
       "0     2019-06-18 06:00:00+00:00             BETR801      pm25   18.0\n",
       "1     2019-06-17 08:00:00+00:00             BETR801      pm25    6.5\n",
       "2     2019-06-17 07:00:00+00:00             BETR801      pm25   18.5\n",
       "3     2019-06-17 06:00:00+00:00             BETR801      pm25   16.0\n",
       "4     2019-06-17 05:00:00+00:00             BETR801      pm25    7.5\n",
       "...                         ...                 ...       ...    ...\n",
       "2063  2019-05-07 06:00:00+00:00  London Westminster       no2   26.0\n",
       "2064  2019-05-07 04:00:00+00:00  London Westminster       no2   16.0\n",
       "2065  2019-05-07 03:00:00+00:00  London Westminster       no2   19.0\n",
       "2066  2019-05-07 02:00:00+00:00  London Westminster       no2   19.0\n",
       "2067  2019-05-07 01:00:00+00:00  London Westminster       no2   23.0\n",
       "\n",
       "[3178 rows x 4 columns]"
      ],
      "text/html": "<div>\n<style scoped>\n    .dataframe tbody tr th:only-of-type {\n        vertical-align: middle;\n    }\n\n    .dataframe tbody tr th {\n        vertical-align: top;\n    }\n\n    .dataframe thead th {\n        text-align: right;\n    }\n</style>\n<table border=\"1\" class=\"dataframe\">\n  <thead>\n    <tr style=\"text-align: right;\">\n      <th></th>\n      <th>date.utc</th>\n      <th>location</th>\n      <th>parameter</th>\n      <th>value</th>\n    </tr>\n  </thead>\n  <tbody>\n    <tr>\n      <th>0</th>\n      <td>2019-06-18 06:00:00+00:00</td>\n      <td>BETR801</td>\n      <td>pm25</td>\n      <td>18.0</td>\n    </tr>\n    <tr>\n      <th>1</th>\n      <td>2019-06-17 08:00:00+00:00</td>\n      <td>BETR801</td>\n      <td>pm25</td>\n      <td>6.5</td>\n    </tr>\n    <tr>\n      <th>2</th>\n      <td>2019-06-17 07:00:00+00:00</td>\n      <td>BETR801</td>\n      <td>pm25</td>\n      <td>18.5</td>\n    </tr>\n    <tr>\n      <th>3</th>\n      <td>2019-06-17 06:00:00+00:00</td>\n      <td>BETR801</td>\n      <td>pm25</td>\n      <td>16.0</td>\n    </tr>\n    <tr>\n      <th>4</th>\n      <td>2019-06-17 05:00:00+00:00</td>\n      <td>BETR801</td>\n      <td>pm25</td>\n      <td>7.5</td>\n    </tr>\n    <tr>\n      <th>...</th>\n      <td>...</td>\n      <td>...</td>\n      <td>...</td>\n      <td>...</td>\n    </tr>\n    <tr>\n      <th>2063</th>\n      <td>2019-05-07 06:00:00+00:00</td>\n      <td>London Westminster</td>\n      <td>no2</td>\n      <td>26.0</td>\n    </tr>\n    <tr>\n      <th>2064</th>\n      <td>2019-05-07 04:00:00+00:00</td>\n      <td>London Westminster</td>\n      <td>no2</td>\n      <td>16.0</td>\n    </tr>\n    <tr>\n      <th>2065</th>\n      <td>2019-05-07 03:00:00+00:00</td>\n      <td>London Westminster</td>\n      <td>no2</td>\n      <td>19.0</td>\n    </tr>\n    <tr>\n      <th>2066</th>\n      <td>2019-05-07 02:00:00+00:00</td>\n      <td>London Westminster</td>\n      <td>no2</td>\n      <td>19.0</td>\n    </tr>\n    <tr>\n      <th>2067</th>\n      <td>2019-05-07 01:00:00+00:00</td>\n      <td>London Westminster</td>\n      <td>no2</td>\n      <td>23.0</td>\n    </tr>\n  </tbody>\n</table>\n<p>3178 rows × 4 columns</p>\n</div>"
     },
     "metadata": {},
     "execution_count": 60
    }
   ],
   "source": [
    "\"Regroupement de deux tableaux avec une clé commune\"\n",
    "\n",
    "# Récupération du 2ème fichier'\n",
    "air_quality\n"
   ]
  },
  {
   "cell_type": "code",
   "execution_count": 61,
   "metadata": {},
   "outputs": [
    {
     "output_type": "execute_result",
     "data": {
      "text/plain": [
       "                       date.utc            location parameter  value  \\\n",
       "0     2019-06-18 06:00:00+00:00             BETR801      pm25   18.0   \n",
       "1     2019-06-17 08:00:00+00:00             BETR801      pm25    6.5   \n",
       "2     2019-06-17 07:00:00+00:00             BETR801      pm25   18.5   \n",
       "3     2019-06-17 06:00:00+00:00             BETR801      pm25   16.0   \n",
       "4     2019-06-17 05:00:00+00:00             BETR801      pm25    7.5   \n",
       "...                         ...                 ...       ...    ...   \n",
       "4177  2019-05-07 06:00:00+00:00  London Westminster       no2   26.0   \n",
       "4178  2019-05-07 04:00:00+00:00  London Westminster       no2   16.0   \n",
       "4179  2019-05-07 03:00:00+00:00  London Westminster       no2   19.0   \n",
       "4180  2019-05-07 02:00:00+00:00  London Westminster       no2   19.0   \n",
       "4181  2019-05-07 01:00:00+00:00  London Westminster       no2   23.0   \n",
       "\n",
       "      coordinates.latitude  coordinates.longitude  \n",
       "0                 51.20966                4.43182  \n",
       "1                 51.20966                4.43182  \n",
       "2                 51.20966                4.43182  \n",
       "3                 51.20966                4.43182  \n",
       "4                 51.20966                4.43182  \n",
       "...                    ...                    ...  \n",
       "4177              51.49467               -0.13193  \n",
       "4178              51.49467               -0.13193  \n",
       "4179              51.49467               -0.13193  \n",
       "4180              51.49467               -0.13193  \n",
       "4181              51.49467               -0.13193  \n",
       "\n",
       "[4182 rows x 6 columns]"
      ],
      "text/html": "<div>\n<style scoped>\n    .dataframe tbody tr th:only-of-type {\n        vertical-align: middle;\n    }\n\n    .dataframe tbody tr th {\n        vertical-align: top;\n    }\n\n    .dataframe thead th {\n        text-align: right;\n    }\n</style>\n<table border=\"1\" class=\"dataframe\">\n  <thead>\n    <tr style=\"text-align: right;\">\n      <th></th>\n      <th>date.utc</th>\n      <th>location</th>\n      <th>parameter</th>\n      <th>value</th>\n      <th>coordinates.latitude</th>\n      <th>coordinates.longitude</th>\n    </tr>\n  </thead>\n  <tbody>\n    <tr>\n      <th>0</th>\n      <td>2019-06-18 06:00:00+00:00</td>\n      <td>BETR801</td>\n      <td>pm25</td>\n      <td>18.0</td>\n      <td>51.20966</td>\n      <td>4.43182</td>\n    </tr>\n    <tr>\n      <th>1</th>\n      <td>2019-06-17 08:00:00+00:00</td>\n      <td>BETR801</td>\n      <td>pm25</td>\n      <td>6.5</td>\n      <td>51.20966</td>\n      <td>4.43182</td>\n    </tr>\n    <tr>\n      <th>2</th>\n      <td>2019-06-17 07:00:00+00:00</td>\n      <td>BETR801</td>\n      <td>pm25</td>\n      <td>18.5</td>\n      <td>51.20966</td>\n      <td>4.43182</td>\n    </tr>\n    <tr>\n      <th>3</th>\n      <td>2019-06-17 06:00:00+00:00</td>\n      <td>BETR801</td>\n      <td>pm25</td>\n      <td>16.0</td>\n      <td>51.20966</td>\n      <td>4.43182</td>\n    </tr>\n    <tr>\n      <th>4</th>\n      <td>2019-06-17 05:00:00+00:00</td>\n      <td>BETR801</td>\n      <td>pm25</td>\n      <td>7.5</td>\n      <td>51.20966</td>\n      <td>4.43182</td>\n    </tr>\n    <tr>\n      <th>...</th>\n      <td>...</td>\n      <td>...</td>\n      <td>...</td>\n      <td>...</td>\n      <td>...</td>\n      <td>...</td>\n    </tr>\n    <tr>\n      <th>4177</th>\n      <td>2019-05-07 06:00:00+00:00</td>\n      <td>London Westminster</td>\n      <td>no2</td>\n      <td>26.0</td>\n      <td>51.49467</td>\n      <td>-0.13193</td>\n    </tr>\n    <tr>\n      <th>4178</th>\n      <td>2019-05-07 04:00:00+00:00</td>\n      <td>London Westminster</td>\n      <td>no2</td>\n      <td>16.0</td>\n      <td>51.49467</td>\n      <td>-0.13193</td>\n    </tr>\n    <tr>\n      <th>4179</th>\n      <td>2019-05-07 03:00:00+00:00</td>\n      <td>London Westminster</td>\n      <td>no2</td>\n      <td>19.0</td>\n      <td>51.49467</td>\n      <td>-0.13193</td>\n    </tr>\n    <tr>\n      <th>4180</th>\n      <td>2019-05-07 02:00:00+00:00</td>\n      <td>London Westminster</td>\n      <td>no2</td>\n      <td>19.0</td>\n      <td>51.49467</td>\n      <td>-0.13193</td>\n    </tr>\n    <tr>\n      <th>4181</th>\n      <td>2019-05-07 01:00:00+00:00</td>\n      <td>London Westminster</td>\n      <td>no2</td>\n      <td>23.0</td>\n      <td>51.49467</td>\n      <td>-0.13193</td>\n    </tr>\n  </tbody>\n</table>\n<p>4182 rows × 6 columns</p>\n</div>"
     },
     "metadata": {},
     "execution_count": 61
    }
   ],
   "source": [
    "\"Regroupement de deux tableaux avec une clé commune\"\n",
    "\n",
    "# Ajout à droite le 1er fichier au 2ème fichier ci-dessus avec pour clé commune 'location'\n",
    "air_quality = pd.merge(air_quality, stations_coord, how=\"left\", on=\"location\")\n",
    "air_quality"
   ]
  },
  {
   "cell_type": "code",
   "execution_count": 62,
   "metadata": {},
   "outputs": [
    {
     "output_type": "execute_result",
     "data": {
      "text/plain": [
       "     id                                        description   name\n",
       "0    bc                                       Black Carbon     BC\n",
       "1    co                                    Carbon Monoxide     CO\n",
       "2   no2                                   Nitrogen Dioxide    NO2\n",
       "3    o3                                              Ozone     O3\n",
       "4  pm10  Particulate matter less than 10 micrometers in...   PM10\n",
       "5  pm25  Particulate matter less than 2.5 micrometers i...  PM2.5\n",
       "6   so2                                     Sulfur Dioxide    SO2"
      ],
      "text/html": "<div>\n<style scoped>\n    .dataframe tbody tr th:only-of-type {\n        vertical-align: middle;\n    }\n\n    .dataframe tbody tr th {\n        vertical-align: top;\n    }\n\n    .dataframe thead th {\n        text-align: right;\n    }\n</style>\n<table border=\"1\" class=\"dataframe\">\n  <thead>\n    <tr style=\"text-align: right;\">\n      <th></th>\n      <th>id</th>\n      <th>description</th>\n      <th>name</th>\n    </tr>\n  </thead>\n  <tbody>\n    <tr>\n      <th>0</th>\n      <td>bc</td>\n      <td>Black Carbon</td>\n      <td>BC</td>\n    </tr>\n    <tr>\n      <th>1</th>\n      <td>co</td>\n      <td>Carbon Monoxide</td>\n      <td>CO</td>\n    </tr>\n    <tr>\n      <th>2</th>\n      <td>no2</td>\n      <td>Nitrogen Dioxide</td>\n      <td>NO2</td>\n    </tr>\n    <tr>\n      <th>3</th>\n      <td>o3</td>\n      <td>Ozone</td>\n      <td>O3</td>\n    </tr>\n    <tr>\n      <th>4</th>\n      <td>pm10</td>\n      <td>Particulate matter less than 10 micrometers in...</td>\n      <td>PM10</td>\n    </tr>\n    <tr>\n      <th>5</th>\n      <td>pm25</td>\n      <td>Particulate matter less than 2.5 micrometers i...</td>\n      <td>PM2.5</td>\n    </tr>\n    <tr>\n      <th>6</th>\n      <td>so2</td>\n      <td>Sulfur Dioxide</td>\n      <td>SO2</td>\n    </tr>\n  </tbody>\n</table>\n</div>"
     },
     "metadata": {},
     "execution_count": 62
    }
   ],
   "source": [
    "\"Regroupement de deux tableaux avec deux clés distinctes mais avec des données identiques\"\n",
    "\n",
    "# Chargement d'un nouveau fichier\n",
    "air_quality_parameters = pd.read_csv(\"data/air_quality_parameters.csv\")\n",
    "air_quality_parameters"
   ]
  },
  {
   "cell_type": "code",
   "execution_count": 63,
   "metadata": {},
   "outputs": [
    {
     "output_type": "execute_result",
     "data": {
      "text/plain": [
       "                       date.utc            location parameter  value  \\\n",
       "0     2019-06-18 06:00:00+00:00             BETR801      pm25   18.0   \n",
       "1     2019-06-17 08:00:00+00:00             BETR801      pm25    6.5   \n",
       "2     2019-06-17 07:00:00+00:00             BETR801      pm25   18.5   \n",
       "3     2019-06-17 06:00:00+00:00             BETR801      pm25   16.0   \n",
       "4     2019-06-17 05:00:00+00:00             BETR801      pm25    7.5   \n",
       "...                         ...                 ...       ...    ...   \n",
       "4177  2019-05-07 06:00:00+00:00  London Westminster       no2   26.0   \n",
       "4178  2019-05-07 04:00:00+00:00  London Westminster       no2   16.0   \n",
       "4179  2019-05-07 03:00:00+00:00  London Westminster       no2   19.0   \n",
       "4180  2019-05-07 02:00:00+00:00  London Westminster       no2   19.0   \n",
       "4181  2019-05-07 01:00:00+00:00  London Westminster       no2   23.0   \n",
       "\n",
       "      coordinates.latitude  coordinates.longitude    id  \\\n",
       "0                 51.20966                4.43182  pm25   \n",
       "1                 51.20966                4.43182  pm25   \n",
       "2                 51.20966                4.43182  pm25   \n",
       "3                 51.20966                4.43182  pm25   \n",
       "4                 51.20966                4.43182  pm25   \n",
       "...                    ...                    ...   ...   \n",
       "4177              51.49467               -0.13193   no2   \n",
       "4178              51.49467               -0.13193   no2   \n",
       "4179              51.49467               -0.13193   no2   \n",
       "4180              51.49467               -0.13193   no2   \n",
       "4181              51.49467               -0.13193   no2   \n",
       "\n",
       "                                            description   name  \n",
       "0     Particulate matter less than 2.5 micrometers i...  PM2.5  \n",
       "1     Particulate matter less than 2.5 micrometers i...  PM2.5  \n",
       "2     Particulate matter less than 2.5 micrometers i...  PM2.5  \n",
       "3     Particulate matter less than 2.5 micrometers i...  PM2.5  \n",
       "4     Particulate matter less than 2.5 micrometers i...  PM2.5  \n",
       "...                                                 ...    ...  \n",
       "4177                                   Nitrogen Dioxide    NO2  \n",
       "4178                                   Nitrogen Dioxide    NO2  \n",
       "4179                                   Nitrogen Dioxide    NO2  \n",
       "4180                                   Nitrogen Dioxide    NO2  \n",
       "4181                                   Nitrogen Dioxide    NO2  \n",
       "\n",
       "[4182 rows x 9 columns]"
      ],
      "text/html": "<div>\n<style scoped>\n    .dataframe tbody tr th:only-of-type {\n        vertical-align: middle;\n    }\n\n    .dataframe tbody tr th {\n        vertical-align: top;\n    }\n\n    .dataframe thead th {\n        text-align: right;\n    }\n</style>\n<table border=\"1\" class=\"dataframe\">\n  <thead>\n    <tr style=\"text-align: right;\">\n      <th></th>\n      <th>date.utc</th>\n      <th>location</th>\n      <th>parameter</th>\n      <th>value</th>\n      <th>coordinates.latitude</th>\n      <th>coordinates.longitude</th>\n      <th>id</th>\n      <th>description</th>\n      <th>name</th>\n    </tr>\n  </thead>\n  <tbody>\n    <tr>\n      <th>0</th>\n      <td>2019-06-18 06:00:00+00:00</td>\n      <td>BETR801</td>\n      <td>pm25</td>\n      <td>18.0</td>\n      <td>51.20966</td>\n      <td>4.43182</td>\n      <td>pm25</td>\n      <td>Particulate matter less than 2.5 micrometers i...</td>\n      <td>PM2.5</td>\n    </tr>\n    <tr>\n      <th>1</th>\n      <td>2019-06-17 08:00:00+00:00</td>\n      <td>BETR801</td>\n      <td>pm25</td>\n      <td>6.5</td>\n      <td>51.20966</td>\n      <td>4.43182</td>\n      <td>pm25</td>\n      <td>Particulate matter less than 2.5 micrometers i...</td>\n      <td>PM2.5</td>\n    </tr>\n    <tr>\n      <th>2</th>\n      <td>2019-06-17 07:00:00+00:00</td>\n      <td>BETR801</td>\n      <td>pm25</td>\n      <td>18.5</td>\n      <td>51.20966</td>\n      <td>4.43182</td>\n      <td>pm25</td>\n      <td>Particulate matter less than 2.5 micrometers i...</td>\n      <td>PM2.5</td>\n    </tr>\n    <tr>\n      <th>3</th>\n      <td>2019-06-17 06:00:00+00:00</td>\n      <td>BETR801</td>\n      <td>pm25</td>\n      <td>16.0</td>\n      <td>51.20966</td>\n      <td>4.43182</td>\n      <td>pm25</td>\n      <td>Particulate matter less than 2.5 micrometers i...</td>\n      <td>PM2.5</td>\n    </tr>\n    <tr>\n      <th>4</th>\n      <td>2019-06-17 05:00:00+00:00</td>\n      <td>BETR801</td>\n      <td>pm25</td>\n      <td>7.5</td>\n      <td>51.20966</td>\n      <td>4.43182</td>\n      <td>pm25</td>\n      <td>Particulate matter less than 2.5 micrometers i...</td>\n      <td>PM2.5</td>\n    </tr>\n    <tr>\n      <th>...</th>\n      <td>...</td>\n      <td>...</td>\n      <td>...</td>\n      <td>...</td>\n      <td>...</td>\n      <td>...</td>\n      <td>...</td>\n      <td>...</td>\n      <td>...</td>\n    </tr>\n    <tr>\n      <th>4177</th>\n      <td>2019-05-07 06:00:00+00:00</td>\n      <td>London Westminster</td>\n      <td>no2</td>\n      <td>26.0</td>\n      <td>51.49467</td>\n      <td>-0.13193</td>\n      <td>no2</td>\n      <td>Nitrogen Dioxide</td>\n      <td>NO2</td>\n    </tr>\n    <tr>\n      <th>4178</th>\n      <td>2019-05-07 04:00:00+00:00</td>\n      <td>London Westminster</td>\n      <td>no2</td>\n      <td>16.0</td>\n      <td>51.49467</td>\n      <td>-0.13193</td>\n      <td>no2</td>\n      <td>Nitrogen Dioxide</td>\n      <td>NO2</td>\n    </tr>\n    <tr>\n      <th>4179</th>\n      <td>2019-05-07 03:00:00+00:00</td>\n      <td>London Westminster</td>\n      <td>no2</td>\n      <td>19.0</td>\n      <td>51.49467</td>\n      <td>-0.13193</td>\n      <td>no2</td>\n      <td>Nitrogen Dioxide</td>\n      <td>NO2</td>\n    </tr>\n    <tr>\n      <th>4180</th>\n      <td>2019-05-07 02:00:00+00:00</td>\n      <td>London Westminster</td>\n      <td>no2</td>\n      <td>19.0</td>\n      <td>51.49467</td>\n      <td>-0.13193</td>\n      <td>no2</td>\n      <td>Nitrogen Dioxide</td>\n      <td>NO2</td>\n    </tr>\n    <tr>\n      <th>4181</th>\n      <td>2019-05-07 01:00:00+00:00</td>\n      <td>London Westminster</td>\n      <td>no2</td>\n      <td>23.0</td>\n      <td>51.49467</td>\n      <td>-0.13193</td>\n      <td>no2</td>\n      <td>Nitrogen Dioxide</td>\n      <td>NO2</td>\n    </tr>\n  </tbody>\n</table>\n<p>4182 rows × 9 columns</p>\n</div>"
     },
     "metadata": {},
     "execution_count": 63
    }
   ],
   "source": [
    "\"Regroupement de deux tableaux avec deux clés distinctes mais avec des données identiques\"\n",
    "\n",
    "# Ajout à gauche du nouveau fichier en liant le champ 'parameter' du 1er fichier au champ 'id' du deuxième fichier\n",
    "air_quality = pd.merge(air_quality, air_quality_parameters, how='left', left_on='parameter', right_on='id')\n",
    "air_quality"
   ]
  },
  {
   "cell_type": "code",
   "execution_count": null,
   "metadata": {},
   "outputs": [],
   "source": []
  }
 ]
}