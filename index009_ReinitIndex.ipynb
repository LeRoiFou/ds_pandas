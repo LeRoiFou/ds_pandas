{
 "cells": [
  {
   "cell_type": "code",
   "execution_count": null,
   "metadata": {},
   "outputs": [],
   "source": [
    "\"\"\"\n",
    "Data Science : la librairie pandas\n",
    "Lien : https://www.youtube.com/watch?v=vmEHCJofslg\n",
    "\n",
    "Modification des index sur une nouvelle variable :\n",
    "Lorsqu'on affecte un filtre sur le fichier dans une nouvelle\n",
    "variable, les index qui ressortent ne sont pas réinitialisés.\n",
    "\n",
    "Éditeur : Laurent REYNAUD\n",
    "Date : 30-06-2021\n",
    "\"\"\""
   ]
  },
  {
   "cell_type": "code",
   "execution_count": 1,
   "metadata": {},
   "outputs": [],
   "source": [
    "import pandas as pd"
   ]
  },
  {
   "cell_type": "code",
   "execution_count": 2,
   "metadata": {},
   "outputs": [],
   "source": [
    "# Récupération du fichier .csv\n",
    "df_csv = pd.read_csv('data/pokemon_data.csv')"
   ]
  },
  {
   "cell_type": "code",
   "execution_count": 3,
   "metadata": {},
   "outputs": [],
   "source": [
    "# Création d'une nouvelle variable sur le filtre procédé\n",
    "# dans le fichier d'origine\n",
    "new_df_csv = (df_csv.loc[(df_csv['Type 1'] == 'Grass') \n",
    "                 & (df_csv['Type 2'] == 'Poison')\n",
    "                 & (df_csv['HP'] > 70)])"
   ]
  },
  {
   "cell_type": "code",
   "execution_count": 4,
   "metadata": {},
   "outputs": [
    {
     "output_type": "execute_result",
     "data": {
      "text/plain": [
       "       #                   Name Type 1  Type 2   HP  Attack  Defense  Sp. Atk  \\\n",
       "2      3               Venusaur  Grass  Poison   80      82       83      100   \n",
       "3      3  VenusaurMega Venusaur  Grass  Poison   80     100      123      122   \n",
       "50    45              Vileplume  Grass  Poison   75      80       85      110   \n",
       "77    71             Victreebel  Grass  Poison   80     105       65      100   \n",
       "652  591              Amoonguss  Grass  Poison  114      85       70       85   \n",
       "\n",
       "     Sp. Def  Speed  Generation  Legendary  \n",
       "2        100     80           1      False  \n",
       "3        120     80           1      False  \n",
       "50        90     50           1      False  \n",
       "77        70     70           1      False  \n",
       "652       80     30           5      False  "
      ],
      "text/html": "<div>\n<style scoped>\n    .dataframe tbody tr th:only-of-type {\n        vertical-align: middle;\n    }\n\n    .dataframe tbody tr th {\n        vertical-align: top;\n    }\n\n    .dataframe thead th {\n        text-align: right;\n    }\n</style>\n<table border=\"1\" class=\"dataframe\">\n  <thead>\n    <tr style=\"text-align: right;\">\n      <th></th>\n      <th>#</th>\n      <th>Name</th>\n      <th>Type 1</th>\n      <th>Type 2</th>\n      <th>HP</th>\n      <th>Attack</th>\n      <th>Defense</th>\n      <th>Sp. Atk</th>\n      <th>Sp. Def</th>\n      <th>Speed</th>\n      <th>Generation</th>\n      <th>Legendary</th>\n    </tr>\n  </thead>\n  <tbody>\n    <tr>\n      <th>2</th>\n      <td>3</td>\n      <td>Venusaur</td>\n      <td>Grass</td>\n      <td>Poison</td>\n      <td>80</td>\n      <td>82</td>\n      <td>83</td>\n      <td>100</td>\n      <td>100</td>\n      <td>80</td>\n      <td>1</td>\n      <td>False</td>\n    </tr>\n    <tr>\n      <th>3</th>\n      <td>3</td>\n      <td>VenusaurMega Venusaur</td>\n      <td>Grass</td>\n      <td>Poison</td>\n      <td>80</td>\n      <td>100</td>\n      <td>123</td>\n      <td>122</td>\n      <td>120</td>\n      <td>80</td>\n      <td>1</td>\n      <td>False</td>\n    </tr>\n    <tr>\n      <th>50</th>\n      <td>45</td>\n      <td>Vileplume</td>\n      <td>Grass</td>\n      <td>Poison</td>\n      <td>75</td>\n      <td>80</td>\n      <td>85</td>\n      <td>110</td>\n      <td>90</td>\n      <td>50</td>\n      <td>1</td>\n      <td>False</td>\n    </tr>\n    <tr>\n      <th>77</th>\n      <td>71</td>\n      <td>Victreebel</td>\n      <td>Grass</td>\n      <td>Poison</td>\n      <td>80</td>\n      <td>105</td>\n      <td>65</td>\n      <td>100</td>\n      <td>70</td>\n      <td>70</td>\n      <td>1</td>\n      <td>False</td>\n    </tr>\n    <tr>\n      <th>652</th>\n      <td>591</td>\n      <td>Amoonguss</td>\n      <td>Grass</td>\n      <td>Poison</td>\n      <td>114</td>\n      <td>85</td>\n      <td>70</td>\n      <td>85</td>\n      <td>80</td>\n      <td>30</td>\n      <td>5</td>\n      <td>False</td>\n    </tr>\n  </tbody>\n</table>\n</div>"
     },
     "metadata": {},
     "execution_count": 4
    }
   ],
   "source": [
    "# Les index de cette nouvelle variable ne sont pas réinitialisés\n",
    "new_df_csv"
   ]
  },
  {
   "cell_type": "code",
   "execution_count": 5,
   "metadata": {},
   "outputs": [],
   "source": [
    "\"\"\"Réinitialisation des index\n",
    "Pour masquer l'ancienne colonne index qui s'affichera automatiquement\n",
    "compléter la fonction reset_index() en passant en argument : drop=True\"\"\"\n",
    "new_df_csv = new_df_csv.reset_index(drop=True)"
   ]
  },
  {
   "cell_type": "code",
   "execution_count": 6,
   "metadata": {},
   "outputs": [
    {
     "output_type": "execute_result",
     "data": {
      "text/plain": [
       "     #                   Name Type 1  Type 2   HP  Attack  Defense  Sp. Atk  \\\n",
       "0    3               Venusaur  Grass  Poison   80      82       83      100   \n",
       "1    3  VenusaurMega Venusaur  Grass  Poison   80     100      123      122   \n",
       "2   45              Vileplume  Grass  Poison   75      80       85      110   \n",
       "3   71             Victreebel  Grass  Poison   80     105       65      100   \n",
       "4  591              Amoonguss  Grass  Poison  114      85       70       85   \n",
       "\n",
       "   Sp. Def  Speed  Generation  Legendary  \n",
       "0      100     80           1      False  \n",
       "1      120     80           1      False  \n",
       "2       90     50           1      False  \n",
       "3       70     70           1      False  \n",
       "4       80     30           5      False  "
      ],
      "text/html": "<div>\n<style scoped>\n    .dataframe tbody tr th:only-of-type {\n        vertical-align: middle;\n    }\n\n    .dataframe tbody tr th {\n        vertical-align: top;\n    }\n\n    .dataframe thead th {\n        text-align: right;\n    }\n</style>\n<table border=\"1\" class=\"dataframe\">\n  <thead>\n    <tr style=\"text-align: right;\">\n      <th></th>\n      <th>#</th>\n      <th>Name</th>\n      <th>Type 1</th>\n      <th>Type 2</th>\n      <th>HP</th>\n      <th>Attack</th>\n      <th>Defense</th>\n      <th>Sp. Atk</th>\n      <th>Sp. Def</th>\n      <th>Speed</th>\n      <th>Generation</th>\n      <th>Legendary</th>\n    </tr>\n  </thead>\n  <tbody>\n    <tr>\n      <th>0</th>\n      <td>3</td>\n      <td>Venusaur</td>\n      <td>Grass</td>\n      <td>Poison</td>\n      <td>80</td>\n      <td>82</td>\n      <td>83</td>\n      <td>100</td>\n      <td>100</td>\n      <td>80</td>\n      <td>1</td>\n      <td>False</td>\n    </tr>\n    <tr>\n      <th>1</th>\n      <td>3</td>\n      <td>VenusaurMega Venusaur</td>\n      <td>Grass</td>\n      <td>Poison</td>\n      <td>80</td>\n      <td>100</td>\n      <td>123</td>\n      <td>122</td>\n      <td>120</td>\n      <td>80</td>\n      <td>1</td>\n      <td>False</td>\n    </tr>\n    <tr>\n      <th>2</th>\n      <td>45</td>\n      <td>Vileplume</td>\n      <td>Grass</td>\n      <td>Poison</td>\n      <td>75</td>\n      <td>80</td>\n      <td>85</td>\n      <td>110</td>\n      <td>90</td>\n      <td>50</td>\n      <td>1</td>\n      <td>False</td>\n    </tr>\n    <tr>\n      <th>3</th>\n      <td>71</td>\n      <td>Victreebel</td>\n      <td>Grass</td>\n      <td>Poison</td>\n      <td>80</td>\n      <td>105</td>\n      <td>65</td>\n      <td>100</td>\n      <td>70</td>\n      <td>70</td>\n      <td>1</td>\n      <td>False</td>\n    </tr>\n    <tr>\n      <th>4</th>\n      <td>591</td>\n      <td>Amoonguss</td>\n      <td>Grass</td>\n      <td>Poison</td>\n      <td>114</td>\n      <td>85</td>\n      <td>70</td>\n      <td>85</td>\n      <td>80</td>\n      <td>30</td>\n      <td>5</td>\n      <td>False</td>\n    </tr>\n  </tbody>\n</table>\n</div>"
     },
     "metadata": {},
     "execution_count": 6
    }
   ],
   "source": [
    "new_df_csv"
   ]
  },
  {
   "cell_type": "code",
   "execution_count": null,
   "metadata": {},
   "outputs": [],
   "source": []
  }
 ],
 "metadata": {
  "kernelspec": {
   "name": "python3",
   "display_name": "Python 3.9.0 32-bit ('virt': venv)"
  },
  "language_info": {
   "codemirror_mode": {
    "name": "ipython",
    "version": 3
   },
   "file_extension": ".py",
   "mimetype": "text/x-python",
   "name": "python",
   "nbconvert_exporter": "python",
   "pygments_lexer": "ipython3",
   "version": "3.9.0"
  },
  "interpreter": {
   "hash": "310030bf3454bf43ed316e973b3bb30e554e0e2234ee37d7ac56d716749a606f"
  }
 },
 "nbformat": 4,
 "nbformat_minor": 5
}