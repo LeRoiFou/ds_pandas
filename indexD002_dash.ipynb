{
 "cells": [
  {
   "attachments": {},
   "cell_type": "markdown",
   "metadata": {},
   "source": [
    "Cours : Plotly Dash - Développement d'applications Web interactives en Python\n",
    "\n",
    "Lien : https://www.youtube.com/watch?v=7m0Bq1EGPPg\n",
    "\n",
    "Dans ce 2ème programme, on a recours cette fois-ci aux décorateurs @ (callback)\n",
    "\n",
    "Dans ce programme on a une zone de saisie (widget Input()) avec affichage au-dessus de ce qu'on a saisie dans une zone de texte en-dessous (widget Markdown()).\n",
    "\n",
    "Pour cela, on a recours à un décorateur :\n",
    "\n",
    "- La zone de saisie en 2ème ligne est une entrée (Input())\n",
    "\n",
    "- La zone de texte en 1ère ligne est une sortie (Output()) : affichage des données saisies dans la zone de saisie\n",
    "\n",
    "Date : 19-02-23\n"
   ]
  },
  {
   "cell_type": "code",
   "execution_count": 1,
   "metadata": {},
   "outputs": [
    {
     "name": "stdout",
     "output_type": "stream",
     "text": [
      "Dash is running on http://127.0.0.1:8052/\n",
      "\n",
      " * Serving Flask app '__main__'\n",
      " * Debug mode: off\n"
     ]
    },
    {
     "name": "stderr",
     "output_type": "stream",
     "text": [
      "WARNING: This is a development server. Do not use it in a production deployment. Use a production WSGI server instead.\n",
      " * Running on http://127.0.0.1:8052\n",
      "Press CTRL+C to quit\n",
      "127.0.0.1 - - [27/Feb/2023 08:21:39] \"GET / HTTP/1.1\" 200 -\n",
      "127.0.0.1 - - [27/Feb/2023 08:21:39] \"GET /_dash-component-suites/dash/deps/polyfill@7.v2_8_1m1676663989.12.1.min.js HTTP/1.1\" 200 -\n",
      "127.0.0.1 - - [27/Feb/2023 08:21:39] \"GET /_dash-component-suites/dash/deps/react@16.v2_8_1m1676663989.14.0.min.js HTTP/1.1\" 200 -\n",
      "127.0.0.1 - - [27/Feb/2023 08:21:39] \"GET /_dash-component-suites/dash/deps/react-dom@16.v2_8_1m1676663989.14.0.min.js HTTP/1.1\" 200 -\n",
      "127.0.0.1 - - [27/Feb/2023 08:21:39] \"GET /_dash-component-suites/dash/deps/prop-types@15.v2_8_1m1676663989.8.1.min.js HTTP/1.1\" 200 -\n",
      "127.0.0.1 - - [27/Feb/2023 08:21:39] \"GET /_dash-component-suites/dash/dcc/dash_core_components-shared.v2_8_0m1676663989.js HTTP/1.1\" 200 -\n",
      "127.0.0.1 - - [27/Feb/2023 08:21:39] \"GET /_dash-component-suites/dash_bootstrap_components/_components/dash_bootstrap_components.v1_3_1m1676809805.min.js HTTP/1.1\" 200 -\n",
      "127.0.0.1 - - [27/Feb/2023 08:21:39] \"GET /_dash-component-suites/dash/dash_table/bundle.v5_2_2m1676663988.js HTTP/1.1\" 200 -\n",
      "127.0.0.1 - - [27/Feb/2023 08:21:39] \"GET /_dash-component-suites/dash/dash-renderer/build/dash_renderer.v2_8_1m1676663988.min.js HTTP/1.1\" 200 -\n",
      "127.0.0.1 - - [27/Feb/2023 08:21:39] \"GET /_dash-component-suites/dash/html/dash_html_components.v2_0_8m1676663989.min.js HTTP/1.1\" 200 -\n",
      "127.0.0.1 - - [27/Feb/2023 08:21:39] \"GET /_dash-component-suites/dash/dcc/dash_core_components.v2_8_0m1676663989.js HTTP/1.1\" 200 -\n",
      "127.0.0.1 - - [27/Feb/2023 08:21:40] \"GET /_dash-layout HTTP/1.1\" 200 -\n",
      "127.0.0.1 - - [27/Feb/2023 08:21:40] \"GET /_dash-dependencies HTTP/1.1\" 200 -\n",
      "127.0.0.1 - - [27/Feb/2023 08:21:40] \"POST /_dash-update-component HTTP/1.1\" 200 -\n",
      "127.0.0.1 - - [27/Feb/2023 08:21:40] \"GET /_dash-component-suites/dash/dcc/async-markdown.js HTTP/1.1\" 200 -\n",
      "127.0.0.1 - - [27/Feb/2023 08:21:40] \"GET /_dash-component-suites/dash/dcc/async-highlight.js HTTP/1.1\" 200 -\n",
      "127.0.0.1 - - [27/Feb/2023 08:21:40] \"GET /_favicon.ico?v=2.8.1 HTTP/1.1\" 200 -\n",
      "127.0.0.1 - - [27/Feb/2023 08:21:42] \"POST /_dash-update-component HTTP/1.1\" 200 -\n",
      "127.0.0.1 - - [27/Feb/2023 08:21:42] \"POST /_dash-update-component HTTP/1.1\" 200 -\n",
      "127.0.0.1 - - [27/Feb/2023 08:21:42] \"POST /_dash-update-component HTTP/1.1\" 200 -\n",
      "127.0.0.1 - - [27/Feb/2023 08:21:43] \"POST /_dash-update-component HTTP/1.1\" 200 -\n",
      "127.0.0.1 - - [27/Feb/2023 08:21:43] \"POST /_dash-update-component HTTP/1.1\" 200 -\n",
      "127.0.0.1 - - [27/Feb/2023 08:21:43] \"POST /_dash-update-component HTTP/1.1\" 200 -\n",
      "127.0.0.1 - - [27/Feb/2023 08:21:43] \"POST /_dash-update-component HTTP/1.1\" 200 -\n",
      "127.0.0.1 - - [27/Feb/2023 08:21:43] \"POST /_dash-update-component HTTP/1.1\" 200 -\n",
      "127.0.0.1 - - [27/Feb/2023 08:21:43] \"POST /_dash-update-component HTTP/1.1\" 200 -\n",
      "127.0.0.1 - - [27/Feb/2023 08:21:43] \"POST /_dash-update-component HTTP/1.1\" 200 -\n",
      "127.0.0.1 - - [27/Feb/2023 08:21:44] \"POST /_dash-update-component HTTP/1.1\" 200 -\n",
      "127.0.0.1 - - [27/Feb/2023 08:21:44] \"POST /_dash-update-component HTTP/1.1\" 200 -\n",
      "127.0.0.1 - - [27/Feb/2023 08:21:44] \"POST /_dash-update-component HTTP/1.1\" 200 -\n",
      "127.0.0.1 - - [27/Feb/2023 08:21:44] \"POST /_dash-update-component HTTP/1.1\" 200 -\n",
      "127.0.0.1 - - [27/Feb/2023 08:21:44] \"POST /_dash-update-component HTTP/1.1\" 200 -\n",
      "127.0.0.1 - - [27/Feb/2023 08:21:44] \"POST /_dash-update-component HTTP/1.1\" 200 -\n",
      "127.0.0.1 - - [27/Feb/2023 08:21:45] \"POST /_dash-update-component HTTP/1.1\" 200 -\n",
      "127.0.0.1 - - [27/Feb/2023 08:21:45] \"POST /_dash-update-component HTTP/1.1\" 200 -\n",
      "127.0.0.1 - - [27/Feb/2023 08:21:45] \"POST /_dash-update-component HTTP/1.1\" 200 -\n",
      "127.0.0.1 - - [27/Feb/2023 08:21:45] \"POST /_dash-update-component HTTP/1.1\" 200 -\n",
      "127.0.0.1 - - [27/Feb/2023 08:21:46] \"POST /_dash-update-component HTTP/1.1\" 200 -\n",
      "127.0.0.1 - - [27/Feb/2023 08:21:46] \"POST /_dash-update-component HTTP/1.1\" 200 -\n",
      "127.0.0.1 - - [27/Feb/2023 08:21:46] \"POST /_dash-update-component HTTP/1.1\" 200 -\n",
      "127.0.0.1 - - [27/Feb/2023 08:21:46] \"POST /_dash-update-component HTTP/1.1\" 200 -\n",
      "127.0.0.1 - - [27/Feb/2023 08:21:46] \"POST /_dash-update-component HTTP/1.1\" 200 -\n",
      "127.0.0.1 - - [27/Feb/2023 08:21:46] \"POST /_dash-update-component HTTP/1.1\" 200 -\n",
      "127.0.0.1 - - [27/Feb/2023 08:21:46] \"POST /_dash-update-component HTTP/1.1\" 200 -\n",
      "127.0.0.1 - - [27/Feb/2023 08:21:46] \"POST /_dash-update-component HTTP/1.1\" 200 -\n",
      "127.0.0.1 - - [27/Feb/2023 08:21:46] \"POST /_dash-update-component HTTP/1.1\" 200 -\n",
      "127.0.0.1 - - [27/Feb/2023 08:21:46] \"POST /_dash-update-component HTTP/1.1\" 200 -\n",
      "127.0.0.1 - - [27/Feb/2023 08:21:46] \"POST /_dash-update-component HTTP/1.1\" 200 -\n",
      "127.0.0.1 - - [27/Feb/2023 08:21:46] \"POST /_dash-update-component HTTP/1.1\" 200 -\n",
      "127.0.0.1 - - [27/Feb/2023 08:21:46] \"POST /_dash-update-component HTTP/1.1\" 200 -\n",
      "127.0.0.1 - - [27/Feb/2023 08:21:46] \"POST /_dash-update-component HTTP/1.1\" 200 -\n",
      "127.0.0.1 - - [27/Feb/2023 08:21:46] \"POST /_dash-update-component HTTP/1.1\" 200 -\n",
      "127.0.0.1 - - [27/Feb/2023 08:21:46] \"POST /_dash-update-component HTTP/1.1\" 200 -\n"
     ]
    }
   ],
   "source": [
    "# If you prefer to run the code online instead of on your computer click:\n",
    "# https://github.com/Coding-with-Adam/Dash-by-Plotly#execute-code-in-browser\n",
    "\n",
    "from dash import Dash, dcc, Output, Input  # Output : sortie / input : entrées\n",
    "import dash_bootstrap_components as dbc   \n",
    "\n",
    "# Build your components (composants)\n",
    "# Appel des widgets avec un thème spécifique\n",
    "app = Dash(__name__, external_stylesheets=[dbc.themes.SOLAR]) \n",
    "# 1ère ligne - widget Markdown() : zone de texte\n",
    "mytext = dcc.Markdown(children='') \n",
    "# 2ème ligne - widget Input() : zone de saisie\n",
    "myinput = dbc.Input(value=\"# Hello World - let's build web apps in Python!\") \n",
    "\n",
    "# Mise en page\n",
    "app.layout = dbc.Container([mytext, myinput])\n",
    "\n",
    "# Intéractions entre les deux composants déclarés ci-avant à partir d'un décorateur\n",
    "@app.callback(\n",
    "    # Sortie\n",
    "    Output(\n",
    "        mytext, # zone de texte\n",
    "        component_property='children' # paramètre appelé du widget mytext\n",
    "        ), \n",
    "    # Entrée\n",
    "    Input(\n",
    "        myinput, # zone de saisie\n",
    "        component_property='value' # paramètre appelé du widget myinput\n",
    "        ) \n",
    ")\n",
    "\n",
    "# Fonction appelée en tant que décorateur : mise à jour de la saisie effectuée\n",
    "def update_title(user_input):  # function arguments come from the component property of the Input\n",
    "    return user_input  # returned objects are assigned to the component property of the Output\n",
    "\n",
    "# Run app\n",
    "if __name__=='__main__':\n",
    "    app.run_server(port=8052)"
   ]
  }
 ],
 "metadata": {
  "kernelspec": {
   "display_name": ".venv",
   "language": "python",
   "name": "python3"
  },
  "language_info": {
   "codemirror_mode": {
    "name": "ipython",
    "version": 3
   },
   "file_extension": ".py",
   "mimetype": "text/x-python",
   "name": "python",
   "nbconvert_exporter": "python",
   "pygments_lexer": "ipython3",
   "version": "3.9.2"
  },
  "orig_nbformat": 4,
  "vscode": {
   "interpreter": {
    "hash": "c2dfe9b7c1976225a80f652a238d92ca8d58ae6056794c0c2011ad2ef6627894"
   }
  }
 },
 "nbformat": 4,
 "nbformat_minor": 2
}
