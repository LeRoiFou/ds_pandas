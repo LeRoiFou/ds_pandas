{
 "cells": [
  {
   "attachments": {},
   "cell_type": "markdown",
   "metadata": {},
   "source": [
    "##### Cours : OpenClassRooms\n",
    "\n",
    "Opérations complexes dans des tableaux avec numpy\n",
    "\n",
    "##### Date : 03-01-23\n",
    "***"
   ]
  },
  {
   "cell_type": "code",
   "execution_count": 1,
   "metadata": {},
   "outputs": [],
   "source": [
    "import pandas as pd\n",
    "import numpy as np"
   ]
  },
  {
   "attachments": {},
   "cell_type": "markdown",
   "metadata": {},
   "source": [
    "##### <font color = 'green'>Différence entre l'objet list et l'objet array </font>\n",
    "\n",
    "Calculs complexes dans des tableaux avec le package Numpy en recourant à l'objet array <br>\n",
    "L'objet array est similaire à l'objet list, mais l'array permet d'effectuer de manière rapide les opérations complexes\n",
    "\n",
    "Un array peut aller 30 x plus vite qu'une liste qui s'explique par le fait que l'array ne peut contenir qu'un seul type d'objet contrairement à une liste <br>\n",
    "Si dans la liste de départ il y a des données de types différents, NumPy essaiera de tous les convertir au type le plus général. <br>\n",
    "Par exemple, si un tableau contient des entiers (int) et des nombres décimaux (float), tous ses éléments seront convertis en nombres décimaux (float)"
   ]
  },
  {
   "cell_type": "code",
   "execution_count": 2,
   "metadata": {},
   "outputs": [],
   "source": [
    "revenus = [1800, 1500, 2200, 3000, 2172]"
   ]
  },
  {
   "cell_type": "code",
   "execution_count": 3,
   "metadata": {},
   "outputs": [
    {
     "data": {
      "text/plain": [
       "2134.4"
      ]
     },
     "execution_count": 3,
     "metadata": {},
     "output_type": "execute_result"
    }
   ],
   "source": [
    "# En recourant à une liste\n",
    "def moyenne(liste):\n",
    "    return sum(liste)/len(liste)\n",
    "\n",
    "moyenne(revenus) # => 2135.0"
   ]
  },
  {
   "cell_type": "code",
   "execution_count": 4,
   "metadata": {},
   "outputs": [
    {
     "data": {
      "text/plain": [
       "2134.4"
      ]
     },
     "execution_count": 4,
     "metadata": {},
     "output_type": "execute_result"
    }
   ],
   "source": [
    "# En recourant à un array\n",
    "np.mean(revenus)"
   ]
  },
  {
   "attachments": {},
   "cell_type": "markdown",
   "metadata": {},
   "source": [
    "##### <font color = 'green'>Création d'un array Numpy</font>\n",
    "\n",
    "Méthode la plus simple : convertion d'une liste en un array"
   ]
  },
  {
   "cell_type": "code",
   "execution_count": 5,
   "metadata": {},
   "outputs": [
    {
     "data": {
      "text/plain": [
       "array([1800, 1500, 2200, 3000, 2172])"
      ]
     },
     "execution_count": 5,
     "metadata": {},
     "output_type": "execute_result"
    }
   ],
   "source": [
    "revenus_array = np.array(revenus)\n",
    "revenus_array"
   ]
  },
  {
   "attachments": {},
   "cell_type": "markdown",
   "metadata": {},
   "source": [
    "Création d'un objet array multidimentionnel (tableau avec + d'une colonne)"
   ]
  },
  {
   "cell_type": "code",
   "execution_count": 6,
   "metadata": {},
   "outputs": [
    {
     "data": {
      "text/plain": [
       "array([[1, 2],\n",
       "       [3, 4],\n",
       "       [5, 6]])"
      ]
     },
     "execution_count": 6,
     "metadata": {},
     "output_type": "execute_result"
    }
   ],
   "source": [
    "tab1 = np.array([[1, 2],\n",
    "    [3, 4],\n",
    "    [5, 6]])\n",
    "tab1 # Tableau de 3 lignes et 2 colonnes"
   ]
  },
  {
   "cell_type": "code",
   "execution_count": 7,
   "metadata": {},
   "outputs": [
    {
     "data": {
      "text/plain": [
       "array([[1, 2, 3],\n",
       "       [4, 5, 6]])"
      ]
     },
     "execution_count": 7,
     "metadata": {},
     "output_type": "execute_result"
    }
   ],
   "source": [
    "tab2 = np.array([[1, 2, 3],\n",
    "        [4, 5, 6]])\n",
    "tab2 # Tableau de 2 lignes et 3 colonnes"
   ]
  },
  {
   "cell_type": "code",
   "execution_count": 8,
   "metadata": {},
   "outputs": [
    {
     "data": {
      "text/plain": [
       "array([[1., 1., 1., 1., 1.],\n",
       "       [1., 1., 1., 1., 1.],\n",
       "       [1., 1., 1., 1., 1.]])"
      ]
     },
     "execution_count": 8,
     "metadata": {},
     "output_type": "execute_result"
    }
   ],
   "source": [
    "# un tableau de 3x5 rempli de 1\n",
    "np.ones((3, 5))"
   ]
  },
  {
   "cell_type": "code",
   "execution_count": 9,
   "metadata": {},
   "outputs": [
    {
     "data": {
      "text/plain": [
       "array([[0., 0., 0., 0.],\n",
       "       [0., 0., 0., 0.],\n",
       "       [0., 0., 0., 0.],\n",
       "       [0., 0., 0., 0.]])"
      ]
     },
     "execution_count": 9,
     "metadata": {},
     "output_type": "execute_result"
    }
   ],
   "source": [
    "# un tableau de 4 lignes et de 4 colonnes contenant que des 0\n",
    "np.zeros((4, 4))"
   ]
  },
  {
   "cell_type": "code",
   "execution_count": 10,
   "metadata": {},
   "outputs": [
    {
     "data": {
      "text/plain": [
       "array([[0.13456374, 0.93416447, 0.65389803],\n",
       "       [0.15407092, 0.70208826, 0.87629455],\n",
       "       [0.40807902, 0.85699477, 0.13004214],\n",
       "       [0.87120827, 0.1279119 , 0.01839612],\n",
       "       [0.43735417, 0.12547758, 0.02917253],\n",
       "       [0.5016848 , 0.26088697, 0.61639987]])"
      ]
     },
     "execution_count": 10,
     "metadata": {},
     "output_type": "execute_result"
    }
   ],
   "source": [
    "# un tableau de 6x3 rempli de valeurs aléatoires comprises entre 0 et 1\n",
    "np.random.random((6, 3))"
   ]
  },
  {
   "cell_type": "code",
   "execution_count": 11,
   "metadata": {},
   "outputs": [
    {
     "data": {
      "text/plain": [
       "array([[4, 9, 6],\n",
       "       [8, 5, 9],\n",
       "       [6, 6, 6]])"
      ]
     },
     "execution_count": 11,
     "metadata": {},
     "output_type": "execute_result"
    }
   ],
   "source": [
    "# un tableau de 3x3 rempli de valeurs aléatoires entières, comprises entre 1 et 10\n",
    "np.random.randint(1, 10, size=(3, 3))"
   ]
  },
  {
   "attachments": {},
   "cell_type": "markdown",
   "metadata": {},
   "source": [
    "##### <font color = 'green'>Les différentes fonctions avec le package Numpy</font>\n",
    "\n",
    "**Création d'un array :** <br>\n",
    "np.zeros(n): permet de créer un array rempli de 0, de n éléments <br>\n",
    "np.ones(n) : similaire en tous points à la fonction présentée ci-dessus, à la différence que l’array sera rempli cette fois-ci de 1 <br>\n",
    "np.arange(i, j, p)  : permet de créer un array rempli avec une séquence linéaire, qui ira de i à j, par pas de p <br>\n",
    "np.linspace(i, j, n) : permet de créer un array de  n  valeurs espacées uniformément entre i et j <br>\n",
    "\n",
    "**Sur le contenu de l'array :** <br>\n",
    "nom_array.dtype : type (unique) présent dans l'array <br>\n",
    "nom_array.shape : dimensions de l'array <br>\n",
    "\n",
    "**Les méthodes de calcul :** <br>\n",
    "nom_array.mean() : moyenne<br>\n",
    "nom_array.max() : maximum<br>\n",
    "nom_array.min() : minimum<br>\n",
    "nom_array.argmax() : accès à l'indice de l'élément maximum<br>\n",
    "nom_array.argmin() : accès à l'indice de l'élément minimum<br>\n",
    "nom_array.sort() : trie croissant<br>\n",
    "nom_array.sum() : somme"
   ]
  },
  {
   "cell_type": "code",
   "execution_count": 12,
   "metadata": {},
   "outputs": [
    {
     "data": {
      "text/plain": [
       "dtype('int32')"
      ]
     },
     "execution_count": 12,
     "metadata": {},
     "output_type": "execute_result"
    }
   ],
   "source": [
    "revenus_array.dtype \n",
    "# int32 -> nombre de 32 bits (= 2 ^ 31 chiffres entiers soit de - 2 147 483 648 à 2 147 483 647)\n",
    "# int8 -> nombre de 8 bits (= 2 ^ 7 chiffres entiers soit de - 128 à 127)"
   ]
  },
  {
   "cell_type": "code",
   "execution_count": 13,
   "metadata": {},
   "outputs": [
    {
     "data": {
      "text/plain": [
       "(5,)"
      ]
     },
     "execution_count": 13,
     "metadata": {},
     "output_type": "execute_result"
    }
   ],
   "source": [
    "revenus_array.shape\n",
    "# L'array comprend 5 éléments"
   ]
  },
  {
   "cell_type": "code",
   "execution_count": 14,
   "metadata": {},
   "outputs": [
    {
     "data": {
      "text/plain": [
       "2134.4"
      ]
     },
     "execution_count": 14,
     "metadata": {},
     "output_type": "execute_result"
    }
   ],
   "source": [
    "# calculer la moyenne\n",
    "revenus_array.mean()"
   ]
  },
  {
   "cell_type": "code",
   "execution_count": 15,
   "metadata": {},
   "outputs": [
    {
     "data": {
      "text/plain": [
       "3000"
      ]
     },
     "execution_count": 15,
     "metadata": {},
     "output_type": "execute_result"
    }
   ],
   "source": [
    "# calculer le maximum :\n",
    "revenus_array.max()"
   ]
  },
  {
   "cell_type": "code",
   "execution_count": 16,
   "metadata": {},
   "outputs": [
    {
     "data": {
      "text/plain": [
       "1500"
      ]
     },
     "execution_count": 16,
     "metadata": {},
     "output_type": "execute_result"
    }
   ],
   "source": [
    "# calculer le le minimum :\n",
    "revenus_array.min()"
   ]
  },
  {
   "cell_type": "code",
   "execution_count": 17,
   "metadata": {},
   "outputs": [
    {
     "data": {
      "text/plain": [
       "1"
      ]
     },
     "execution_count": 17,
     "metadata": {},
     "output_type": "execute_result"
    }
   ],
   "source": [
    "# accéder à l’indice de l’élement minimum :\n",
    "revenus_array.argmin()\n"
   ]
  },
  {
   "cell_type": "code",
   "execution_count": 18,
   "metadata": {},
   "outputs": [
    {
     "data": {
      "text/plain": [
       "3"
      ]
     },
     "execution_count": 18,
     "metadata": {},
     "output_type": "execute_result"
    }
   ],
   "source": [
    "# accéder à l’indice de l’élement maximum :\n",
    "revenus_array.argmax()"
   ]
  },
  {
   "cell_type": "code",
   "execution_count": 19,
   "metadata": {},
   "outputs": [
    {
     "data": {
      "text/plain": [
       "array([1500, 1800, 2172, 2200, 3000])"
      ]
     },
     "execution_count": 19,
     "metadata": {},
     "output_type": "execute_result"
    }
   ],
   "source": [
    "# ordonner par ordre croissant :\n",
    "revenus_array.sort()\n",
    "revenus_array"
   ]
  },
  {
   "cell_type": "code",
   "execution_count": 20,
   "metadata": {},
   "outputs": [
    {
     "data": {
      "text/plain": [
       "10672"
      ]
     },
     "execution_count": 20,
     "metadata": {},
     "output_type": "execute_result"
    }
   ],
   "source": [
    "# calculer la somme :\n",
    "revenus_array.sum()"
   ]
  },
  {
   "attachments": {},
   "cell_type": "markdown",
   "metadata": {},
   "source": [
    "##### <font color = 'green'>Accès à un élément d'un array </font>\n",
    "\n",
    "L’accès à un élément spécifique d’un array se fait via la syntaxe :  nom_array[indice]"
   ]
  },
  {
   "cell_type": "code",
   "execution_count": 21,
   "metadata": {},
   "outputs": [
    {
     "data": {
      "text/plain": [
       "3000"
      ]
     },
     "execution_count": 21,
     "metadata": {},
     "output_type": "execute_result"
    }
   ],
   "source": [
    "# pour accéder au 5ème élement\n",
    "revenus_array[4]"
   ]
  },
  {
   "cell_type": "code",
   "execution_count": 22,
   "metadata": {},
   "outputs": [
    {
     "data": {
      "text/plain": [
       "3000"
      ]
     },
     "execution_count": 22,
     "metadata": {},
     "output_type": "execute_result"
    }
   ],
   "source": [
    "# pour accéder au dernier élément\n",
    "revenus_array[-1]"
   ]
  },
  {
   "cell_type": "code",
   "execution_count": 23,
   "metadata": {},
   "outputs": [
    {
     "data": {
      "text/plain": [
       "array([1500, 1900, 2172, 2200, 3000])"
      ]
     },
     "execution_count": 23,
     "metadata": {},
     "output_type": "execute_result"
    }
   ],
   "source": [
    "# On peut aussi modifier les valeurs\n",
    "revenus_array[1] = 1900\n",
    "revenus_array"
   ]
  },
  {
   "attachments": {},
   "cell_type": "markdown",
   "metadata": {},
   "source": [
    "##### <font color = 'green'>Accédez à plusieurs éléments contigus </font>\n",
    "\n",
    "Nous pouvons accéder à un ensemble d'éléments contigus en combinant [] et : . <br>\n",
    "La syntaxe suit une règle simple : nom_array[i:j:p], avec : <br>\n",
    " i  : l’indice du début <br>\n",
    " j  : l’indice de fin <br>\n",
    " p : le pas <br>\n",
    "permettant de sélectionner tous les éléments compris entre l’indice i inclus, jusqu’à  j-1 (l’élément d’indice j est forcément exclu)"
   ]
  },
  {
   "cell_type": "code",
   "execution_count": 24,
   "metadata": {},
   "outputs": [
    {
     "data": {
      "text/plain": [
       "array([1500, 1900, 2172])"
      ]
     },
     "execution_count": 24,
     "metadata": {},
     "output_type": "execute_result"
    }
   ],
   "source": [
    "revenus_array[0:3] # Accès aux éléments indice 0 jusqu'à l'indice 2 (indice 3 exclu)"
   ]
  },
  {
   "cell_type": "code",
   "execution_count": 25,
   "metadata": {},
   "outputs": [
    {
     "data": {
      "text/plain": [
       "array([1500, 1900, 2172])"
      ]
     },
     "execution_count": 25,
     "metadata": {},
     "output_type": "execute_result"
    }
   ],
   "source": [
    "# Les 3 premiers éléments\n",
    "revenus_array[:3]"
   ]
  },
  {
   "cell_type": "code",
   "execution_count": 26,
   "metadata": {},
   "outputs": [
    {
     "data": {
      "text/plain": [
       "array([2172, 2200, 3000])"
      ]
     },
     "execution_count": 26,
     "metadata": {},
     "output_type": "execute_result"
    }
   ],
   "source": [
    "# Les éléments à partir de l’indice 2\n",
    "revenus_array[2:]"
   ]
  },
  {
   "cell_type": "code",
   "execution_count": 27,
   "metadata": {},
   "outputs": [
    {
     "data": {
      "text/plain": [
       "array([1500, 2172, 3000])"
      ]
     },
     "execution_count": 27,
     "metadata": {},
     "output_type": "execute_result"
    }
   ],
   "source": [
    "# Un élément sur deux\n",
    "revenus_array[::2]"
   ]
  },
  {
   "cell_type": "code",
   "execution_count": 28,
   "metadata": {},
   "outputs": [
    {
     "data": {
      "text/plain": [
       "array([3000, 2200, 2172, 1900, 1500])"
      ]
     },
     "execution_count": 28,
     "metadata": {},
     "output_type": "execute_result"
    }
   ],
   "source": [
    "# Éléments inversés du tableau\n",
    "revenus_array[::-1]"
   ]
  },
  {
   "attachments": {},
   "cell_type": "markdown",
   "metadata": {},
   "source": [
    "##### <font color = 'green'>Accédez à plusieurs éléments selon une condition </font>\n",
    "\n",
    "On peut cependant souhaiter aller plus loin dans l’accès aux différents éléments. <br>\n",
    "En effet, lors d’une étude de données on est régulièrement amené à devoir sélectionner une partie de nos données, selon un critère (ex. un genre spécifique) ou une condition (ex. toutes les personnes en dessous d’un certain âge). <br>\n",
    "De la même façon qu’il est possible de sélectionner des éléments via leur indice, il est possible avec les arrays NumPy de renseigner la condition selon laquelle on souhaite sélectionner les éléments du tableau, avec l’écriture : nom_array[condition de sélection]"
   ]
  },
  {
   "cell_type": "code",
   "execution_count": 29,
   "metadata": {},
   "outputs": [
    {
     "data": {
      "text/plain": [
       "array([2172, 2200, 3000])"
      ]
     },
     "execution_count": 29,
     "metadata": {},
     "output_type": "execute_result"
    }
   ],
   "source": [
    "# Valeurs uniquement supérieures à 2 000\n",
    "revenus_array[revenus_array > 2_000]"
   ]
  },
  {
   "cell_type": "code",
   "execution_count": 30,
   "metadata": {},
   "outputs": [
    {
     "data": {
      "text/plain": [
       "array([2172, 2200])"
      ]
     },
     "execution_count": 30,
     "metadata": {},
     "output_type": "execute_result"
    }
   ],
   "source": [
    "# Valeurs comprises entre supérieures à 2000 et inférieures à 3000\n",
    "revenus_array[(revenus_array > 2_000) & (revenus_array < 3_000)]"
   ]
  },
  {
   "cell_type": "code",
   "execution_count": 31,
   "metadata": {},
   "outputs": [
    {
     "data": {
      "text/plain": [
       "array([1500, 1900, 2172, 2500, 3000])"
      ]
     },
     "execution_count": 31,
     "metadata": {},
     "output_type": "execute_result"
    }
   ],
   "source": [
    "# Modifier la valeur d'un élément\n",
    "revenus_array[revenus_array == 2_200] = 2_500\n",
    "revenus_array"
   ]
  },
  {
   "attachments": {},
   "cell_type": "markdown",
   "metadata": {},
   "source": [
    "##### <font color = 'green'>Synthèse - exemple n° 1</font>\n",
    "\n",
    "Exemple des données d'une banque pour 10 clients : revenus, mensualité et âge"
   ]
  },
  {
   "cell_type": "code",
   "execution_count": 32,
   "metadata": {},
   "outputs": [
    {
     "data": {
      "text/plain": [
       "[[1300, 400, 23],\n",
       " [1700, 560, 24],\n",
       " [2500, 900, 30],\n",
       " [3000, 1000, 22],\n",
       " [2400, 700, 28],\n",
       " [3000, 700, 34],\n",
       " [3500, 900, 35],\n",
       " [4000, 1200, 33],\n",
       " [3300, 950, 27],\n",
       " [1850, 600, 25]]"
      ]
     },
     "execution_count": 32,
     "metadata": {},
     "output_type": "execute_result"
    }
   ],
   "source": [
    "# Revenu, mensualité, âge par client d'une banque (10 clients)\n",
    "hugo = [1300, 400, 23]\n",
    "richard = [1700, 560, 24]\n",
    "emilie = [2500, 900, 30]\n",
    "gaspard = [3000, 1000, 22]\n",
    "yohann = [2400, 700, 28]\n",
    "chloe = [3000, 700, 34]\n",
    "matthieu = [3500, 900, 35]\n",
    "luc = [4000, 1200, 33]\n",
    "rachel = [3300, 950, 27]\n",
    "maud = [1850, 600, 25]\n",
    "\n",
    "tableau = [hugo, richard, emilie, gaspard, yohann,\n",
    "           chloe, matthieu, luc, rachel, maud]\n",
    "tableau # 10 lignes et 3 colonnes"
   ]
  },
  {
   "cell_type": "code",
   "execution_count": 33,
   "metadata": {},
   "outputs": [
    {
     "data": {
      "text/plain": [
       "array([[1300,  400,   23],\n",
       "       [1700,  560,   24],\n",
       "       [2500,  900,   30],\n",
       "       [3000, 1000,   22],\n",
       "       [2400,  700,   28],\n",
       "       [3000,  700,   34],\n",
       "       [3500,  900,   35],\n",
       "       [4000, 1200,   33],\n",
       "       [3300,  950,   27],\n",
       "       [1850,  600,   25]])"
      ]
     },
     "execution_count": 33,
     "metadata": {},
     "output_type": "execute_result"
    }
   ],
   "source": [
    "# Conversion en un array numpy\n",
    "data = np.array(tableau)\n",
    "data"
   ]
  },
  {
   "cell_type": "code",
   "execution_count": 34,
   "metadata": {},
   "outputs": [
    {
     "data": {
      "text/plain": [
       "1300"
      ]
     },
     "execution_count": 34,
     "metadata": {},
     "output_type": "execute_result"
    }
   ],
   "source": [
    "# Accès au 1er revenu du 1er client\n",
    "data[0, 0]"
   ]
  },
  {
   "cell_type": "code",
   "execution_count": 35,
   "metadata": {},
   "outputs": [
    {
     "data": {
      "text/plain": [
       "array([1300,  400,   23])"
      ]
     },
     "execution_count": 35,
     "metadata": {},
     "output_type": "execute_result"
    }
   ],
   "source": [
    "# Accès à la 1ère ligne (client hugo)\n",
    "data[0, :]"
   ]
  },
  {
   "cell_type": "code",
   "execution_count": 36,
   "metadata": {},
   "outputs": [
    {
     "data": {
      "text/plain": [
       "array([23, 24, 30, 22, 28, 34, 35, 33, 27, 25])"
      ]
     },
     "execution_count": 36,
     "metadata": {},
     "output_type": "execute_result"
    }
   ],
   "source": [
    "# Accès à la 3ème colonne (âge)\n",
    "data[:, 2]"
   ]
  },
  {
   "cell_type": "code",
   "execution_count": 37,
   "metadata": {},
   "outputs": [
    {
     "data": {
      "text/plain": [
       "array([[1300,  400,   23],\n",
       "       [1700,  560,   24],\n",
       "       [3000, 1000,   22],\n",
       "       [1850,  600,   25]])"
      ]
     },
     "execution_count": 37,
     "metadata": {},
     "output_type": "execute_result"
    }
   ],
   "source": [
    "# Toutes les données des personnes qui ont 25 ans max\n",
    "data[data[:, 2] <= 25]"
   ]
  },
  {
   "cell_type": "code",
   "execution_count": 38,
   "metadata": {},
   "outputs": [
    {
     "data": {
      "text/plain": [
       "array([[2500,  900,   30],\n",
       "       [3000, 1000,   22],\n",
       "       [2400,  700,   28],\n",
       "       [3000,  700,   34],\n",
       "       [3500,  900,   35],\n",
       "       [4000, 1200,   33],\n",
       "       [3300,  950,   27]])"
      ]
     },
     "execution_count": 38,
     "metadata": {},
     "output_type": "execute_result"
    }
   ],
   "source": [
    "# Toutes les données des revenus supérieurs à 2 000 €\n",
    "data[data[:, 0] > 2_000]"
   ]
  },
  {
   "cell_type": "code",
   "execution_count": 39,
   "metadata": {},
   "outputs": [],
   "source": [
    "# Nouveau client\n",
    "fred = [1750, 700, 27]"
   ]
  },
  {
   "cell_type": "code",
   "execution_count": 40,
   "metadata": {},
   "outputs": [
    {
     "data": {
      "text/plain": [
       "array([[1300,  400,   23],\n",
       "       [1700,  560,   24],\n",
       "       [2500,  900,   30],\n",
       "       [3000, 1000,   22],\n",
       "       [2400,  700,   28],\n",
       "       [3000,  700,   34],\n",
       "       [3500,  900,   35],\n",
       "       [4000, 1200,   33],\n",
       "       [3300,  950,   27],\n",
       "       [1850,  600,   25],\n",
       "       [1750,  700,   27]])"
      ]
     },
     "execution_count": 40,
     "metadata": {},
     "output_type": "execute_result"
    }
   ],
   "source": [
    "# Ajout du client fred dans l'array numpy\n",
    "np.vstack((data, fred))"
   ]
  },
  {
   "attachments": {},
   "cell_type": "markdown",
   "metadata": {},
   "source": [
    "##### <font color = 'green'>Synthèse - exemple n° 2</font>\n",
    "\n",
    "Même exemple que le précédent mais avec d'autres clients, mais avec les données suivantes : revenu mensuel, âge du client, nombre d'enfants à charge"
   ]
  },
  {
   "cell_type": "code",
   "execution_count": 41,
   "metadata": {},
   "outputs": [
    {
     "data": {
      "text/plain": [
       "[[1800, 21, 0],\n",
       " [1500, 54, 2],\n",
       " [2200, 28, 3],\n",
       " [3000, 37, 1],\n",
       " [2172, 37, 2],\n",
       " [5000, 32, 0],\n",
       " [1400, 23, 0],\n",
       " [1200, 25, 1],\n",
       " [1100, 19, 0],\n",
       " [1300, 31, 2]]"
      ]
     },
     "execution_count": 41,
     "metadata": {},
     "output_type": "execute_result"
    }
   ],
   "source": [
    "hugo = [1800, 21, 0]\n",
    "richard = [1500, 54, 2]\n",
    "emilie = [2200, 28, 3]\n",
    "pierre = [3000, 37, 1]\n",
    "paul = [2172, 37, 2]\n",
    "deborah = [5000, 32, 0]\n",
    "yohann = [1400, 23, 0]\n",
    "anne = [1200, 25, 1]\n",
    "thibault = [1100, 19, 0]\n",
    "emmanuel = [1300, 31, 2]\n",
    "\n",
    "tableau = [hugo, richard, emilie, pierre, paul, deborah,\n",
    "           yohann, anne, thibault, emmanuel]\n",
    "tableau"
   ]
  },
  {
   "cell_type": "code",
   "execution_count": 42,
   "metadata": {},
   "outputs": [
    {
     "data": {
      "text/plain": [
       "array([[1800,   21,    0],\n",
       "       [1500,   54,    2],\n",
       "       [2200,   28,    3],\n",
       "       [3000,   37,    1],\n",
       "       [2172,   37,    2],\n",
       "       [5000,   32,    0],\n",
       "       [1400,   23,    0],\n",
       "       [1200,   25,    1],\n",
       "       [1100,   19,    0],\n",
       "       [1300,   31,    2]])"
      ]
     },
     "execution_count": 42,
     "metadata": {},
     "output_type": "execute_result"
    }
   ],
   "source": [
    "# Conversion de la liste en array numpy\n",
    "data = np.array(tableau)\n",
    "data"
   ]
  },
  {
   "attachments": {},
   "cell_type": "markdown",
   "metadata": {},
   "source": [
    "Paul souhaiterait contracter un prêt immobilier : affichez les informations qui lui sont relatives. Pour rappel, Paul correspond à la 5ème ligne de nos données\n",
    "\n",
    "Calculez ses mensualités maximales, en sachant que le taux d'endettement maximum est de 35% (il ne pourra donc pas rembourser par mois plus de 35% de son revenu)."
   ]
  },
  {
   "cell_type": "code",
   "execution_count": 43,
   "metadata": {},
   "outputs": [
    {
     "name": "stdout",
     "output_type": "stream",
     "text": [
      "Données relatives à Paul (revenu, âge, nombre d'enfants): [2172   37    2]\n",
      "---------------------------------------------------------------------------\n",
      "Mensualités maximales : 760.2 €\n"
     ]
    }
   ],
   "source": [
    "print(f\"Données relatives à Paul (revenu, âge, nombre d'enfants): {data[4,:]}\")\n",
    "print('-' * 75)\n",
    "print(f\"Mensualités maximales : {round(data[4, 0] * 0.35, 2)} €\")"
   ]
  },
  {
   "attachments": {},
   "cell_type": "markdown",
   "metadata": {},
   "source": [
    "Un nouveau client vient d'arriver, dont les informations sont les suivantes :"
   ]
  },
  {
   "cell_type": "code",
   "execution_count": 44,
   "metadata": {},
   "outputs": [],
   "source": [
    "louise = [1900, 31, 1]"
   ]
  },
  {
   "attachments": {},
   "cell_type": "markdown",
   "metadata": {},
   "source": [
    "Ajoutez ces informations à la suite de votre array data :"
   ]
  },
  {
   "cell_type": "code",
   "execution_count": 45,
   "metadata": {},
   "outputs": [
    {
     "data": {
      "text/plain": [
       "array([[1800,   21,    0],\n",
       "       [1500,   54,    2],\n",
       "       [2200,   28,    3],\n",
       "       [3000,   37,    1],\n",
       "       [2172,   37,    2],\n",
       "       [5000,   32,    0],\n",
       "       [1400,   23,    0],\n",
       "       [1200,   25,    1],\n",
       "       [1100,   19,    0],\n",
       "       [1300,   31,    2],\n",
       "       [1900,   31,    1]])"
      ]
     },
     "execution_count": 45,
     "metadata": {},
     "output_type": "execute_result"
    }
   ],
   "source": [
    "data = np.vstack((data, louise))\n",
    "data"
   ]
  },
  {
   "attachments": {},
   "cell_type": "markdown",
   "metadata": {},
   "source": [
    "Stockez enfin l'ensemble des informations de salaire de notre clientèle dans une variable revenus :"
   ]
  },
  {
   "cell_type": "code",
   "execution_count": 46,
   "metadata": {},
   "outputs": [
    {
     "data": {
      "text/plain": [
       "array([1800, 1500, 2200, 3000, 2172, 5000, 1400, 1200, 1100, 1300, 1900])"
      ]
     },
     "execution_count": 46,
     "metadata": {},
     "output_type": "execute_result"
    }
   ],
   "source": [
    "revenus = data[:, 0]\n",
    "revenus"
   ]
  }
 ],
 "metadata": {
  "kernelspec": {
   "display_name": ".venv",
   "language": "python",
   "name": "python3"
  },
  "language_info": {
   "codemirror_mode": {
    "name": "ipython",
    "version": 3
   },
   "file_extension": ".py",
   "mimetype": "text/x-python",
   "name": "python",
   "nbconvert_exporter": "python",
   "pygments_lexer": "ipython3",
   "version": "3.9.2 (tags/v3.9.2:1a79785, Feb 19 2021, 13:44:55) [MSC v.1928 64 bit (AMD64)]"
  },
  "orig_nbformat": 4,
  "vscode": {
   "interpreter": {
    "hash": "c2dfe9b7c1976225a80f652a238d92ca8d58ae6056794c0c2011ad2ef6627894"
   }
  }
 },
 "nbformat": 4,
 "nbformat_minor": 2
}
